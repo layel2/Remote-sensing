{
 "cells": [
  {
   "cell_type": "code",
   "execution_count": 1,
   "metadata": {},
   "outputs": [],
   "source": [
    "from osgeo import gdal, gdalconst\n",
    "from osgeo.gdalconst import *\n",
    "import numpy as np\n",
    "from matplotlib import pyplot as plt\n",
    "import pandas as pd"
   ]
  },
  {
   "cell_type": "code",
   "execution_count": 2,
   "metadata": {},
   "outputs": [],
   "source": [
    "img_path = './FinalQ4Image.jpg'"
   ]
  },
  {
   "cell_type": "code",
   "execution_count": 3,
   "metadata": {},
   "outputs": [],
   "source": [
    "ds = gdal.Open(img_path, GA_ReadOnly)"
   ]
  },
  {
   "cell_type": "code",
   "execution_count": 4,
   "metadata": {},
   "outputs": [],
   "source": [
    "n_band = ds.RasterCount"
   ]
  },
  {
   "cell_type": "code",
   "execution_count": 5,
   "metadata": {},
   "outputs": [],
   "source": [
    "img_width = 2448\n",
    "img_height = 2448"
   ]
  },
  {
   "cell_type": "code",
   "execution_count": 6,
   "metadata": {},
   "outputs": [],
   "source": [
    "img = np.zeros((img_width,img_height,n_band))\n",
    "for i in range(n_band):\n",
    "    band = ds.GetRasterBand(i+1)\n",
    "    data = band.ReadAsArray()\n",
    "    img[:,:,i] = data\n",
    "data = None\n",
    "band = None"
   ]
  },
  {
   "cell_type": "code",
   "execution_count": 10,
   "metadata": {},
   "outputs": [],
   "source": [
    "imgU = img.mean()\n",
    "imgStd = img.std()\n",
    "img = (img-imgU)/imgStd"
   ]
  },
  {
   "cell_type": "code",
   "execution_count": 11,
   "metadata": {},
   "outputs": [],
   "source": [
    "pointWater = pd.read_csv('./water_samples.csv').values\n",
    "pointUrban = pd.read_csv('./urban_samples.csv').values\n",
    "pointAgri = pd.read_csv('./agriculture_samples.csv').values\n",
    "pointRange = pd.read_csv('./Range_samples.csv').values\n",
    "pointBarren = pd.read_csv('./barren_samples.csv').values"
   ]
  },
  {
   "cell_type": "code",
   "execution_count": 12,
   "metadata": {},
   "outputs": [],
   "source": [
    "def imgPointToData(img,point):\n",
    "    dataOut = []\n",
    "    for i in range(len(point)):\n",
    "        dataOut.append(img[point[i,0],point[i,1]])\n",
    "    return np.array(dataOut)"
   ]
  },
  {
   "cell_type": "code",
   "execution_count": 13,
   "metadata": {},
   "outputs": [],
   "source": [
    "dataWater = imgPointToData(img,pointWater)\n",
    "dataUrban = imgPointToData(img,pointUrban)\n",
    "dataAgri = imgPointToData(img,pointAgri)\n",
    "dataRange = imgPointToData(img,pointRange)\n",
    "dataBarren = imgPointToData(img,pointBarren)"
   ]
  },
  {
   "cell_type": "code",
   "execution_count": 14,
   "metadata": {},
   "outputs": [],
   "source": [
    "X_train = np.concatenate((dataWater[:8000],dataUrban[:8000],dataAgri[:8000],dataRange[:8000],dataBarren[:8000]))\n",
    "y_train = np.ones((len(X_train)))\n",
    "y_train[:8000] *= 0\n",
    "y_train[8000:16000] *= 1\n",
    "y_train[16000:24000] *= 2\n",
    "y_train[24000:36000] *= 3\n",
    "y_train[36000:40000] *= 4\n",
    "\n",
    "X_test = np.concatenate((dataWater[8000:],dataUrban[8000:],dataAgri[8000:],dataRange[8000:],dataBarren[8000:]))\n",
    "y_test = np.ones((len(X_test)))\n",
    "y_test[:2000] *= 0\n",
    "y_test[2000:4000] *= 1\n",
    "y_test[4000:6000] *= 2\n",
    "y_test[6000:8000] *= 3\n",
    "y_test[8000:10000] *= 4"
   ]
  },
  {
   "cell_type": "code",
   "execution_count": 15,
   "metadata": {},
   "outputs": [
    {
     "name": "stdout",
     "output_type": "stream",
     "text": [
      "(40000, 3)\n",
      "(40000,)\n",
      "(10000, 3)\n",
      "(10000,)\n"
     ]
    }
   ],
   "source": [
    "print(X_train.shape)\n",
    "print(y_train.shape)\n",
    "print(X_test.shape)\n",
    "print(y_test.shape)"
   ]
  },
  {
   "cell_type": "code",
   "execution_count": 16,
   "metadata": {},
   "outputs": [
    {
     "data": {
      "text/plain": [
       "array([[-1.68405313, -1.13981526, -1.5139788 ],\n",
       "       [-1.68405313, -1.17383013, -1.4119342 ],\n",
       "       [-1.54799366, -1.1058004 , -1.34390446],\n",
       "       ...,\n",
       "       [ 3.18007278,  2.05758219,  0.66297266],\n",
       "       [ 3.11204305,  1.71743352,  0.15274966],\n",
       "       [ 2.80590925,  1.78546326,  0.56092806]])"
      ]
     },
     "execution_count": 16,
     "metadata": {},
     "output_type": "execute_result"
    }
   ],
   "source": [
    "X_train"
   ]
  },
  {
   "cell_type": "code",
   "execution_count": 17,
   "metadata": {},
   "outputs": [],
   "source": [
    "idx1 = np.random.permutation(len(X_train))\n",
    "X_train = X_train[idx1]\n",
    "y_train = y_train[idx1]\n",
    "\n",
    "idx2 = np.random.permutation(len(X_test))\n",
    "X_test = X_test[idx2]\n",
    "y_test = y_test[idx2]\n",
    "\n",
    "#X_train = X_train/255\n",
    "#X_test = X_test/255"
   ]
  },
  {
   "cell_type": "code",
   "execution_count": 18,
   "metadata": {},
   "outputs": [
    {
     "data": {
      "text/plain": [
       "array([0., 4., 4., ..., 3., 2., 2.])"
      ]
     },
     "execution_count": 18,
     "metadata": {},
     "output_type": "execute_result"
    }
   ],
   "source": [
    "y_train[2002:]"
   ]
  },
  {
   "cell_type": "code",
   "execution_count": 19,
   "metadata": {},
   "outputs": [],
   "source": [
    "from sklearn.metrics import classification_report\n",
    "from sklearn.model_selection import KFold"
   ]
  },
  {
   "cell_type": "code",
   "execution_count": 200,
   "metadata": {},
   "outputs": [
    {
     "name": "stdout",
     "output_type": "stream",
     "text": [
      "(16000, 3)\n",
      "(16000,)\n",
      "(30000, 3)\n",
      "(30000,)\n"
     ]
    }
   ],
   "source": [
    "X_train1 = np.concatenate((dataWater[:8000],dataUrban[:2000],dataAgri[:2000],dataRange[:2000],dataBarren[:2000]))\n",
    "y_train1 = np.ones((len(X_train)))\n",
    "y_train1[:8000] *= 0\n",
    "y_train1[8000:] *= 1\n",
    "\n",
    "\n",
    "X_test1  = np.concatenate((dataWater[4000:],dataUrban[4000:],dataAgri[4000:],dataRange[4000:],dataBarren[4000:]))\n",
    "y_test1 = np.ones((len(X_test1)))\n",
    "y_test1[:2000] *= 0\n",
    "y_test1[2000:] *= 1\n",
    "\n",
    "idx1 = np.random.permutation(len(X_train1))\n",
    "X_train1 = X_train1[idx1]\n",
    "y_train1 = y_train1[idx1]\n",
    "\n",
    "idx2 = np.random.permutation(len(X_test1))\n",
    "X_test1 = X_test1[idx2]\n",
    "y_test1 = y_test1[idx2]\n",
    "\n",
    "print(X_train1.shape)\n",
    "print(y_train1.shape)\n",
    "print(X_test1.shape)\n",
    "print(y_test1.shape)\n"
   ]
  },
  {
   "cell_type": "code",
   "execution_count": 201,
   "metadata": {},
   "outputs": [
    {
     "name": "stdout",
     "output_type": "stream",
     "text": [
      "(32000, 3)\n",
      "(32000,)\n",
      "(8000, 3)\n",
      "(8000,)\n"
     ]
    }
   ],
   "source": [
    "X_train2 = np.concatenate((dataUrban[:8000],dataAgri[:8000],dataRange[:8000],dataBarren[:8000]))\n",
    "y_train2 = np.ones((len(X_train2)))\n",
    "y_train2[:8000] *= 0\n",
    "y_train2[8000:16000] *= 1\n",
    "y_train2[16000:24000] *= 2\n",
    "y_train2[24000:36000] *= 3\n",
    "\n",
    "\n",
    "X_test2 = np.concatenate((dataUrban[8000:],dataAgri[8000:],dataRange[8000:],dataBarren[8000:]))\n",
    "y_test2 = np.ones((len(X_test2)))\n",
    "y_test2[:2000] *= 0\n",
    "y_test2[2000:4000] *= 1\n",
    "y_test2[4000:6000] *= 2\n",
    "y_test2[6000:8000] *= 3\n",
    "\n",
    "\n",
    "idx1 = np.random.permutation(len(X_train2))\n",
    "X_train2 = X_train2[idx1]\n",
    "y_train2 = y_train2[idx1]\n",
    "\n",
    "idx2 = np.random.permutation(len(X_test2))\n",
    "X_test2 = X_test2[idx2]\n",
    "y_test2 = y_test2[idx2]\n",
    "\n",
    "#X_train2 = X_train2/255\n",
    "#X_test2 = X_test2/255\n",
    "\n",
    "print(X_train2.shape)\n",
    "print(y_train2.shape)\n",
    "print(X_test2.shape)\n",
    "print(y_test2.shape)"
   ]
  },
  {
   "cell_type": "code",
   "execution_count": 202,
   "metadata": {},
   "outputs": [],
   "source": [
    "from tensorflow import keras"
   ]
  },
  {
   "cell_type": "code",
   "execution_count": 203,
   "metadata": {},
   "outputs": [],
   "source": [
    "y_train_encode = keras.utils.to_categorical(y_train)\n",
    "y_test_encode = keras.utils.to_categorical(y_test)\n",
    "y_train_encode2 = keras.utils.to_categorical(y_train2)\n",
    "y_test_encode2 = keras.utils.to_categorical(y_test2)"
   ]
  },
  {
   "cell_type": "code",
   "execution_count": 204,
   "metadata": {},
   "outputs": [],
   "source": [
    "def nnmodel(input_shape):\n",
    "    X_input = keras.layers.Input((input_shape))\n",
    "    X = keras.layers.Dense(128,activation='sigmoid')(X_input)\n",
    "    X = keras.layers.Dense(32,activation='sigmoid')(X)\n",
    "    X = keras.layers.Dense(1,activation='sigmoid')(X)\n",
    "    model = keras.models.Model(inputs=X_input, outputs=X, name='model')\n",
    "    return model"
   ]
  },
  {
   "cell_type": "code",
   "execution_count": 205,
   "metadata": {},
   "outputs": [
    {
     "name": "stdout",
     "output_type": "stream",
     "text": [
      "_________________________________________________________________\n",
      "Layer (type)                 Output Shape              Param #   \n",
      "=================================================================\n",
      "input_23 (InputLayer)        (None, 3)                 0         \n",
      "_________________________________________________________________\n",
      "dense_66 (Dense)             (None, 128)               512       \n",
      "_________________________________________________________________\n",
      "dense_67 (Dense)             (None, 32)                4128      \n",
      "_________________________________________________________________\n",
      "dense_68 (Dense)             (None, 1)                 33        \n",
      "=================================================================\n",
      "Total params: 4,673\n",
      "Trainable params: 4,673\n",
      "Non-trainable params: 0\n",
      "_________________________________________________________________\n"
     ]
    }
   ],
   "source": [
    "mymodel = nnmodel(X_train1[0].shape)\n",
    "mymodel.compile(optimizer=\"adam\", loss=\"binary_crossentropy\", metrics=['accuracy'])\n",
    "mymodel.summary()"
   ]
  },
  {
   "cell_type": "code",
   "execution_count": 206,
   "metadata": {},
   "outputs": [
    {
     "name": "stdout",
     "output_type": "stream",
     "text": [
      "Train on 16000 samples, validate on 30000 samples\n",
      "Epoch 1/10\n",
      "16000/16000 [==============================] - 4s 269us/sample - loss: 0.2336 - acc: 0.9319 - val_loss: 0.5621 - val_acc: 0.8211\n",
      "Epoch 2/10\n",
      "16000/16000 [==============================] - 4s 235us/sample - loss: 0.1103 - acc: 0.9611 - val_loss: 0.5288 - val_acc: 0.8433\n",
      "Epoch 3/10\n",
      "16000/16000 [==============================] - 4s 236us/sample - loss: 0.1021 - acc: 0.9634 - val_loss: 0.6219 - val_acc: 0.8387\n",
      "Epoch 4/10\n",
      "16000/16000 [==============================] - 4s 231us/sample - loss: 0.0956 - acc: 0.9654 - val_loss: 0.5864 - val_acc: 0.8459\n",
      "Epoch 5/10\n",
      "16000/16000 [==============================] - 4s 225us/sample - loss: 0.0900 - acc: 0.9669 - val_loss: 0.6461 - val_acc: 0.8424\n",
      "Epoch 6/10\n",
      " 2720/16000 [====>.........................] - ETA: 1s - loss: 0.0905 - acc: 0.9699"
     ]
    },
    {
     "ename": "KeyboardInterrupt",
     "evalue": "",
     "output_type": "error",
     "traceback": [
      "\u001b[1;31m---------------------------------------------------------------------------\u001b[0m",
      "\u001b[1;31mKeyboardInterrupt\u001b[0m                         Traceback (most recent call last)",
      "\u001b[1;32m<ipython-input-206-8330ea6ca3ba>\u001b[0m in \u001b[0;36m<module>\u001b[1;34m\u001b[0m\n\u001b[1;32m----> 1\u001b[1;33m \u001b[0mmymodel\u001b[0m\u001b[1;33m.\u001b[0m\u001b[0mfit\u001b[0m\u001b[1;33m(\u001b[0m\u001b[0mX_train1\u001b[0m\u001b[1;33m,\u001b[0m\u001b[0my_train1\u001b[0m\u001b[1;33m,\u001b[0m\u001b[0mbatch_size\u001b[0m\u001b[1;33m=\u001b[0m\u001b[1;36m32\u001b[0m\u001b[1;33m,\u001b[0m\u001b[0mepochs\u001b[0m\u001b[1;33m=\u001b[0m\u001b[1;36m10\u001b[0m\u001b[1;33m,\u001b[0m\u001b[0mvalidation_data\u001b[0m\u001b[1;33m=\u001b[0m\u001b[1;33m(\u001b[0m\u001b[0mX_test1\u001b[0m\u001b[1;33m,\u001b[0m\u001b[0my_test1\u001b[0m\u001b[1;33m)\u001b[0m\u001b[1;33m)\u001b[0m\u001b[1;33m\u001b[0m\u001b[1;33m\u001b[0m\u001b[0m\n\u001b[0m",
      "\u001b[1;32m~\\Anaconda3\\envs\\ai\\lib\\site-packages\\tensorflow\\python\\keras\\engine\\training.py\u001b[0m in \u001b[0;36mfit\u001b[1;34m(self, x, y, batch_size, epochs, verbose, callbacks, validation_split, validation_data, shuffle, class_weight, sample_weight, initial_epoch, steps_per_epoch, validation_steps, max_queue_size, workers, use_multiprocessing, **kwargs)\u001b[0m\n\u001b[0;32m    878\u001b[0m           \u001b[0minitial_epoch\u001b[0m\u001b[1;33m=\u001b[0m\u001b[0minitial_epoch\u001b[0m\u001b[1;33m,\u001b[0m\u001b[1;33m\u001b[0m\u001b[1;33m\u001b[0m\u001b[0m\n\u001b[0;32m    879\u001b[0m           \u001b[0msteps_per_epoch\u001b[0m\u001b[1;33m=\u001b[0m\u001b[0msteps_per_epoch\u001b[0m\u001b[1;33m,\u001b[0m\u001b[1;33m\u001b[0m\u001b[1;33m\u001b[0m\u001b[0m\n\u001b[1;32m--> 880\u001b[1;33m           validation_steps=validation_steps)\n\u001b[0m\u001b[0;32m    881\u001b[0m \u001b[1;33m\u001b[0m\u001b[0m\n\u001b[0;32m    882\u001b[0m   def evaluate(self,\n",
      "\u001b[1;32m~\\Anaconda3\\envs\\ai\\lib\\site-packages\\tensorflow\\python\\keras\\engine\\training_arrays.py\u001b[0m in \u001b[0;36mmodel_iteration\u001b[1;34m(model, inputs, targets, sample_weights, batch_size, epochs, verbose, callbacks, val_inputs, val_targets, val_sample_weights, shuffle, initial_epoch, steps_per_epoch, validation_steps, mode, validation_in_fit, **kwargs)\u001b[0m\n\u001b[0;32m    327\u001b[0m \u001b[1;33m\u001b[0m\u001b[0m\n\u001b[0;32m    328\u001b[0m         \u001b[1;31m# Get outputs.\u001b[0m\u001b[1;33m\u001b[0m\u001b[1;33m\u001b[0m\u001b[1;33m\u001b[0m\u001b[0m\n\u001b[1;32m--> 329\u001b[1;33m         \u001b[0mbatch_outs\u001b[0m \u001b[1;33m=\u001b[0m \u001b[0mf\u001b[0m\u001b[1;33m(\u001b[0m\u001b[0mins_batch\u001b[0m\u001b[1;33m)\u001b[0m\u001b[1;33m\u001b[0m\u001b[1;33m\u001b[0m\u001b[0m\n\u001b[0m\u001b[0;32m    330\u001b[0m         \u001b[1;32mif\u001b[0m \u001b[1;32mnot\u001b[0m \u001b[0misinstance\u001b[0m\u001b[1;33m(\u001b[0m\u001b[0mbatch_outs\u001b[0m\u001b[1;33m,\u001b[0m \u001b[0mlist\u001b[0m\u001b[1;33m)\u001b[0m\u001b[1;33m:\u001b[0m\u001b[1;33m\u001b[0m\u001b[1;33m\u001b[0m\u001b[0m\n\u001b[0;32m    331\u001b[0m           \u001b[0mbatch_outs\u001b[0m \u001b[1;33m=\u001b[0m \u001b[1;33m[\u001b[0m\u001b[0mbatch_outs\u001b[0m\u001b[1;33m]\u001b[0m\u001b[1;33m\u001b[0m\u001b[1;33m\u001b[0m\u001b[0m\n",
      "\u001b[1;32m~\\Anaconda3\\envs\\ai\\lib\\site-packages\\tensorflow\\python\\keras\\backend.py\u001b[0m in \u001b[0;36m__call__\u001b[1;34m(self, inputs)\u001b[0m\n\u001b[0;32m   3074\u001b[0m \u001b[1;33m\u001b[0m\u001b[0m\n\u001b[0;32m   3075\u001b[0m     fetched = self._callable_fn(*array_vals,\n\u001b[1;32m-> 3076\u001b[1;33m                                 run_metadata=self.run_metadata)\n\u001b[0m\u001b[0;32m   3077\u001b[0m     \u001b[0mself\u001b[0m\u001b[1;33m.\u001b[0m\u001b[0m_call_fetch_callbacks\u001b[0m\u001b[1;33m(\u001b[0m\u001b[0mfetched\u001b[0m\u001b[1;33m[\u001b[0m\u001b[1;33m-\u001b[0m\u001b[0mlen\u001b[0m\u001b[1;33m(\u001b[0m\u001b[0mself\u001b[0m\u001b[1;33m.\u001b[0m\u001b[0m_fetches\u001b[0m\u001b[1;33m)\u001b[0m\u001b[1;33m:\u001b[0m\u001b[1;33m]\u001b[0m\u001b[1;33m)\u001b[0m\u001b[1;33m\u001b[0m\u001b[1;33m\u001b[0m\u001b[0m\n\u001b[0;32m   3078\u001b[0m     return nest.pack_sequence_as(self._outputs_structure,\n",
      "\u001b[1;32m~\\Anaconda3\\envs\\ai\\lib\\site-packages\\tensorflow\\python\\client\\session.py\u001b[0m in \u001b[0;36m__call__\u001b[1;34m(self, *args, **kwargs)\u001b[0m\n\u001b[0;32m   1437\u001b[0m           ret = tf_session.TF_SessionRunCallable(\n\u001b[0;32m   1438\u001b[0m               \u001b[0mself\u001b[0m\u001b[1;33m.\u001b[0m\u001b[0m_session\u001b[0m\u001b[1;33m.\u001b[0m\u001b[0m_session\u001b[0m\u001b[1;33m,\u001b[0m \u001b[0mself\u001b[0m\u001b[1;33m.\u001b[0m\u001b[0m_handle\u001b[0m\u001b[1;33m,\u001b[0m \u001b[0margs\u001b[0m\u001b[1;33m,\u001b[0m \u001b[0mstatus\u001b[0m\u001b[1;33m,\u001b[0m\u001b[1;33m\u001b[0m\u001b[1;33m\u001b[0m\u001b[0m\n\u001b[1;32m-> 1439\u001b[1;33m               run_metadata_ptr)\n\u001b[0m\u001b[0;32m   1440\u001b[0m         \u001b[1;32mif\u001b[0m \u001b[0mrun_metadata\u001b[0m\u001b[1;33m:\u001b[0m\u001b[1;33m\u001b[0m\u001b[1;33m\u001b[0m\u001b[0m\n\u001b[0;32m   1441\u001b[0m           \u001b[0mproto_data\u001b[0m \u001b[1;33m=\u001b[0m \u001b[0mtf_session\u001b[0m\u001b[1;33m.\u001b[0m\u001b[0mTF_GetBuffer\u001b[0m\u001b[1;33m(\u001b[0m\u001b[0mrun_metadata_ptr\u001b[0m\u001b[1;33m)\u001b[0m\u001b[1;33m\u001b[0m\u001b[1;33m\u001b[0m\u001b[0m\n",
      "\u001b[1;31mKeyboardInterrupt\u001b[0m: "
     ]
    }
   ],
   "source": [
    "mymodel.fit(X_train1,y_train1,batch_size=32,epochs=10,validation_data=(X_test1,y_test1))"
   ]
  },
  {
   "cell_type": "code",
   "execution_count": null,
   "metadata": {},
   "outputs": [],
   "source": [
    "his = mymodel.history.history\n",
    "plt.plot(his['acc'])\n",
    "plt.plot(his['val_acc'])"
   ]
  },
  {
   "cell_type": "code",
   "execution_count": null,
   "metadata": {},
   "outputs": [],
   "source": [
    "pred1 = mymodel.predict(X_test1)\n",
    "pred1 = (pred1>0.5)*1"
   ]
  },
  {
   "cell_type": "code",
   "execution_count": 207,
   "metadata": {},
   "outputs": [
    {
     "name": "stdout",
     "output_type": "stream",
     "text": [
      "              precision    recall  f1-score   support\n",
      "\n",
      "         0.0       0.06      0.18      0.09      2000\n",
      "         1.0       0.93      0.81      0.87     28000\n",
      "\n",
      "    accuracy                           0.77     30000\n",
      "   macro avg       0.50      0.49      0.48     30000\n",
      "weighted avg       0.87      0.77      0.82     30000\n",
      "\n"
     ]
    }
   ],
   "source": [
    "print(classification_report(y_test1,pred1))"
   ]
  },
  {
   "cell_type": "code",
   "execution_count": 89,
   "metadata": {},
   "outputs": [],
   "source": [
    "def nnmodel2(input_shape):\n",
    "    X_input = keras.layers.Input((input_shape))\n",
    "    X = keras.layers.Dense(1024,activation='tanh')(X_input)\n",
    "    X = keras.layers.Dense(256,activation='tanh')(X)\n",
    "    X = keras.layers.Dense(4,activation='softmax')(X)\n",
    "    model = keras.models.Model(inputs=X_input, outputs=X, name='model')\n",
    "    return model"
   ]
  },
  {
   "cell_type": "code",
   "execution_count": 90,
   "metadata": {},
   "outputs": [
    {
     "name": "stdout",
     "output_type": "stream",
     "text": [
      "_________________________________________________________________\n",
      "Layer (type)                 Output Shape              Param #   \n",
      "=================================================================\n",
      "input_15 (InputLayer)        (None, 3)                 0         \n",
      "_________________________________________________________________\n",
      "dense_42 (Dense)             (None, 1024)              4096      \n",
      "_________________________________________________________________\n",
      "dense_43 (Dense)             (None, 256)               262400    \n",
      "_________________________________________________________________\n",
      "dense_44 (Dense)             (None, 4)                 1028      \n",
      "=================================================================\n",
      "Total params: 267,524\n",
      "Trainable params: 267,524\n",
      "Non-trainable params: 0\n",
      "_________________________________________________________________\n"
     ]
    }
   ],
   "source": [
    "mymodel2 = nnmodel2(X_train2[0].shape)\n",
    "opt = keras.optimizers.Adam(lr=0.0003)\n",
    "mymodel2.compile(optimizer=opt, loss=\"categorical_crossentropy\", metrics=['accuracy'])\n",
    "mymodel2.summary()"
   ]
  },
  {
   "cell_type": "code",
   "execution_count": 91,
   "metadata": {},
   "outputs": [
    {
     "name": "stdout",
     "output_type": "stream",
     "text": [
      "Train on 32000 samples, validate on 8000 samples\n",
      "Epoch 1/60\n",
      "32000/32000 [==============================] - 6s 176us/sample - loss: 1.0368 - acc: 0.5791 - val_loss: 1.0098 - val_acc: 0.5964\n",
      "Epoch 2/60\n",
      "32000/32000 [==============================] - 5s 163us/sample - loss: 0.9978 - acc: 0.5939 - val_loss: 1.0001 - val_acc: 0.5831\n",
      "Epoch 3/60\n",
      "32000/32000 [==============================] - 5s 165us/sample - loss: 0.9885 - acc: 0.5956 - val_loss: 0.9929 - val_acc: 0.5829\n",
      "Epoch 4/60\n",
      "32000/32000 [==============================] - 5s 158us/sample - loss: 0.9776 - acc: 0.5987 - val_loss: 0.9693 - val_acc: 0.5959\n",
      "Epoch 5/60\n",
      "32000/32000 [==============================] - 5s 159us/sample - loss: 0.9638 - acc: 0.6060 - val_loss: 0.9557 - val_acc: 0.6087\n",
      "Epoch 6/60\n",
      "32000/32000 [==============================] - 5s 162us/sample - loss: 0.9541 - acc: 0.6117 - val_loss: 0.9524 - val_acc: 0.6094\n",
      "Epoch 7/60\n",
      "32000/32000 [==============================] - 5s 167us/sample - loss: 0.9467 - acc: 0.6157 - val_loss: 0.9444 - val_acc: 0.6152\n",
      "Epoch 8/60\n",
      "32000/32000 [==============================] - 6s 179us/sample - loss: 0.9398 - acc: 0.6190 - val_loss: 0.9383 - val_acc: 0.6135\n",
      "Epoch 9/60\n",
      "32000/32000 [==============================] - 6s 182us/sample - loss: 0.9319 - acc: 0.6242 - val_loss: 0.9308 - val_acc: 0.6162\n",
      "Epoch 10/60\n",
      "32000/32000 [==============================] - 5s 160us/sample - loss: 0.9251 - acc: 0.6253 - val_loss: 0.9278 - val_acc: 0.6201\n",
      "Epoch 11/60\n",
      "32000/32000 [==============================] - 6s 186us/sample - loss: 0.9195 - acc: 0.6278 - val_loss: 0.9193 - val_acc: 0.6194\n",
      "Epoch 12/60\n",
      "32000/32000 [==============================] - 6s 192us/sample - loss: 0.9155 - acc: 0.6280 - val_loss: 0.9116 - val_acc: 0.6233\n",
      "Epoch 13/60\n",
      "32000/32000 [==============================] - 6s 180us/sample - loss: 0.9118 - acc: 0.6303 - val_loss: 0.9128 - val_acc: 0.6186\n",
      "Epoch 14/60\n",
      "32000/32000 [==============================] - 6s 198us/sample - loss: 0.9093 - acc: 0.6302 - val_loss: 0.9175 - val_acc: 0.6195\n",
      "Epoch 15/60\n",
      "32000/32000 [==============================] - 5s 164us/sample - loss: 0.9064 - acc: 0.6317 - val_loss: 0.9122 - val_acc: 0.6211\n",
      "Epoch 16/60\n",
      "32000/32000 [==============================] - 5s 158us/sample - loss: 0.9057 - acc: 0.6318 - val_loss: 0.9091 - val_acc: 0.6223\n",
      "Epoch 17/60\n",
      "32000/32000 [==============================] - 6s 174us/sample - loss: 0.9046 - acc: 0.6338 - val_loss: 0.9090 - val_acc: 0.6216\n",
      "Epoch 18/60\n",
      "32000/32000 [==============================] - 5s 168us/sample - loss: 0.9034 - acc: 0.6325 - val_loss: 0.9055 - val_acc: 0.6266\n",
      "Epoch 19/60\n",
      "32000/32000 [==============================] - 6s 184us/sample - loss: 0.9018 - acc: 0.6323 - val_loss: 0.9022 - val_acc: 0.6225\n",
      "Epoch 20/60\n",
      "32000/32000 [==============================] - 5s 172us/sample - loss: 0.9004 - acc: 0.6322 - val_loss: 0.9021 - val_acc: 0.6212\n",
      "Epoch 21/60\n",
      "32000/32000 [==============================] - 5s 152us/sample - loss: 0.9007 - acc: 0.6331 - val_loss: 0.9068 - val_acc: 0.6206\n",
      "Epoch 22/60\n",
      "32000/32000 [==============================] - 5s 165us/sample - loss: 0.8989 - acc: 0.6331 - val_loss: 0.8987 - val_acc: 0.6235\n",
      "Epoch 23/60\n",
      "32000/32000 [==============================] - 5s 165us/sample - loss: 0.8981 - acc: 0.6323 - val_loss: 0.9004 - val_acc: 0.6231\n",
      "Epoch 24/60\n",
      "32000/32000 [==============================] - 5s 163us/sample - loss: 0.8963 - acc: 0.6339 - val_loss: 0.9052 - val_acc: 0.6220\n",
      "Epoch 25/60\n",
      "32000/32000 [==============================] - 6s 172us/sample - loss: 0.8960 - acc: 0.6334 - val_loss: 0.8992 - val_acc: 0.6259\n",
      "Epoch 26/60\n",
      "32000/32000 [==============================] - 5s 156us/sample - loss: 0.8958 - acc: 0.6339 - val_loss: 0.9022 - val_acc: 0.6245\n",
      "Epoch 27/60\n",
      "32000/32000 [==============================] - 5s 158us/sample - loss: 0.8948 - acc: 0.6336 - val_loss: 0.8973 - val_acc: 0.6251\n",
      "Epoch 28/60\n",
      "32000/32000 [==============================] - 5s 158us/sample - loss: 0.8933 - acc: 0.6335 - val_loss: 0.8968 - val_acc: 0.6235\n",
      "Epoch 29/60\n",
      "32000/32000 [==============================] - 5s 162us/sample - loss: 0.8922 - acc: 0.6330 - val_loss: 0.8992 - val_acc: 0.6264\n",
      "Epoch 30/60\n",
      "32000/32000 [==============================] - 5s 169us/sample - loss: 0.8914 - acc: 0.6348 - val_loss: 0.8922 - val_acc: 0.6264\n",
      "Epoch 31/60\n",
      "32000/32000 [==============================] - 6s 182us/sample - loss: 0.8900 - acc: 0.6350 - val_loss: 0.8977 - val_acc: 0.6250\n",
      "Epoch 32/60\n",
      "32000/32000 [==============================] - 6s 185us/sample - loss: 0.8900 - acc: 0.6358 - val_loss: 0.8940 - val_acc: 0.6269\n",
      "Epoch 33/60\n",
      "32000/32000 [==============================] - 6s 173us/sample - loss: 0.8894 - acc: 0.6367 - val_loss: 0.8930 - val_acc: 0.6269\n",
      "Epoch 34/60\n",
      "32000/32000 [==============================] - 6s 189us/sample - loss: 0.8883 - acc: 0.6354 - val_loss: 0.8920 - val_acc: 0.6270\n",
      "Epoch 35/60\n",
      "32000/32000 [==============================] - 5s 169us/sample - loss: 0.8880 - acc: 0.6358 - val_loss: 0.8936 - val_acc: 0.6256\n",
      "Epoch 36/60\n",
      "32000/32000 [==============================] - 5s 166us/sample - loss: 0.8879 - acc: 0.6364 - val_loss: 0.8936 - val_acc: 0.6264\n",
      "Epoch 37/60\n",
      "32000/32000 [==============================] - 6s 200us/sample - loss: 0.8875 - acc: 0.6369 - val_loss: 0.8930 - val_acc: 0.6236\n",
      "Epoch 38/60\n",
      "32000/32000 [==============================] - 6s 179us/sample - loss: 0.8862 - acc: 0.6356 - val_loss: 0.8964 - val_acc: 0.6267\n",
      "Epoch 39/60\n",
      "32000/32000 [==============================] - 6s 199us/sample - loss: 0.8856 - acc: 0.6368 - val_loss: 0.8888 - val_acc: 0.6311\n",
      "Epoch 40/60\n",
      "32000/32000 [==============================] - 6s 179us/sample - loss: 0.8852 - acc: 0.6361 - val_loss: 0.8883 - val_acc: 0.6319\n",
      "Epoch 41/60\n",
      "32000/32000 [==============================] - 5s 169us/sample - loss: 0.8847 - acc: 0.6369 - val_loss: 0.8869 - val_acc: 0.6299\n",
      "Epoch 42/60\n",
      "32000/32000 [==============================] - 5s 163us/sample - loss: 0.8848 - acc: 0.6369 - val_loss: 0.8894 - val_acc: 0.6256\n",
      "Epoch 43/60\n",
      "32000/32000 [==============================] - 5s 168us/sample - loss: 0.8844 - acc: 0.6359 - val_loss: 0.8937 - val_acc: 0.6260\n",
      "Epoch 44/60\n",
      "32000/32000 [==============================] - 5s 166us/sample - loss: 0.8832 - acc: 0.6366 - val_loss: 0.8911 - val_acc: 0.6295\n",
      "Epoch 45/60\n",
      "32000/32000 [==============================] - 7s 204us/sample - loss: 0.8837 - acc: 0.6358 - val_loss: 0.8892 - val_acc: 0.6306\n",
      "Epoch 46/60\n",
      "32000/32000 [==============================] - 6s 194us/sample - loss: 0.8837 - acc: 0.6382 - val_loss: 0.8921 - val_acc: 0.6280\n",
      "Epoch 47/60\n",
      "32000/32000 [==============================] - 6s 196us/sample - loss: 0.8826 - acc: 0.6378 - val_loss: 0.8843 - val_acc: 0.6326\n",
      "Epoch 48/60\n",
      "32000/32000 [==============================] - 6s 181us/sample - loss: 0.8816 - acc: 0.6382 - val_loss: 0.8901 - val_acc: 0.6315\n",
      "Epoch 49/60\n",
      "32000/32000 [==============================] - 7s 224us/sample - loss: 0.8825 - acc: 0.6376 - val_loss: 0.8880 - val_acc: 0.6300\n",
      "Epoch 50/60\n",
      "32000/32000 [==============================] - 6s 195us/sample - loss: 0.8823 - acc: 0.6372 - val_loss: 0.8856 - val_acc: 0.6288\n",
      "Epoch 51/60\n",
      "32000/32000 [==============================] - 7s 208us/sample - loss: 0.8820 - acc: 0.6380 - val_loss: 0.8867 - val_acc: 0.6304\n",
      "Epoch 52/60\n",
      "32000/32000 [==============================] - 6s 190us/sample - loss: 0.8818 - acc: 0.6372 - val_loss: 0.8844 - val_acc: 0.6314\n",
      "Epoch 53/60\n",
      "32000/32000 [==============================] - 5s 158us/sample - loss: 0.8810 - acc: 0.6368 - val_loss: 0.8894 - val_acc: 0.6277\n",
      "Epoch 54/60\n",
      "32000/32000 [==============================] - 5s 154us/sample - loss: 0.8808 - acc: 0.6373 - val_loss: 0.8897 - val_acc: 0.6275\n",
      "Epoch 55/60\n",
      "32000/32000 [==============================] - 5s 151us/sample - loss: 0.8804 - acc: 0.6382 - val_loss: 0.8850 - val_acc: 0.6281\n",
      "Epoch 56/60\n",
      "32000/32000 [==============================] - 5s 150us/sample - loss: 0.8809 - acc: 0.6388 - val_loss: 0.8895 - val_acc: 0.6300\n",
      "Epoch 57/60\n",
      "32000/32000 [==============================] - 5s 150us/sample - loss: 0.8802 - acc: 0.6385 - val_loss: 0.8841 - val_acc: 0.6260\n",
      "Epoch 58/60\n",
      "32000/32000 [==============================] - 5s 150us/sample - loss: 0.8787 - acc: 0.6382 - val_loss: 0.8900 - val_acc: 0.6255\n"
     ]
    },
    {
     "name": "stdout",
     "output_type": "stream",
     "text": [
      "Epoch 59/60\n",
      "32000/32000 [==============================] - 5s 149us/sample - loss: 0.8806 - acc: 0.6388 - val_loss: 0.8873 - val_acc: 0.6291\n",
      "Epoch 60/60\n",
      "32000/32000 [==============================] - 5s 148us/sample - loss: 0.8794 - acc: 0.6376 - val_loss: 0.8858 - val_acc: 0.6286\n"
     ]
    },
    {
     "data": {
      "text/plain": [
       "<tensorflow.python.keras.callbacks.History at 0x1f09bcf1a48>"
      ]
     },
     "execution_count": 91,
     "metadata": {},
     "output_type": "execute_result"
    }
   ],
   "source": [
    "mymodel2.fit(X_train2,y_train_encode2,batch_size=32,epochs=60,validation_data=(X_test2,y_test_encode2))"
   ]
  },
  {
   "cell_type": "code",
   "execution_count": 92,
   "metadata": {},
   "outputs": [
    {
     "data": {
      "text/plain": [
       "[<matplotlib.lines.Line2D at 0x1f0a15fc308>]"
      ]
     },
     "execution_count": 92,
     "metadata": {},
     "output_type": "execute_result"
    },
    {
     "data": {
      "image/png": "[encoded data removed]",
      "text/plain": [
       "<Figure size 432x288 with 1 Axes>"
      ]
     },
     "metadata": {
      "needs_background": "light"
     },
     "output_type": "display_data"
    }
   ],
   "source": [
    "his2 = mymodel2.history.history\n",
    "plt.plot(his2['acc'])\n",
    "plt.plot(his2['val_acc'])"
   ]
  },
  {
   "cell_type": "code",
   "execution_count": 93,
   "metadata": {},
   "outputs": [],
   "source": [
    "pred2 = np.argmax(mymodel2.predict(X_test2),axis=1)"
   ]
  },
  {
   "cell_type": "code",
   "execution_count": 94,
   "metadata": {},
   "outputs": [
    {
     "name": "stdout",
     "output_type": "stream",
     "text": [
      "              precision    recall  f1-score   support\n",
      "\n",
      "         0.0       0.66      0.53      0.59      2000\n",
      "         1.0       0.54      0.56      0.55      2000\n",
      "         2.0       0.57      0.64      0.60      2000\n",
      "         3.0       0.75      0.78      0.77      2000\n",
      "\n",
      "    accuracy                           0.63      8000\n",
      "   macro avg       0.63      0.63      0.63      8000\n",
      "weighted avg       0.63      0.63      0.63      8000\n",
      "\n"
     ]
    }
   ],
   "source": [
    "print(classification_report(y_test2,pred2))"
   ]
  },
  {
   "cell_type": "code",
   "execution_count": 135,
   "metadata": {},
   "outputs": [],
   "source": [
    "def commodel(data):\n",
    "    l1 = np.round(mymodel.predict(data))\n",
    "    l2 = np.argmax(mymodel2.predict(data),axis=1)\n",
    "    outdata = []\n",
    "    for i in range(len(data)):\n",
    "        if(l1[i]==0):\n",
    "            outdata.append(0)\n",
    "        else:\n",
    "            outdata.append(l2[i]+1)\n",
    "    return np.array(outdata)"
   ]
  },
  {
   "cell_type": "code",
   "execution_count": 136,
   "metadata": {},
   "outputs": [],
   "source": [
    "pred = commodel(X_test)"
   ]
  },
  {
   "cell_type": "code",
   "execution_count": 137,
   "metadata": {},
   "outputs": [
    {
     "data": {
      "text/plain": [
       "array([2, 4, 4, ..., 1, 1, 4], dtype=int64)"
      ]
     },
     "execution_count": 137,
     "metadata": {},
     "output_type": "execute_result"
    }
   ],
   "source": [
    "pred"
   ]
  },
  {
   "cell_type": "code",
   "execution_count": 138,
   "metadata": {},
   "outputs": [
    {
     "name": "stdout",
     "output_type": "stream",
     "text": [
      "              precision    recall  f1-score   support\n",
      "\n",
      "         0.0       0.96      0.95      0.96      2000\n",
      "         1.0       0.66      0.53      0.59      2000\n",
      "         2.0       0.52      0.55      0.53      2000\n",
      "         3.0       0.56      0.64      0.60      2000\n",
      "         4.0       0.75      0.78      0.77      2000\n",
      "\n",
      "    accuracy                           0.69     10000\n",
      "   macro avg       0.69      0.69      0.69     10000\n",
      "weighted avg       0.69      0.69      0.69     10000\n",
      "\n"
     ]
    }
   ],
   "source": [
    "print(classification_report(y_test,pred))"
   ]
  },
  {
   "cell_type": "code",
   "execution_count": 57,
   "metadata": {},
   "outputs": [],
   "source": [
    "img = img.reshape(((2448* 2448, 3)))\n",
    "img = img/255"
   ]
  },
  {
   "cell_type": "code",
   "execution_count": 59,
   "metadata": {},
   "outputs": [],
   "source": [
    "#l1 = mymodel.predict(img)"
   ]
  },
  {
   "cell_type": "code",
   "execution_count": 67,
   "metadata": {},
   "outputs": [],
   "source": [
    "predimg = commodel(img)"
   ]
  },
  {
   "cell_type": "code",
   "execution_count": 68,
   "metadata": {},
   "outputs": [],
   "source": [
    "#predimg_dec = np.argmax(predimg,axis=1)\n",
    "#predimg_dec =medfilt(predimg_dec,kernel_size=3)\n",
    "predimg_dec = predimg"
   ]
  },
  {
   "cell_type": "code",
   "execution_count": 69,
   "metadata": {},
   "outputs": [],
   "source": [
    "colormap = np.zeros_like(img).astype(int)"
   ]
  },
  {
   "cell_type": "code",
   "execution_count": 70,
   "metadata": {},
   "outputs": [],
   "source": [
    "for i in range(len(colormap)):\n",
    "    if(predimg_dec[i] == 0):\n",
    "        #water\n",
    "        colormap[i] = [0,0,255]\n",
    "    elif(predimg_dec[i]==1):\n",
    "        #urban\n",
    "        colormap[i] = [0,255,255]\n",
    "    elif (predimg_dec[i] ==2):\n",
    "        #argi\n",
    "        colormap[i] = [255,255,0]\n",
    "    elif (predimg_dec[i] == 3):\n",
    "        #range\n",
    "        colormap[i] = [255,0,255]\n",
    "    elif (predimg_dec[i] == 4):\n",
    "        #barren\n",
    "        colormap[i] = [255,255,255]"
   ]
  },
  {
   "cell_type": "code",
   "execution_count": 71,
   "metadata": {},
   "outputs": [
    {
     "data": {
      "text/plain": [
       "3"
      ]
     },
     "execution_count": 71,
     "metadata": {},
     "output_type": "execute_result"
    }
   ],
   "source": [
    "predimg[0]"
   ]
  },
  {
   "cell_type": "code",
   "execution_count": 72,
   "metadata": {},
   "outputs": [],
   "source": [
    "colormap = colormap.reshape((2448,2448,3))"
   ]
  },
  {
   "cell_type": "code",
   "execution_count": 75,
   "metadata": {
    "scrolled": false
   },
   "outputs": [
    {
     "data": {
      "text/plain": [
       "<matplotlib.image.AxesImage at 0x2039839cec8>"
      ]
     },
     "execution_count": 75,
     "metadata": {},
     "output_type": "execute_result"
    },
    {
     "data": {
      "image/png": "[encoded data removed]",
      "text/plain": [
       "<Figure size 720x720 with 1 Axes>"
      ]
     },
     "metadata": {
      "needs_background": "light"
     },
     "output_type": "display_data"
    }
   ],
   "source": [
    "plt.figure(figsize=(10,10))\n",
    "plt.imshow(colormap)"
   ]
  },
  {
   "cell_type": "code",
   "execution_count": 98,
   "metadata": {},
   "outputs": [],
   "source": [
    "from PIL import Image"
   ]
  },
  {
   "cell_type": "code",
   "execution_count": 113,
   "metadata": {},
   "outputs": [],
   "source": [
    "im = Image.fromarray(colormap.astype(np.uint8))\n",
    "im.save('./final4-lcm.png')"
   ]
  },
  {
   "cell_type": "code",
   "execution_count": 77,
   "metadata": {},
   "outputs": [],
   "source": [
    "from sklearn.metrics import confusion_matrix,cohen_kappa_score"
   ]
  },
  {
   "cell_type": "code",
   "execution_count": 78,
   "metadata": {},
   "outputs": [
    {
     "data": {
      "text/plain": [
       "array([[1884,    4,  111,    1,    0],\n",
       "       [  11, 1060,  388,  369,  172],\n",
       "       [  27,  165, 1046,  548,  214],\n",
       "       [  14,  188,  329, 1310,  159],\n",
       "       [   0,  201,  116,  147, 1536]], dtype=int64)"
      ]
     },
     "execution_count": 78,
     "metadata": {},
     "output_type": "execute_result"
    }
   ],
   "source": [
    "confmat = confusion_matrix(y_test,pred)\n",
    "confmat"
   ]
  },
  {
   "cell_type": "code",
   "execution_count": 79,
   "metadata": {},
   "outputs": [
    {
     "data": {
      "text/plain": [
       "array([94.2, 53. , 52.3, 65.5, 76.8])"
      ]
     },
     "execution_count": 79,
     "metadata": {},
     "output_type": "execute_result"
    }
   ],
   "source": [
    "user_acc = [confmat[0,0],confmat[1,1],confmat[2,2],confmat[3,3],confmat[4,4]]/np.sum(confmat,axis=1)*100\n",
    "user_acc"
   ]
  },
  {
   "cell_type": "code",
   "execution_count": 80,
   "metadata": {},
   "outputs": [
    {
     "data": {
      "text/plain": [
       "array([97.31404959, 65.51297899, 52.56281407, 55.15789474, 73.81066795])"
      ]
     },
     "execution_count": 80,
     "metadata": {},
     "output_type": "execute_result"
    }
   ],
   "source": [
    "prod_acc = [confmat[0,0],confmat[1,1],confmat[2,2],confmat[3,3],confmat[4,4]]/np.sum(confmat,axis=0)*100\n",
    "prod_acc"
   ]
  },
  {
   "cell_type": "code",
   "execution_count": 81,
   "metadata": {},
   "outputs": [
    {
     "data": {
      "text/plain": [
       "0.6836"
      ]
     },
     "execution_count": 81,
     "metadata": {},
     "output_type": "execute_result"
    }
   ],
   "source": [
    "overall_acc = np.sum([confmat[0,0],confmat[1,1],confmat[2,2],confmat[3,3],confmat[4,4]])/10000\n",
    "overall_acc"
   ]
  },
  {
   "cell_type": "code",
   "execution_count": 82,
   "metadata": {},
   "outputs": [
    {
     "data": {
      "text/plain": [
       "0.6044999999999999"
      ]
     },
     "execution_count": 82,
     "metadata": {},
     "output_type": "execute_result"
    }
   ],
   "source": [
    "(overall_acc-1/5)/(1-1/5)"
   ]
  },
  {
   "cell_type": "code",
   "execution_count": 83,
   "metadata": {},
   "outputs": [
    {
     "data": {
      "text/plain": [
       "0.6045"
      ]
     },
     "execution_count": 83,
     "metadata": {},
     "output_type": "execute_result"
    }
   ],
   "source": [
    "cohen_kappa_score(y_test,pred)"
   ]
  },
  {
   "cell_type": "code",
   "execution_count": 84,
   "metadata": {},
   "outputs": [
    {
     "name": "stdout",
     "output_type": "stream",
     "text": [
      "              precision    recall  f1-score   support\n",
      "\n",
      "         0.0       0.97      0.94      0.96      2000\n",
      "         1.0       0.66      0.53      0.59      2000\n",
      "         2.0       0.53      0.52      0.52      2000\n",
      "         3.0       0.55      0.66      0.60      2000\n",
      "         4.0       0.74      0.77      0.75      2000\n",
      "\n",
      "    accuracy                           0.68     10000\n",
      "   macro avg       0.69      0.68      0.68     10000\n",
      "weighted avg       0.69      0.68      0.68     10000\n",
      "\n"
     ]
    }
   ],
   "source": [
    "print(classification_report(y_test,pred))"
   ]
  },
  {
   "cell_type": "code",
   "execution_count": 85,
   "metadata": {},
   "outputs": [
    {
     "data": {
      "text/plain": [
       "array([1884,    4,  111,    1,    0], dtype=int64)"
      ]
     },
     "execution_count": 85,
     "metadata": {},
     "output_type": "execute_result"
    }
   ],
   "source": [
    "confmat[0]"
   ]
  },
  {
   "cell_type": "code",
   "execution_count": 86,
   "metadata": {},
   "outputs": [
    {
     "data": {
      "text/plain": [
       "array([1936, 1618, 1990, 2375, 2081], dtype=int64)"
      ]
     },
     "execution_count": 86,
     "metadata": {},
     "output_type": "execute_result"
    }
   ],
   "source": [
    "np.sum(confmat,axis=0)"
   ]
  },
  {
   "cell_type": "code",
   "execution_count": null,
   "metadata": {},
   "outputs": [],
   "source": []
  }
 ],
 "metadata": {
  "kernelspec": {
   "display_name": "Python 3",
   "language": "python",
   "name": "python3"
  },
  "language_info": {
   "codemirror_mode": {
    "name": "ipython",
    "version": 3
   },
   "file_extension": ".py",
   "mimetype": "text/x-python",
   "name": "python",
   "nbconvert_exporter": "python",
   "pygments_lexer": "ipython3",
   "version": "3.7.5"
  }
 },
 "nbformat": 4,
 "nbformat_minor": 2
}
