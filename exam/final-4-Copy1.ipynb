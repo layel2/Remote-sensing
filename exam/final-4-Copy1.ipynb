{
 "cells": [
  {
   "cell_type": "code",
   "execution_count": 1,
   "metadata": {},
   "outputs": [],
   "source": [
    "from osgeo import gdal, gdalconst\n",
    "from osgeo.gdalconst import *\n",
    "import numpy as np\n",
    "from matplotlib import pyplot as plt\n",
    "import pandas as pd"
   ]
  },
  {
   "cell_type": "code",
   "execution_count": 2,
   "metadata": {},
   "outputs": [],
   "source": [
    "img_path = './FinalQ4Image.jpg'"
   ]
  },
  {
   "cell_type": "code",
   "execution_count": 3,
   "metadata": {},
   "outputs": [],
   "source": [
    "ds = gdal.Open(img_path, GA_ReadOnly)"
   ]
  },
  {
   "cell_type": "code",
   "execution_count": 4,
   "metadata": {},
   "outputs": [],
   "source": [
    "n_band = ds.RasterCount"
   ]
  },
  {
   "cell_type": "code",
   "execution_count": 5,
   "metadata": {},
   "outputs": [],
   "source": [
    "img_width = 2448\n",
    "img_height = 2448"
   ]
  },
  {
   "cell_type": "code",
   "execution_count": 6,
   "metadata": {},
   "outputs": [],
   "source": [
    "img = np.zeros((img_width,img_height,n_band))\n",
    "for i in range(n_band):\n",
    "    band = ds.GetRasterBand(i+1)\n",
    "    data = band.ReadAsArray()\n",
    "    img[:,:,i] = data\n",
    "data = None\n",
    "band = None"
   ]
  },
  {
   "cell_type": "code",
   "execution_count": 7,
   "metadata": {},
   "outputs": [
    {
     "data": {
      "text/plain": [
       "(2448, 2448, 3)"
      ]
     },
     "execution_count": 7,
     "metadata": {},
     "output_type": "execute_result"
    }
   ],
   "source": [
    "img.shape"
   ]
  },
  {
   "cell_type": "code",
   "execution_count": 8,
   "metadata": {},
   "outputs": [],
   "source": [
    "pointWater = pd.read_csv('./water_samples.csv').values\n",
    "pointUrban = pd.read_csv('./urban_samples.csv').values\n",
    "pointAgri = pd.read_csv('./agriculture_samples.csv').values\n",
    "pointRange = pd.read_csv('./Range_samples.csv').values\n",
    "pointBarren = pd.read_csv('./barren_samples.csv').values"
   ]
  },
  {
   "cell_type": "code",
   "execution_count": 9,
   "metadata": {},
   "outputs": [],
   "source": [
    "def imgPointToData(img,point):\n",
    "    dataOut = []\n",
    "    for i in range(len(point)):\n",
    "        dataOut.append(img[point[i,0],point[i,1]])\n",
    "    return np.array(dataOut)"
   ]
  },
  {
   "cell_type": "code",
   "execution_count": 10,
   "metadata": {},
   "outputs": [],
   "source": [
    "dataWater = imgPointToData(img,pointWater)\n",
    "dataUrban = imgPointToData(img,pointUrban)\n",
    "dataAgri = imgPointToData(img,pointAgri)\n",
    "dataRange = imgPointToData(img,pointRange)\n",
    "dataBarren = imgPointToData(img,pointBarren)"
   ]
  },
  {
   "cell_type": "code",
   "execution_count": 11,
   "metadata": {},
   "outputs": [],
   "source": [
    "X_train = np.concatenate((dataWater[:8000],dataUrban[:8000],dataAgri[:8000],dataRange[:8000],dataBarren[:8000]))\n",
    "y_train = np.ones((len(X_train)))\n",
    "y_train[:8000] *= 0\n",
    "y_train[8000:16000] *= 1\n",
    "y_train[16000:24000] *= 2\n",
    "y_train[24000:36000] *= 3\n",
    "y_train[36000:40000] *= 4\n",
    "\n",
    "X_test = np.concatenate((dataWater[8000:],dataUrban[8000:],dataAgri[8000:],dataRange[8000:],dataBarren[8000:]))\n",
    "y_test = np.ones((len(X_test)))\n",
    "y_test[:2000] *= 0\n",
    "y_test[2000:4000] *= 1\n",
    "y_test[4000:6000] *= 2\n",
    "y_test[6000:8000] *= 3\n",
    "y_test[8000:10000] *= 4"
   ]
  },
  {
   "cell_type": "code",
   "execution_count": 12,
   "metadata": {},
   "outputs": [
    {
     "name": "stdout",
     "output_type": "stream",
     "text": [
      "(40000, 3)\n",
      "(40000,)\n",
      "(10000, 3)\n",
      "(10000,)\n"
     ]
    }
   ],
   "source": [
    "print(X_train.shape)\n",
    "print(y_train.shape)\n",
    "print(X_test.shape)\n",
    "print(y_test.shape)"
   ]
  },
  {
   "cell_type": "code",
   "execution_count": 13,
   "metadata": {},
   "outputs": [],
   "source": [
    "idx1 = np.random.permutation(len(X_train))\n",
    "X_train = X_train[idx1]\n",
    "y_train = y_train[idx1]\n",
    "\n",
    "idx2 = np.random.permutation(len(X_test))\n",
    "X_test = X_test[idx2]\n",
    "y_test = y_test[idx2]\n",
    "\n",
    "X_train = X_train/255\n",
    "X_test = X_test/255"
   ]
  },
  {
   "cell_type": "code",
   "execution_count": 14,
   "metadata": {},
   "outputs": [
    {
     "data": {
      "text/plain": [
       "array([3., 3., 3., ..., 1., 0., 0.])"
      ]
     },
     "execution_count": 14,
     "metadata": {},
     "output_type": "execute_result"
    }
   ],
   "source": [
    "y_train[2002:]"
   ]
  },
  {
   "cell_type": "code",
   "execution_count": 15,
   "metadata": {},
   "outputs": [],
   "source": [
    "import sklearn\n",
    "import xgboost as xgb"
   ]
  },
  {
   "cell_type": "code",
   "execution_count": 16,
   "metadata": {},
   "outputs": [],
   "source": [
    "from sklearn.metrics import classification_report\n",
    "from sklearn.model_selection import KFold"
   ]
  },
  {
   "cell_type": "code",
   "execution_count": 17,
   "metadata": {},
   "outputs": [
    {
     "data": {
      "text/plain": [
       "XGBClassifier(base_score=0.5, booster='gbtree', colsample_bylevel=1,\n",
       "              colsample_bynode=1, colsample_bytree=1, gamma=0,\n",
       "              learning_rate=0.05, max_delta_step=0, max_depth=21,\n",
       "              min_child_weight=1, missing=None, n_estimators=500, n_jobs=1,\n",
       "              nthread=None, objective='multi:softprob', random_state=0,\n",
       "              reg_alpha=0, reg_lambda=1, scale_pos_weight=1, seed=None,\n",
       "              silent=None, subsample=1, verbosity=1)"
      ]
     },
     "execution_count": 17,
     "metadata": {},
     "output_type": "execute_result"
    }
   ],
   "source": [
    "xgbc = xgb.XGBClassifier(max_depth=21,n_estimators=500,learning_rate=0.05)\n",
    "xgbc.fit(X_train,y_train)"
   ]
  },
  {
   "cell_type": "code",
   "execution_count": 18,
   "metadata": {},
   "outputs": [
    {
     "name": "stdout",
     "output_type": "stream",
     "text": [
      "              precision    recall  f1-score   support\n",
      "\n",
      "         0.0       0.95      0.96      0.95      2000\n",
      "         1.0       0.61      0.50      0.55      2000\n",
      "         2.0       0.49      0.47      0.48      2000\n",
      "         3.0       0.39      0.69      0.50      2000\n",
      "         4.0       0.76      0.34      0.47      2000\n",
      "\n",
      "    accuracy                           0.59     10000\n",
      "   macro avg       0.64      0.59      0.59     10000\n",
      "weighted avg       0.64      0.59      0.59     10000\n",
      "\n"
     ]
    }
   ],
   "source": [
    "print(classification_report(y_test,xgbc.predict(X_test)))"
   ]
  },
  {
   "cell_type": "code",
   "execution_count": 20,
   "metadata": {},
   "outputs": [
    {
     "name": "stdout",
     "output_type": "stream",
     "text": [
      "(32000, 3)\n",
      "(32000,)\n",
      "(8000, 3)\n",
      "(8000,)\n"
     ]
    }
   ],
   "source": [
    "X_train2 = np.concatenate((dataUrban[:8000],dataAgri[:8000],dataRange[:8000],dataBarren[:8000]))\n",
    "y_train2 = np.ones((len(X_train2)))\n",
    "y_train2[:8000] *= 0\n",
    "y_train2[8000:16000] *= 1\n",
    "y_train2[16000:24000] *= 2\n",
    "y_train2[24000:36000] *= 3\n",
    "\n",
    "\n",
    "X_test2 = np.concatenate((dataUrban[8000:],dataAgri[8000:],dataRange[8000:],dataBarren[8000:]))\n",
    "y_test2 = np.ones((len(X_test2)))\n",
    "y_test2[:2000] *= 0\n",
    "y_test2[2000:4000] *= 1\n",
    "y_test2[4000:6000] *= 2\n",
    "y_test2[6000:8000] *= 3\n",
    "\n",
    "\n",
    "idx1 = np.random.permutation(len(X_train2))\n",
    "X_train2 = X_train2[idx1]\n",
    "y_train2 = y_train2[idx1]\n",
    "\n",
    "idx2 = np.random.permutation(len(X_test2))\n",
    "X_test2 = X_test2[idx2]\n",
    "y_test2 = y_test2[idx2]\n",
    "\n",
    "X_train2 = X_train2/255\n",
    "X_test2 = X_test2/255\n",
    "\n",
    "print(X_train2.shape)\n",
    "print(y_train2.shape)\n",
    "print(X_test2.shape)\n",
    "print(y_test2.shape)"
   ]
  },
  {
   "cell_type": "code",
   "execution_count": 21,
   "metadata": {},
   "outputs": [
    {
     "data": {
      "text/plain": [
       "XGBClassifier(base_score=0.5, booster='gbtree', colsample_bylevel=1,\n",
       "              colsample_bynode=1, colsample_bytree=1, gamma=0,\n",
       "              learning_rate=0.1, max_delta_step=0, max_depth=15,\n",
       "              min_child_weight=1, missing=None, n_estimators=200, n_jobs=1,\n",
       "              nthread=None, objective='multi:softprob', random_state=0,\n",
       "              reg_alpha=0, reg_lambda=1, scale_pos_weight=1, seed=None,\n",
       "              silent=None, subsample=1, verbosity=1)"
      ]
     },
     "execution_count": 21,
     "metadata": {},
     "output_type": "execute_result"
    }
   ],
   "source": [
    "xgbc2 = xgb.XGBClassifier(max_depth=15,n_estimators=200,learning_rate=0.1)\n",
    "xgbc2.fit(X_train2,y_train2)"
   ]
  },
  {
   "cell_type": "code",
   "execution_count": 23,
   "metadata": {},
   "outputs": [
    {
     "name": "stdout",
     "output_type": "stream",
     "text": [
      "              precision    recall  f1-score   support\n",
      "\n",
      "         0.0       0.64      0.50      0.56      2000\n",
      "         1.0       0.53      0.51      0.52      2000\n",
      "         2.0       0.54      0.64      0.58      2000\n",
      "         3.0       0.72      0.76      0.74      2000\n",
      "\n",
      "    accuracy                           0.60      8000\n",
      "   macro avg       0.61      0.60      0.60      8000\n",
      "weighted avg       0.61      0.60      0.60      8000\n",
      "\n"
     ]
    }
   ],
   "source": [
    "print(classification_report(y_test2,xgbc2.predict(X_test2)))"
   ]
  },
  {
   "cell_type": "code",
   "execution_count": 30,
   "metadata": {},
   "outputs": [],
   "source": [
    "def mymodel(data):\n",
    "    l1 = xgbc.predict(data)\n",
    "    l2 = xgbc2.predict(data)\n",
    "    outdata = []\n",
    "    for i in range(len(data)):\n",
    "        if(l1[i]==0):\n",
    "            outdata.append(0)\n",
    "        else:\n",
    "            outdata.append(l2[i]+1)\n",
    "    return np.array(outdata)"
   ]
  },
  {
   "cell_type": "code",
   "execution_count": 31,
   "metadata": {},
   "outputs": [],
   "source": [
    "pred = mymodel(X_test)"
   ]
  },
  {
   "cell_type": "code",
   "execution_count": 32,
   "metadata": {},
   "outputs": [
    {
     "data": {
      "text/plain": [
       "array([2., 3., 4., ..., 1., 3., 0.])"
      ]
     },
     "execution_count": 32,
     "metadata": {},
     "output_type": "execute_result"
    }
   ],
   "source": [
    "pred"
   ]
  },
  {
   "cell_type": "code",
   "execution_count": 33,
   "metadata": {},
   "outputs": [
    {
     "name": "stdout",
     "output_type": "stream",
     "text": [
      "              precision    recall  f1-score   support\n",
      "\n",
      "         0.0       0.95      0.96      0.95      2000\n",
      "         1.0       0.64      0.50      0.56      2000\n",
      "         2.0       0.51      0.48      0.50      2000\n",
      "         3.0       0.53      0.64      0.58      2000\n",
      "         4.0       0.72      0.76      0.74      2000\n",
      "\n",
      "    accuracy                           0.67     10000\n",
      "   macro avg       0.67      0.67      0.67     10000\n",
      "weighted avg       0.67      0.67      0.67     10000\n",
      "\n"
     ]
    }
   ],
   "source": [
    "print(classification_report(y_test,pred))"
   ]
  },
  {
   "cell_type": "code",
   "execution_count": 34,
   "metadata": {},
   "outputs": [],
   "source": [
    "img = img.reshape(((2448* 2448, 3)))\n",
    "img = img/255"
   ]
  },
  {
   "cell_type": "code",
   "execution_count": null,
   "metadata": {},
   "outputs": [],
   "source": [
    "predimg = mymodel(img)"
   ]
  },
  {
   "cell_type": "code",
   "execution_count": null,
   "metadata": {},
   "outputs": [],
   "source": [
    "#predimg_dec = np.argmax(predimg,axis=1)\n",
    "#predimg_dec =medfilt(predimg_dec,kernel_size=3)\n",
    "predimg_dec = predimg"
   ]
  },
  {
   "cell_type": "code",
   "execution_count": null,
   "metadata": {},
   "outputs": [],
   "source": [
    "colormap = np.zeros_like(img).astype(int)"
   ]
  },
  {
   "cell_type": "code",
   "execution_count": null,
   "metadata": {},
   "outputs": [],
   "source": [
    "for i in range(len(colormap)):\n",
    "    if(predimg_dec[i] == 0):\n",
    "        #water\n",
    "        colormap[i] = [0,0,255]\n",
    "    elif(predimg_dec[i]==1):\n",
    "        #urban\n",
    "        colormap[i] = [0,255,255]\n",
    "    elif (predimg_dec[i] ==2):\n",
    "        #argi\n",
    "        colormap[i] = [255,255,0]\n",
    "    elif (predimg_dec[i] == 3):\n",
    "        #range\n",
    "        colormap[i] = [255,0,255]\n",
    "    elif (predimg_dec[i] == 4):\n",
    "        #barren\n",
    "        colormap[i] = [255,255,255]"
   ]
  },
  {
   "cell_type": "code",
   "execution_count": null,
   "metadata": {},
   "outputs": [],
   "source": [
    "predimg[0]"
   ]
  },
  {
   "cell_type": "code",
   "execution_count": null,
   "metadata": {},
   "outputs": [],
   "source": [
    "colormap = colormap.reshape((2448,2448,3))"
   ]
  },
  {
   "cell_type": "code",
   "execution_count": null,
   "metadata": {},
   "outputs": [],
   "source": [
    "plt.imshow(colormap)"
   ]
  },
  {
   "cell_type": "code",
   "execution_count": 235,
   "metadata": {},
   "outputs": [
    {
     "data": {
      "text/plain": [
       "([array([5158946.,   85798.,   60119.,   30307.,   30502.,   17502.,\n",
       "           15675.,   13051.,   12778.,  568026.]),\n",
       "  array([1203077., 2739956., 1013633.,  396885.,  194907.,  139780.,\n",
       "           93787.,   66633.,   41589.,  102457.]),\n",
       "  array([1221419., 1117671., 1396672.,  856394.,  452014.,  373052.,\n",
       "          228038.,  168081.,  132367.,   46996.]),\n",
       "  array([1279255.,  581028.,  644786., 1033556., 1112818.,  721364.,\n",
       "          568673.,   51224.,       0.,       0.]),\n",
       "  array([4.589292e+06, 7.475250e+05, 2.749180e+05, 2.328310e+05,\n",
       "         1.406310e+05, 7.412000e+03, 8.800000e+01, 7.000000e+00,\n",
       "         0.000000e+00, 0.000000e+00])],\n",
       " array([0. , 0.1, 0.2, 0.3, 0.4, 0.5, 0.6, 0.7, 0.8, 0.9, 1. ],\n",
       "       dtype=float32),\n",
       " <a list of 5 Lists of Patches objects>)"
      ]
     },
     "execution_count": 235,
     "metadata": {},
     "output_type": "execute_result"
    },
    {
     "data": {
      "image/png": "[encoded data removed]",
      "text/plain": [
       "<Figure size 432x288 with 1 Axes>"
      ]
     },
     "metadata": {
      "needs_background": "light"
     },
     "output_type": "display_data"
    }
   ],
   "source": [
    "plt.hist(predimg)"
   ]
  },
  {
   "cell_type": "code",
   "execution_count": 232,
   "metadata": {},
   "outputs": [],
   "source": [
    "from sklearn.metrics import confusion_matrix,cohen_kappa_score"
   ]
  },
  {
   "cell_type": "code",
   "execution_count": 235,
   "metadata": {},
   "outputs": [
    {
     "data": {
      "text/plain": [
       "array([[1881,    0,  108,   11,    0],\n",
       "       [  11,  834,  339,  744,   72],\n",
       "       [  26,   52,  947,  968,    7],\n",
       "       [  11,   81,  229, 1669,   10],\n",
       "       [   0,  113,   88,  966,  833]])"
      ]
     },
     "execution_count": 235,
     "metadata": {},
     "output_type": "execute_result"
    }
   ],
   "source": [
    "confmat = confusion_matrix(y_test,pred)\n",
    "confmat"
   ]
  },
  {
   "cell_type": "code",
   "execution_count": 249,
   "metadata": {},
   "outputs": [
    {
     "data": {
      "text/plain": [
       "array([94.05, 41.7 , 47.35, 83.45, 41.65])"
      ]
     },
     "execution_count": 249,
     "metadata": {},
     "output_type": "execute_result"
    }
   ],
   "source": [
    "user_acc = [confmat[0,0],confmat[1,1],confmat[2,2],confmat[3,3],confmat[4,4]]/np.sum(confmat,axis=1)*100\n",
    "user_acc"
   ]
  },
  {
   "cell_type": "code",
   "execution_count": 252,
   "metadata": {},
   "outputs": [
    {
     "data": {
      "text/plain": [
       "array([97.51166407, 77.22222222, 55.34774985, 38.29738412, 90.34707158])"
      ]
     },
     "execution_count": 252,
     "metadata": {},
     "output_type": "execute_result"
    }
   ],
   "source": [
    "prod_acc = [confmat[0,0],confmat[1,1],confmat[2,2],confmat[3,3],confmat[4,4]]/np.sum(confmat,axis=0)*100\n",
    "prod_acc"
   ]
  },
  {
   "cell_type": "code",
   "execution_count": 261,
   "metadata": {},
   "outputs": [
    {
     "data": {
      "text/plain": [
       "0.6164"
      ]
     },
     "execution_count": 261,
     "metadata": {},
     "output_type": "execute_result"
    }
   ],
   "source": [
    "overall_acc = np.sum([confmat[0,0],confmat[1,1],confmat[2,2],confmat[3,3],confmat[4,4]])/10000\n",
    "overall_acc"
   ]
  },
  {
   "cell_type": "code",
   "execution_count": 263,
   "metadata": {},
   "outputs": [
    {
     "data": {
      "text/plain": [
       "0.5204999999999999"
      ]
     },
     "execution_count": 263,
     "metadata": {},
     "output_type": "execute_result"
    }
   ],
   "source": [
    "(overall_acc-1/5)/(1-1/5)"
   ]
  },
  {
   "cell_type": "code",
   "execution_count": 233,
   "metadata": {},
   "outputs": [
    {
     "data": {
      "text/plain": [
       "0.5205"
      ]
     },
     "execution_count": 233,
     "metadata": {},
     "output_type": "execute_result"
    }
   ],
   "source": [
    "cohen_kappa_score(y_test,pred)"
   ]
  },
  {
   "cell_type": "code",
   "execution_count": 254,
   "metadata": {},
   "outputs": [
    {
     "name": "stdout",
     "output_type": "stream",
     "text": [
      "              precision    recall  f1-score   support\n",
      "\n",
      "         0.0       0.98      0.94      0.96      2000\n",
      "         1.0       0.77      0.42      0.54      2000\n",
      "         2.0       0.55      0.47      0.51      2000\n",
      "         3.0       0.38      0.83      0.53      2000\n",
      "         4.0       0.90      0.42      0.57      2000\n",
      "\n",
      "    accuracy                           0.62     10000\n",
      "   macro avg       0.72      0.62      0.62     10000\n",
      "weighted avg       0.72      0.62      0.62     10000\n",
      "\n"
     ]
    }
   ],
   "source": [
    "print(classification_report(y_test,pred))"
   ]
  },
  {
   "cell_type": "code",
   "execution_count": 243,
   "metadata": {},
   "outputs": [
    {
     "data": {
      "text/plain": [
       "array([1881,    0,  108,   11,    0])"
      ]
     },
     "execution_count": 243,
     "metadata": {},
     "output_type": "execute_result"
    }
   ],
   "source": [
    "confmat[0]"
   ]
  },
  {
   "cell_type": "code",
   "execution_count": 251,
   "metadata": {},
   "outputs": [
    {
     "data": {
      "text/plain": [
       "array([1929, 1080, 1711, 4358,  922])"
      ]
     },
     "execution_count": 251,
     "metadata": {},
     "output_type": "execute_result"
    }
   ],
   "source": [
    "np.sum(confmat,axis=0)"
   ]
  },
  {
   "cell_type": "code",
   "execution_count": null,
   "metadata": {},
   "outputs": [],
   "source": []
  }
 ],
 "metadata": {
  "kernelspec": {
   "display_name": "Python 3",
   "language": "python",
   "name": "python3"
  },
  "language_info": {
   "codemirror_mode": {
    "name": "ipython",
    "version": 3
   },
   "file_extension": ".py",
   "mimetype": "text/x-python",
   "name": "python",
   "nbconvert_exporter": "python",
   "pygments_lexer": "ipython3",
   "version": "3.7.3"
  }
 },
 "nbformat": 4,
 "nbformat_minor": 2
}
