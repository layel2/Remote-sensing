{
 "cells": [
  {
   "cell_type": "code",
   "execution_count": 1,
   "metadata": {},
   "outputs": [
    {
     "name": "stderr",
     "output_type": "stream",
     "text": [
      "C:\\Users\\Lay\\Anaconda3\\envs\\ai\\lib\\site-packages\\tensorflow\\python\\framework\\dtypes.py:526: FutureWarning: Passing (type, 1) or '1type' as a synonym of type is deprecated; in a future version of numpy, it will be understood as (type, (1,)) / '(1,)type'.\n",
      "  _np_qint8 = np.dtype([(\"qint8\", np.int8, 1)])\n",
      "C:\\Users\\Lay\\Anaconda3\\envs\\ai\\lib\\site-packages\\tensorflow\\python\\framework\\dtypes.py:527: FutureWarning: Passing (type, 1) or '1type' as a synonym of type is deprecated; in a future version of numpy, it will be understood as (type, (1,)) / '(1,)type'.\n",
      "  _np_quint8 = np.dtype([(\"quint8\", np.uint8, 1)])\n",
      "C:\\Users\\Lay\\Anaconda3\\envs\\ai\\lib\\site-packages\\tensorflow\\python\\framework\\dtypes.py:528: FutureWarning: Passing (type, 1) or '1type' as a synonym of type is deprecated; in a future version of numpy, it will be understood as (type, (1,)) / '(1,)type'.\n",
      "  _np_qint16 = np.dtype([(\"qint16\", np.int16, 1)])\n",
      "C:\\Users\\Lay\\Anaconda3\\envs\\ai\\lib\\site-packages\\tensorflow\\python\\framework\\dtypes.py:529: FutureWarning: Passing (type, 1) or '1type' as a synonym of type is deprecated; in a future version of numpy, it will be understood as (type, (1,)) / '(1,)type'.\n",
      "  _np_quint16 = np.dtype([(\"quint16\", np.uint16, 1)])\n",
      "C:\\Users\\Lay\\Anaconda3\\envs\\ai\\lib\\site-packages\\tensorflow\\python\\framework\\dtypes.py:530: FutureWarning: Passing (type, 1) or '1type' as a synonym of type is deprecated; in a future version of numpy, it will be understood as (type, (1,)) / '(1,)type'.\n",
      "  _np_qint32 = np.dtype([(\"qint32\", np.int32, 1)])\n",
      "C:\\Users\\Lay\\Anaconda3\\envs\\ai\\lib\\site-packages\\tensorflow\\python\\framework\\dtypes.py:535: FutureWarning: Passing (type, 1) or '1type' as a synonym of type is deprecated; in a future version of numpy, it will be understood as (type, (1,)) / '(1,)type'.\n",
      "  np_resource = np.dtype([(\"resource\", np.ubyte, 1)])\n"
     ]
    }
   ],
   "source": [
    "from osgeo import gdal, gdalconst\n",
    "from osgeo.gdalconst import *\n",
    "import numpy as np\n",
    "from matplotlib import pyplot as plt\n",
    "import pandas as pd\n",
    "from sklearn.metrics import classification_report\n",
    "from tensorflow import keras"
   ]
  },
  {
   "cell_type": "code",
   "execution_count": 2,
   "metadata": {},
   "outputs": [],
   "source": [
    "img_path = './FinalQ4Image.jpg'"
   ]
  },
  {
   "cell_type": "code",
   "execution_count": 3,
   "metadata": {},
   "outputs": [],
   "source": [
    "ds = gdal.Open(img_path, GA_ReadOnly)"
   ]
  },
  {
   "cell_type": "code",
   "execution_count": 4,
   "metadata": {},
   "outputs": [],
   "source": [
    "n_band = ds.RasterCount"
   ]
  },
  {
   "cell_type": "code",
   "execution_count": 5,
   "metadata": {},
   "outputs": [],
   "source": [
    "img_width = 2448\n",
    "img_height = 2448"
   ]
  },
  {
   "cell_type": "code",
   "execution_count": 6,
   "metadata": {},
   "outputs": [],
   "source": [
    "img = np.zeros((img_width,img_height,n_band))\n",
    "for i in range(n_band):\n",
    "    band = ds.GetRasterBand(i+1)\n",
    "    data = band.ReadAsArray()\n",
    "    img[:,:,i] = data\n",
    "data = None\n",
    "band = None"
   ]
  },
  {
   "cell_type": "code",
   "execution_count": 7,
   "metadata": {},
   "outputs": [],
   "source": [
    "#mgU = img.mean()\n",
    "#imgStd = img.std()\n",
    "img = (img)/255"
   ]
  },
  {
   "cell_type": "code",
   "execution_count": 8,
   "metadata": {},
   "outputs": [],
   "source": [
    "pointWater = pd.read_csv('./water_samples.csv').values\n",
    "pointUrban = pd.read_csv('./urban_samples.csv').values\n",
    "pointAgri = pd.read_csv('./agriculture_samples.csv').values\n",
    "pointRange = pd.read_csv('./Range_samples.csv').values\n",
    "pointBarren = pd.read_csv('./barren_samples.csv').values"
   ]
  },
  {
   "cell_type": "code",
   "execution_count": 9,
   "metadata": {},
   "outputs": [],
   "source": [
    "def imgPointToData(img,point):\n",
    "    dataOut = []\n",
    "    for i in range(len(point)):\n",
    "        dataOut.append(img[point[i,0],point[i,1]])\n",
    "    return np.array(dataOut)"
   ]
  },
  {
   "cell_type": "code",
   "execution_count": 10,
   "metadata": {},
   "outputs": [],
   "source": [
    "dataWater = imgPointToData(img,pointWater)\n",
    "dataUrban = imgPointToData(img,pointUrban)\n",
    "dataAgri = imgPointToData(img,pointAgri)\n",
    "dataRange = imgPointToData(img,pointRange)\n",
    "dataBarren = imgPointToData(img,pointBarren)"
   ]
  },
  {
   "cell_type": "code",
   "execution_count": 11,
   "metadata": {},
   "outputs": [],
   "source": [
    "X_train = np.concatenate((dataWater[:8000],dataUrban[:8000],dataAgri[:8000],dataRange[:8000],dataBarren[:8000]))\n",
    "y_train = np.ones((len(X_train)))\n",
    "y_train[:8000] *= 0\n",
    "y_train[8000:16000] *= 1\n",
    "y_train[16000:24000] *= 2\n",
    "y_train[24000:36000] *= 3\n",
    "y_train[36000:40000] *= 4\n",
    "\n",
    "X_test = np.concatenate((dataWater[8000:],dataUrban[8000:],dataAgri[8000:],dataRange[8000:],dataBarren[8000:]))\n",
    "y_test = np.ones((len(X_test)))\n",
    "y_test[:2000] *= 0\n",
    "y_test[2000:4000] *= 1\n",
    "y_test[4000:6000] *= 2\n",
    "y_test[6000:8000] *= 3\n",
    "y_test[8000:10000] *= 4"
   ]
  },
  {
   "cell_type": "code",
   "execution_count": 12,
   "metadata": {},
   "outputs": [
    {
     "name": "stdout",
     "output_type": "stream",
     "text": [
      "(40000, 3)\n",
      "(40000,)\n",
      "(10000, 3)\n",
      "(10000,)\n"
     ]
    }
   ],
   "source": [
    "print(X_train.shape)\n",
    "print(y_train.shape)\n",
    "print(X_test.shape)\n",
    "print(y_test.shape)"
   ]
  },
  {
   "cell_type": "code",
   "execution_count": 13,
   "metadata": {},
   "outputs": [],
   "source": [
    "idx1 = np.random.permutation(len(X_train))\n",
    "X_train = X_train[idx1]\n",
    "y_train = y_train[idx1]\n",
    "\n",
    "idx2 = np.random.permutation(len(X_test))\n",
    "X_test = X_test[idx2]\n",
    "y_test = y_test[idx2]\n",
    "\n",
    "#X_train = X_train/255\n",
    "#X_test = X_test/255"
   ]
  },
  {
   "cell_type": "code",
   "execution_count": 14,
   "metadata": {},
   "outputs": [],
   "source": [
    "X_train1 = np.concatenate((dataWater[:8000],dataUrban[:8000],dataAgri[:8000],dataRange[:8000],dataBarren[:8000]))\n",
    "y_train1 = np.ones((len(X_train)))\n",
    "y_train1[:8000] *= 0\n",
    "y_train1[8000:40000] *= 1\n",
    "\n",
    "\n",
    "X_test1  = np.concatenate((dataWater[8000:],dataUrban[8000:],dataAgri[8000:],dataRange[8000:],dataBarren[8000:]))\n",
    "y_test1 = np.ones((len(X_test1)))\n",
    "y_test1[:2000] *= 0\n",
    "y_test1[2000:10000] *= 1\n",
    "\n",
    "idx1 = np.random.permutation(len(X_train1))\n",
    "X_train1 = X_train1[idx1]\n",
    "y_train1 = y_train1[idx1]\n",
    "\n",
    "idx2 = np.random.permutation(len(X_test1))\n",
    "X_test1 = X_test1[idx2]\n",
    "y_test1 = y_test1[idx2]\n",
    "\n"
   ]
  },
  {
   "cell_type": "code",
   "execution_count": 15,
   "metadata": {},
   "outputs": [
    {
     "name": "stdout",
     "output_type": "stream",
     "text": [
      "(32000, 3)\n",
      "(32000,)\n",
      "(8000, 3)\n",
      "(8000,)\n"
     ]
    }
   ],
   "source": [
    "X_train2 = np.concatenate((dataUrban[:8000],dataAgri[:8000],dataRange[:8000],dataBarren[:8000]))\n",
    "y_train2 = np.ones((len(X_train2)))\n",
    "y_train2[:8000] *= 0\n",
    "y_train2[8000:16000] *= 1\n",
    "y_train2[16000:24000] *= 2\n",
    "y_train2[24000:36000] *= 3\n",
    "\n",
    "\n",
    "X_test2 = np.concatenate((dataUrban[8000:],dataAgri[8000:],dataRange[8000:],dataBarren[8000:]))\n",
    "y_test2 = np.ones((len(X_test2)))\n",
    "y_test2[:2000] *= 0\n",
    "y_test2[2000:4000] *= 1\n",
    "y_test2[4000:6000] *= 2\n",
    "y_test2[6000:8000] *= 3\n",
    "\n",
    "\n",
    "idx1 = np.random.permutation(len(X_train2))\n",
    "X_train2 = X_train2[idx1]\n",
    "y_train2 = y_train2[idx1]\n",
    "\n",
    "idx2 = np.random.permutation(len(X_test2))\n",
    "X_test2 = X_test2[idx2]\n",
    "y_test2 = y_test2[idx2]\n",
    "\n",
    "#X_train2 = X_train2/255\n",
    "#X_test2 = X_test2/255\n",
    "\n",
    "print(X_train2.shape)\n",
    "print(y_train2.shape)\n",
    "print(X_test2.shape)\n",
    "print(y_test2.shape)"
   ]
  },
  {
   "cell_type": "code",
   "execution_count": 16,
   "metadata": {},
   "outputs": [],
   "source": [
    "y_train_encode = keras.utils.to_categorical(y_train)\n",
    "y_test_encode = keras.utils.to_categorical(y_test)\n",
    "y_train_encode2 = keras.utils.to_categorical(y_train2)\n",
    "y_test_encode2 = keras.utils.to_categorical(y_test2)"
   ]
  },
  {
   "cell_type": "code",
   "execution_count": 26,
   "metadata": {},
   "outputs": [],
   "source": [
    "def nnmodel(input_shape):\n",
    "    X_input = keras.layers.Input((input_shape))\n",
    "    X = keras.layers.Dense(128,activation='relu')(X_input)\n",
    "    X = keras.layers.Dense(32,activation='relu')(X)\n",
    "    X = keras.layers.Dense(1,activation='sigmoid')(X)\n",
    "    model = keras.models.Model(inputs=X_input, outputs=X, name='model')\n",
    "    return model"
   ]
  },
  {
   "cell_type": "code",
   "execution_count": 27,
   "metadata": {},
   "outputs": [
    {
     "name": "stdout",
     "output_type": "stream",
     "text": [
      "_________________________________________________________________\n",
      "Layer (type)                 Output Shape              Param #   \n",
      "=================================================================\n",
      "input_3 (InputLayer)         (None, 3)                 0         \n",
      "_________________________________________________________________\n",
      "dense_6 (Dense)              (None, 128)               512       \n",
      "_________________________________________________________________\n",
      "dense_7 (Dense)              (None, 32)                4128      \n",
      "_________________________________________________________________\n",
      "dense_8 (Dense)              (None, 1)                 33        \n",
      "=================================================================\n",
      "Total params: 4,673\n",
      "Trainable params: 4,673\n",
      "Non-trainable params: 0\n",
      "_________________________________________________________________\n"
     ]
    }
   ],
   "source": [
    "mymodel = nnmodel(X_train1[0].shape)\n",
    "mymodel.compile(optimizer=\"adam\", loss=\"binary_crossentropy\", metrics=['accuracy'])\n",
    "mymodel.summary()"
   ]
  },
  {
   "cell_type": "code",
   "execution_count": 28,
   "metadata": {},
   "outputs": [
    {
     "name": "stdout",
     "output_type": "stream",
     "text": [
      "Train on 40000 samples, validate on 10000 samples\n",
      "Epoch 1/10\n",
      "40000/40000 [==============================] - 5s 124us/sample - loss: 0.1427 - acc: 0.9418 - val_loss: 0.0721 - val_acc: 0.9742\n",
      "Epoch 2/10\n",
      "40000/40000 [==============================] - 5s 120us/sample - loss: 0.0673 - acc: 0.9753 - val_loss: 0.0606 - val_acc: 0.9777\n",
      "Epoch 3/10\n",
      "40000/40000 [==============================] - 5s 120us/sample - loss: 0.0582 - acc: 0.9786 - val_loss: 0.0526 - val_acc: 0.9811\n",
      "Epoch 4/10\n",
      "40000/40000 [==============================] - 5s 121us/sample - loss: 0.0534 - acc: 0.9807 - val_loss: 0.0503 - val_acc: 0.9823\n",
      "Epoch 5/10\n",
      "40000/40000 [==============================] - 5s 127us/sample - loss: 0.0516 - acc: 0.9817 - val_loss: 0.0485 - val_acc: 0.9819\n",
      "Epoch 6/10\n",
      "40000/40000 [==============================] - 5s 132us/sample - loss: 0.0504 - acc: 0.9814 - val_loss: 0.0488 - val_acc: 0.9815\n",
      "Epoch 7/10\n",
      "40000/40000 [==============================] - 5s 136us/sample - loss: 0.0495 - acc: 0.9824 - val_loss: 0.0494 - val_acc: 0.9815\n",
      "Epoch 8/10\n",
      "40000/40000 [==============================] - 6s 147us/sample - loss: 0.0495 - acc: 0.9821 - val_loss: 0.0468 - val_acc: 0.9828\n",
      "Epoch 9/10\n",
      "40000/40000 [==============================] - 6s 141us/sample - loss: 0.0488 - acc: 0.9819 - val_loss: 0.0486 - val_acc: 0.9822\n",
      "Epoch 10/10\n",
      "40000/40000 [==============================] - 5s 130us/sample - loss: 0.0483 - acc: 0.9826 - val_loss: 0.0460 - val_acc: 0.9832\n"
     ]
    },
    {
     "data": {
      "text/plain": [
       "<tensorflow.python.keras.callbacks.History at 0x15f8fc7e048>"
      ]
     },
     "execution_count": 28,
     "metadata": {},
     "output_type": "execute_result"
    }
   ],
   "source": [
    "mymodel.fit(X_train1,y_train1,batch_size=32,epochs=10,validation_data=(X_test1,y_test1))"
   ]
  },
  {
   "cell_type": "code",
   "execution_count": 29,
   "metadata": {},
   "outputs": [
    {
     "data": {
      "text/plain": [
       "[<matplotlib.lines.Line2D at 0x15f8e3acc48>]"
      ]
     },
     "execution_count": 29,
     "metadata": {},
     "output_type": "execute_result"
    },
    {
     "data": {
      "image/png": "[encoded data removed]",
      "text/plain": [
       "<Figure size 432x288 with 1 Axes>"
      ]
     },
     "metadata": {
      "needs_background": "light"
     },
     "output_type": "display_data"
    }
   ],
   "source": [
    "his = mymodel.history.history\n",
    "plt.plot(his['acc'])\n",
    "plt.plot(his['val_acc'])"
   ]
  },
  {
   "cell_type": "code",
   "execution_count": 30,
   "metadata": {},
   "outputs": [],
   "source": [
    "pred1 = mymodel.predict(X_test1)\n",
    "pred1 = (pred1>0.5)*1"
   ]
  },
  {
   "cell_type": "code",
   "execution_count": 31,
   "metadata": {},
   "outputs": [
    {
     "name": "stdout",
     "output_type": "stream",
     "text": [
      "              precision    recall  f1-score   support\n",
      "\n",
      "         0.0       0.96      0.96      0.96      2000\n",
      "         1.0       0.99      0.99      0.99      8000\n",
      "\n",
      "    accuracy                           0.98     10000\n",
      "   macro avg       0.97      0.97      0.97     10000\n",
      "weighted avg       0.98      0.98      0.98     10000\n",
      "\n"
     ]
    }
   ],
   "source": [
    "print(classification_report(y_test1,pred1))"
   ]
  },
  {
   "cell_type": "code",
   "execution_count": 32,
   "metadata": {},
   "outputs": [],
   "source": [
    "def nnmodel2(input_shape):\n",
    "    X_input = keras.layers.Input((input_shape))\n",
    "    X = keras.layers.Dense(1024,activation='relu')(X_input)\n",
    "    X = keras.layers.Dense(256,activation='relu')(X)\n",
    "    X = keras.layers.Dense(4,activation='softmax')(X)\n",
    "    model = keras.models.Model(inputs=X_input, outputs=X, name='model')\n",
    "    return model"
   ]
  },
  {
   "cell_type": "code",
   "execution_count": 34,
   "metadata": {},
   "outputs": [
    {
     "name": "stdout",
     "output_type": "stream",
     "text": [
      "_________________________________________________________________\n",
      "Layer (type)                 Output Shape              Param #   \n",
      "=================================================================\n",
      "input_5 (InputLayer)         (None, 3)                 0         \n",
      "_________________________________________________________________\n",
      "dense_12 (Dense)             (None, 1024)              4096      \n",
      "_________________________________________________________________\n",
      "dense_13 (Dense)             (None, 256)               262400    \n",
      "_________________________________________________________________\n",
      "dense_14 (Dense)             (None, 4)                 1028      \n",
      "=================================================================\n",
      "Total params: 267,524\n",
      "Trainable params: 267,524\n",
      "Non-trainable params: 0\n",
      "_________________________________________________________________\n"
     ]
    }
   ],
   "source": [
    "mymodel2 = nnmodel2(X_train2[0].shape)\n",
    "opt = keras.optimizers.Adam(lr=0.0005)\n",
    "mymodel2.compile(optimizer=opt, loss=\"categorical_crossentropy\", metrics=['accuracy'])\n",
    "mymodel2.summary()"
   ]
  },
  {
   "cell_type": "code",
   "execution_count": 35,
   "metadata": {},
   "outputs": [
    {
     "name": "stdout",
     "output_type": "stream",
     "text": [
      "Train on 32000 samples, validate on 8000 samples\n",
      "Epoch 1/50\n",
      "32000/32000 [==============================] - 5s 160us/sample - loss: 1.0615 - acc: 0.5530 - val_loss: 1.0056 - val_acc: 0.5775\n",
      "Epoch 2/50\n",
      "32000/32000 [==============================] - 4s 135us/sample - loss: 1.0065 - acc: 0.5820 - val_loss: 1.0167 - val_acc: 0.5680\n",
      "Epoch 3/50\n",
      "32000/32000 [==============================] - 4s 127us/sample - loss: 0.9999 - acc: 0.5869 - val_loss: 0.9989 - val_acc: 0.5866\n",
      "Epoch 4/50\n",
      "32000/32000 [==============================] - 4s 126us/sample - loss: 0.9939 - acc: 0.5878 - val_loss: 0.9967 - val_acc: 0.5764\n",
      "Epoch 5/50\n",
      "32000/32000 [==============================] - 4s 125us/sample - loss: 0.9857 - acc: 0.5934 - val_loss: 0.9806 - val_acc: 0.5844\n",
      "Epoch 6/50\n",
      "32000/32000 [==============================] - 4s 125us/sample - loss: 0.9784 - acc: 0.5970 - val_loss: 0.9850 - val_acc: 0.5946\n",
      "Epoch 7/50\n",
      "32000/32000 [==============================] - 5s 147us/sample - loss: 0.9746 - acc: 0.6000 - val_loss: 0.9744 - val_acc: 0.6018\n",
      "Epoch 8/50\n",
      "32000/32000 [==============================] - 5s 144us/sample - loss: 0.9686 - acc: 0.6019 - val_loss: 0.9894 - val_acc: 0.5775\n",
      "Epoch 9/50\n",
      "32000/32000 [==============================] - 4s 129us/sample - loss: 0.9632 - acc: 0.6021 - val_loss: 0.9587 - val_acc: 0.5989\n",
      "Epoch 10/50\n",
      "32000/32000 [==============================] - 4s 130us/sample - loss: 0.9627 - acc: 0.6056 - val_loss: 0.9538 - val_acc: 0.6051\n",
      "Epoch 11/50\n",
      "32000/32000 [==============================] - 4s 130us/sample - loss: 0.9566 - acc: 0.6080 - val_loss: 0.9534 - val_acc: 0.6041\n",
      "Epoch 12/50\n",
      "32000/32000 [==============================] - 4s 128us/sample - loss: 0.9548 - acc: 0.6088 - val_loss: 0.9498 - val_acc: 0.6037\n",
      "Epoch 13/50\n",
      "32000/32000 [==============================] - 4s 129us/sample - loss: 0.9511 - acc: 0.6103 - val_loss: 0.9588 - val_acc: 0.6012\n",
      "Epoch 14/50\n",
      "32000/32000 [==============================] - 4s 127us/sample - loss: 0.9494 - acc: 0.6084 - val_loss: 0.9414 - val_acc: 0.6105\n",
      "Epoch 15/50\n",
      "32000/32000 [==============================] - 4s 125us/sample - loss: 0.9466 - acc: 0.6099 - val_loss: 0.9524 - val_acc: 0.6053\n",
      "Epoch 16/50\n",
      "32000/32000 [==============================] - 4s 126us/sample - loss: 0.9450 - acc: 0.6128 - val_loss: 0.9491 - val_acc: 0.6115\n",
      "Epoch 17/50\n",
      "32000/32000 [==============================] - 4s 126us/sample - loss: 0.9393 - acc: 0.6156 - val_loss: 0.9479 - val_acc: 0.6083\n",
      "Epoch 18/50\n",
      "32000/32000 [==============================] - 4s 128us/sample - loss: 0.9346 - acc: 0.6177 - val_loss: 0.9369 - val_acc: 0.6120\n",
      "Epoch 19/50\n",
      "32000/32000 [==============================] - 4s 127us/sample - loss: 0.9320 - acc: 0.6179 - val_loss: 0.9435 - val_acc: 0.6086\n",
      "Epoch 20/50\n",
      "32000/32000 [==============================] - 4s 126us/sample - loss: 0.9263 - acc: 0.6238 - val_loss: 0.9257 - val_acc: 0.6175\n",
      "Epoch 21/50\n",
      "32000/32000 [==============================] - 4s 129us/sample - loss: 0.9253 - acc: 0.6228 - val_loss: 0.9375 - val_acc: 0.6100\n",
      "Epoch 22/50\n",
      "32000/32000 [==============================] - 4s 134us/sample - loss: 0.9234 - acc: 0.6245 - val_loss: 0.9201 - val_acc: 0.6183\n",
      "Epoch 23/50\n",
      "32000/32000 [==============================] - 5s 144us/sample - loss: 0.9211 - acc: 0.6251 - val_loss: 0.9270 - val_acc: 0.6144\n",
      "Epoch 24/50\n",
      "32000/32000 [==============================] - 4s 140us/sample - loss: 0.9178 - acc: 0.6275 - val_loss: 0.9186 - val_acc: 0.6174\n",
      "Epoch 25/50\n",
      "32000/32000 [==============================] - 4s 134us/sample - loss: 0.9171 - acc: 0.6265 - val_loss: 0.9168 - val_acc: 0.6187\n",
      "Epoch 26/50\n",
      "32000/32000 [==============================] - 4s 134us/sample - loss: 0.9152 - acc: 0.6249 - val_loss: 0.9134 - val_acc: 0.6187\n",
      "Epoch 27/50\n",
      "32000/32000 [==============================] - 4s 134us/sample - loss: 0.9138 - acc: 0.6276 - val_loss: 0.9331 - val_acc: 0.6101\n",
      "Epoch 28/50\n",
      "32000/32000 [==============================] - 4s 134us/sample - loss: 0.9115 - acc: 0.6277 - val_loss: 0.9249 - val_acc: 0.6141\n",
      "Epoch 29/50\n",
      "32000/32000 [==============================] - 4s 133us/sample - loss: 0.9105 - acc: 0.6266 - val_loss: 0.9422 - val_acc: 0.6112\n",
      "Epoch 30/50\n",
      "32000/32000 [==============================] - 4s 133us/sample - loss: 0.9092 - acc: 0.6285 - val_loss: 0.9067 - val_acc: 0.6216\n",
      "Epoch 31/50\n",
      "32000/32000 [==============================] - 4s 132us/sample - loss: 0.9079 - acc: 0.6276 - val_loss: 0.9033 - val_acc: 0.6242\n",
      "Epoch 32/50\n",
      "32000/32000 [==============================] - 4s 133us/sample - loss: 0.9071 - acc: 0.6295 - val_loss: 0.9137 - val_acc: 0.6240\n",
      "Epoch 33/50\n",
      "32000/32000 [==============================] - 4s 133us/sample - loss: 0.9068 - acc: 0.6271 - val_loss: 0.9406 - val_acc: 0.6028\n",
      "Epoch 34/50\n",
      "32000/32000 [==============================] - 4s 133us/sample - loss: 0.9066 - acc: 0.6283 - val_loss: 0.9171 - val_acc: 0.6159\n",
      "Epoch 35/50\n",
      "32000/32000 [==============================] - 4s 133us/sample - loss: 0.9063 - acc: 0.6277 - val_loss: 0.9028 - val_acc: 0.6200\n",
      "Epoch 36/50\n",
      "32000/32000 [==============================] - 4s 131us/sample - loss: 0.9040 - acc: 0.6299 - val_loss: 0.9121 - val_acc: 0.6166\n",
      "Epoch 37/50\n",
      "32000/32000 [==============================] - 4s 131us/sample - loss: 0.9039 - acc: 0.6309 - val_loss: 0.9179 - val_acc: 0.6168\n",
      "Epoch 38/50\n",
      "32000/32000 [==============================] - 4s 130us/sample - loss: 0.9042 - acc: 0.6296 - val_loss: 0.9095 - val_acc: 0.6191\n",
      "Epoch 39/50\n",
      "32000/32000 [==============================] - 4s 131us/sample - loss: 0.9031 - acc: 0.6280 - val_loss: 0.9248 - val_acc: 0.6125\n",
      "Epoch 40/50\n",
      "32000/32000 [==============================] - 4s 131us/sample - loss: 0.9019 - acc: 0.6295 - val_loss: 0.9022 - val_acc: 0.6226\n",
      "Epoch 41/50\n",
      "32000/32000 [==============================] - 4s 131us/sample - loss: 0.9007 - acc: 0.6301 - val_loss: 0.9035 - val_acc: 0.6190\n",
      "Epoch 42/50\n",
      "32000/32000 [==============================] - 4s 131us/sample - loss: 0.9006 - acc: 0.6302 - val_loss: 0.9098 - val_acc: 0.6196\n",
      "Epoch 43/50\n",
      "32000/32000 [==============================] - 4s 130us/sample - loss: 0.9012 - acc: 0.6309 - val_loss: 0.8995 - val_acc: 0.6235\n",
      "Epoch 44/50\n",
      "32000/32000 [==============================] - 4s 131us/sample - loss: 0.8981 - acc: 0.6331 - val_loss: 0.9016 - val_acc: 0.6220\n",
      "Epoch 45/50\n",
      "32000/32000 [==============================] - 4s 131us/sample - loss: 0.8989 - acc: 0.6320 - val_loss: 0.9169 - val_acc: 0.6189\n",
      "Epoch 46/50\n",
      "32000/32000 [==============================] - 4s 132us/sample - loss: 0.8988 - acc: 0.6303 - val_loss: 0.8991 - val_acc: 0.6246\n",
      "Epoch 47/50\n",
      "32000/32000 [==============================] - 4s 131us/sample - loss: 0.8994 - acc: 0.6319 - val_loss: 0.8935 - val_acc: 0.6259\n",
      "Epoch 48/50\n",
      "32000/32000 [==============================] - 4s 132us/sample - loss: 0.8995 - acc: 0.6302 - val_loss: 0.8979 - val_acc: 0.6234\n",
      "Epoch 49/50\n",
      "32000/32000 [==============================] - 4s 135us/sample - loss: 0.9002 - acc: 0.6307 - val_loss: 0.8972 - val_acc: 0.6242\n",
      "Epoch 50/50\n",
      "32000/32000 [==============================] - 4s 131us/sample - loss: 0.8984 - acc: 0.6323 - val_loss: 0.8940 - val_acc: 0.6242\n"
     ]
    },
    {
     "data": {
      "text/plain": [
       "<tensorflow.python.keras.callbacks.History at 0x15f92552308>"
      ]
     },
     "execution_count": 35,
     "metadata": {},
     "output_type": "execute_result"
    }
   ],
   "source": [
    "mymodel2.fit(X_train2,y_train_encode2,batch_size=32,epochs=50,validation_data=(X_test2,y_test_encode2))"
   ]
  },
  {
   "cell_type": "code",
   "execution_count": 36,
   "metadata": {},
   "outputs": [
    {
     "data": {
      "text/plain": [
       "[<matplotlib.lines.Line2D at 0x15f935bf588>]"
      ]
     },
     "execution_count": 36,
     "metadata": {},
     "output_type": "execute_result"
    },
    {
     "data": {
      "image/png": "[encoded data removed]",
      "text/plain": [
       "<Figure size 432x288 with 1 Axes>"
      ]
     },
     "metadata": {
      "needs_background": "light"
     },
     "output_type": "display_data"
    }
   ],
   "source": [
    "his2 = mymodel2.history.history\n",
    "plt.plot(his2['acc'])\n",
    "plt.plot(his2['val_acc'])"
   ]
  },
  {
   "cell_type": "code",
   "execution_count": 37,
   "metadata": {},
   "outputs": [],
   "source": [
    "pred2 = np.argmax(mymodel2.predict(X_test2),axis=1)"
   ]
  },
  {
   "cell_type": "code",
   "execution_count": 38,
   "metadata": {},
   "outputs": [
    {
     "name": "stdout",
     "output_type": "stream",
     "text": [
      "              precision    recall  f1-score   support\n",
      "\n",
      "         0.0       0.69      0.50      0.58      2000\n",
      "         1.0       0.54      0.58      0.56      2000\n",
      "         2.0       0.56      0.64      0.59      2000\n",
      "         3.0       0.74      0.78      0.76      2000\n",
      "\n",
      "    accuracy                           0.62      8000\n",
      "   macro avg       0.63      0.62      0.62      8000\n",
      "weighted avg       0.63      0.62      0.62      8000\n",
      "\n"
     ]
    }
   ],
   "source": [
    "print(classification_report(y_test2,pred2))"
   ]
  },
  {
   "cell_type": "code",
   "execution_count": 39,
   "metadata": {},
   "outputs": [],
   "source": [
    "def commodel(data):\n",
    "    l1 = np.round(mymodel.predict(data))\n",
    "    l2 = np.argmax(mymodel2.predict(data),axis=1)\n",
    "    outdata = []\n",
    "    for i in range(len(data)):\n",
    "        if(l1[i]==0):\n",
    "            outdata.append(0)\n",
    "        else:\n",
    "            outdata.append(l2[i]+1)\n",
    "    return np.array(outdata)"
   ]
  },
  {
   "cell_type": "code",
   "execution_count": 40,
   "metadata": {},
   "outputs": [],
   "source": [
    "pred = commodel(X_test)"
   ]
  },
  {
   "cell_type": "code",
   "execution_count": 41,
   "metadata": {},
   "outputs": [
    {
     "name": "stdout",
     "output_type": "stream",
     "text": [
      "              precision    recall  f1-score   support\n",
      "\n",
      "         0.0       0.96      0.96      0.96      2000\n",
      "         1.0       0.68      0.50      0.58      2000\n",
      "         2.0       0.52      0.55      0.53      2000\n",
      "         3.0       0.56      0.64      0.59      2000\n",
      "         4.0       0.74      0.78      0.76      2000\n",
      "\n",
      "    accuracy                           0.69     10000\n",
      "   macro avg       0.69      0.69      0.69     10000\n",
      "weighted avg       0.69      0.69      0.69     10000\n",
      "\n"
     ]
    }
   ],
   "source": [
    "print(classification_report(y_test,pred))"
   ]
  },
  {
   "cell_type": "code",
   "execution_count": 64,
   "metadata": {},
   "outputs": [],
   "source": [
    "img = img.reshape(((2448* 2448, 3)))\n",
    "#img = img*255"
   ]
  },
  {
   "cell_type": "code",
   "execution_count": 66,
   "metadata": {},
   "outputs": [],
   "source": [
    "predimg = commodel(img)"
   ]
  },
  {
   "cell_type": "code",
   "execution_count": 67,
   "metadata": {},
   "outputs": [],
   "source": [
    "predimg_dec = predimg"
   ]
  },
  {
   "cell_type": "code",
   "execution_count": 68,
   "metadata": {},
   "outputs": [],
   "source": [
    "colormap = np.zeros_like(img).astype(int)"
   ]
  },
  {
   "cell_type": "code",
   "execution_count": 69,
   "metadata": {},
   "outputs": [],
   "source": [
    "for i in range(len(colormap)):\n",
    "    if(predimg_dec[i] == 0):\n",
    "        #water\n",
    "        colormap[i] = [0,0,255]\n",
    "    elif(predimg_dec[i]==1):\n",
    "        #urban\n",
    "        colormap[i] = [0,255,255]\n",
    "    elif (predimg_dec[i] ==2):\n",
    "        #argi\n",
    "        colormap[i] = [255,255,0]\n",
    "    elif (predimg_dec[i] == 3):\n",
    "        #range\n",
    "        colormap[i] = [255,0,255]\n",
    "    elif (predimg_dec[i] == 4):\n",
    "        #barren\n",
    "        colormap[i] = [255,255,255]"
   ]
  },
  {
   "cell_type": "code",
   "execution_count": 70,
   "metadata": {},
   "outputs": [],
   "source": [
    "colormap = colormap.reshape((2448,2448,3))"
   ]
  },
  {
   "cell_type": "code",
   "execution_count": 71,
   "metadata": {
    "scrolled": false
   },
   "outputs": [
    {
     "data": {
      "text/plain": [
       "<matplotlib.image.AxesImage at 0x15ee41095c8>"
      ]
     },
     "execution_count": 71,
     "metadata": {},
     "output_type": "execute_result"
    },
    {
     "data": {
      "image/png": "[encoded data removed]",
      "text/plain": [
       "<Figure size 720x720 with 1 Axes>"
      ]
     },
     "metadata": {
      "needs_background": "light"
     },
     "output_type": "display_data"
    }
   ],
   "source": [
    "plt.figure(figsize=(10,10))\n",
    "plt.imshow(colormap)"
   ]
  },
  {
   "cell_type": "code",
   "execution_count": 72,
   "metadata": {},
   "outputs": [],
   "source": [
    "from PIL import Image"
   ]
  },
  {
   "cell_type": "code",
   "execution_count": 73,
   "metadata": {},
   "outputs": [
    {
     "name": "stdout",
     "output_type": "stream",
     "text": [
      "saved \"./final4-lcm.png\" \n"
     ]
    }
   ],
   "source": [
    "im = Image.fromarray(colormap.astype(np.uint8))\n",
    "im.save('./final4-lcm.png')\n",
    "print('saved \"./final4-lcm.png\" ')"
   ]
  },
  {
   "cell_type": "code",
   "execution_count": 74,
   "metadata": {},
   "outputs": [],
   "source": [
    "from sklearn.metrics import confusion_matrix,cohen_kappa_score"
   ]
  },
  {
   "cell_type": "code",
   "execution_count": 75,
   "metadata": {},
   "outputs": [
    {
     "name": "stdout",
     "output_type": "stream",
     "text": [
      "----- Confusion matrix -----\n",
      "[[1916    4   80    0    0]\n",
      " [  19 1007  415  373  186]\n",
      " [  49  148 1106  499  198]\n",
      " [  16  156  400 1274  154]\n",
      " [   0  156  145  142 1557]]\n"
     ]
    }
   ],
   "source": [
    "confmat = confusion_matrix(y_test,pred)\n",
    "print('----- Confusion matrix -----')\n",
    "print(confmat)"
   ]
  },
  {
   "cell_type": "code",
   "execution_count": 84,
   "metadata": {},
   "outputs": [
    {
     "name": "stdout",
     "output_type": "stream",
     "text": [
      "User accuracy : [95.8  50.35 55.3  63.7  77.85] %\n"
     ]
    }
   ],
   "source": [
    "user_acc = [confmat[0,0],confmat[1,1],confmat[2,2],confmat[3,3],confmat[4,4]]/np.sum(confmat,axis=1)*100\n",
    "print(f'User accuracy : {user_acc} %')"
   ]
  },
  {
   "cell_type": "code",
   "execution_count": 88,
   "metadata": {},
   "outputs": [
    {
     "name": "stdout",
     "output_type": "stream",
     "text": [
      "Producer accuracy : [95.8        68.45683209 51.53774464 55.68181818 74.31980907] %\n"
     ]
    }
   ],
   "source": [
    "prod_acc = [confmat[0,0],confmat[1,1],confmat[2,2],confmat[3,3],confmat[4,4]]/np.sum(confmat,axis=0)*100\n",
    "print(f'Producer accuracy : {prod_acc} %')"
   ]
  },
  {
   "cell_type": "code",
   "execution_count": 87,
   "metadata": {},
   "outputs": [
    {
     "name": "stdout",
     "output_type": "stream",
     "text": [
      "Overall accuracy : 68.6 %\n"
     ]
    }
   ],
   "source": [
    "overall_acc = np.sum([confmat[0,0],confmat[1,1],confmat[2,2],confmat[3,3],confmat[4,4]])/100\n",
    "print(f'Overall accuracy : {overall_acc} %')"
   ]
  },
  {
   "cell_type": "code",
   "execution_count": 79,
   "metadata": {},
   "outputs": [
    {
     "data": {
      "text/plain": [
       "0.6075"
      ]
     },
     "execution_count": 79,
     "metadata": {},
     "output_type": "execute_result"
    }
   ],
   "source": [
    "(overall_acc-1/5)/(1-1/5)"
   ]
  },
  {
   "cell_type": "code",
   "execution_count": 80,
   "metadata": {},
   "outputs": [
    {
     "name": "stdout",
     "output_type": "stream",
     "text": [
      "Kappa Score : 0.6074999999999999\n"
     ]
    }
   ],
   "source": [
    "kappa = cohen_kappa_score(y_test,pred)\n",
    "print(f'Kappa Score : {kappa}')"
   ]
  },
  {
   "cell_type": "code",
   "execution_count": 81,
   "metadata": {},
   "outputs": [
    {
     "name": "stdout",
     "output_type": "stream",
     "text": [
      "              precision    recall  f1-score   support\n",
      "\n",
      "         0.0       0.96      0.96      0.96      2000\n",
      "         1.0       0.68      0.50      0.58      2000\n",
      "         2.0       0.52      0.55      0.53      2000\n",
      "         3.0       0.56      0.64      0.59      2000\n",
      "         4.0       0.74      0.78      0.76      2000\n",
      "\n",
      "    accuracy                           0.69     10000\n",
      "   macro avg       0.69      0.69      0.69     10000\n",
      "weighted avg       0.69      0.69      0.69     10000\n",
      "\n"
     ]
    }
   ],
   "source": [
    "print(classification_report(y_test,pred))"
   ]
  },
  {
   "cell_type": "code",
   "execution_count": 82,
   "metadata": {},
   "outputs": [
    {
     "data": {
      "text/plain": [
       "array([1916,    4,   80,    0,    0], dtype=int64)"
      ]
     },
     "execution_count": 82,
     "metadata": {},
     "output_type": "execute_result"
    }
   ],
   "source": [
    "confmat[0]"
   ]
  },
  {
   "cell_type": "code",
   "execution_count": 83,
   "metadata": {},
   "outputs": [
    {
     "data": {
      "text/plain": [
       "array([2000, 1471, 2146, 2288, 2095], dtype=int64)"
      ]
     },
     "execution_count": 83,
     "metadata": {},
     "output_type": "execute_result"
    }
   ],
   "source": [
    "np.sum(confmat,axis=0)"
   ]
  },
  {
   "cell_type": "code",
   "execution_count": null,
   "metadata": {},
   "outputs": [],
   "source": []
  }
 ],
 "metadata": {
  "kernelspec": {
   "display_name": "Python 3",
   "language": "python",
   "name": "python3"
  },
  "language_info": {
   "codemirror_mode": {
    "name": "ipython",
    "version": 3
   },
   "file_extension": ".py",
   "mimetype": "text/x-python",
   "name": "python",
   "nbconvert_exporter": "python",
   "pygments_lexer": "ipython3",
   "version": "3.7.5"
  }
 },
 "nbformat": 4,
 "nbformat_minor": 2
}
