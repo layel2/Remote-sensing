{
 "cells": [
  {
   "cell_type": "code",
   "execution_count": 1,
   "metadata": {},
   "outputs": [],
   "source": [
    "from osgeo import gdal, gdalconst\n",
    "from osgeo.gdalconst import *\n",
    "import numpy as np\n",
    "from matplotlib import pyplot as plt\n",
    "import pandas as pd"
   ]
  },
  {
   "cell_type": "code",
   "execution_count": 2,
   "metadata": {},
   "outputs": [],
   "source": [
    "img_path = './FinalQ4Image.jpg'"
   ]
  },
  {
   "cell_type": "code",
   "execution_count": 3,
   "metadata": {},
   "outputs": [],
   "source": [
    "ds = gdal.Open(img_path, GA_ReadOnly)"
   ]
  },
  {
   "cell_type": "code",
   "execution_count": 4,
   "metadata": {},
   "outputs": [],
   "source": [
    "n_band = ds.RasterCount"
   ]
  },
  {
   "cell_type": "code",
   "execution_count": 5,
   "metadata": {},
   "outputs": [],
   "source": [
    "img_width = 2448\n",
    "img_height = 2448"
   ]
  },
  {
   "cell_type": "code",
   "execution_count": 6,
   "metadata": {},
   "outputs": [],
   "source": [
    "img = np.zeros((img_width,img_height,n_band))\n",
    "for i in range(n_band):\n",
    "    band = ds.GetRasterBand(i+1)\n",
    "    data = band.ReadAsArray()\n",
    "    img[:,:,i] = data\n",
    "data = None\n",
    "band = None"
   ]
  },
  {
   "cell_type": "code",
   "execution_count": 7,
   "metadata": {},
   "outputs": [
    {
     "data": {
      "text/plain": [
       "(2448, 2448, 3)"
      ]
     },
     "execution_count": 7,
     "metadata": {},
     "output_type": "execute_result"
    }
   ],
   "source": [
    "img.shape"
   ]
  },
  {
   "cell_type": "code",
   "execution_count": 8,
   "metadata": {},
   "outputs": [],
   "source": [
    "pointWater = pd.read_csv('./water_samples.csv').values\n",
    "pointUrban = pd.read_csv('./urban_samples.csv').values\n",
    "pointAgri = pd.read_csv('./agriculture_samples.csv').values\n",
    "pointRange = pd.read_csv('./Range_samples.csv').values\n",
    "pointBarren = pd.read_csv('./barren_samples.csv').values"
   ]
  },
  {
   "cell_type": "code",
   "execution_count": 9,
   "metadata": {},
   "outputs": [],
   "source": [
    "def imgPointToData(img,point):\n",
    "    dataOut = []\n",
    "    for i in range(len(point)):\n",
    "        dataOut.append(img[point[i,0],point[i,1]])\n",
    "    return np.array(dataOut)"
   ]
  },
  {
   "cell_type": "code",
   "execution_count": 10,
   "metadata": {},
   "outputs": [],
   "source": [
    "dataWater = imgPointToData(img,pointWater)\n",
    "dataUrban = imgPointToData(img,pointUrban)\n",
    "dataAgri = imgPointToData(img,pointAgri)\n",
    "dataRange = imgPointToData(img,pointRange)\n",
    "dataBarren = imgPointToData(img,pointBarren)"
   ]
  },
  {
   "cell_type": "code",
   "execution_count": 11,
   "metadata": {},
   "outputs": [],
   "source": [
    "X_train = np.concatenate((dataWater[:8000],dataUrban[:8000],dataAgri[:8000],dataRange[:8000],dataBarren[:8000]))\n",
    "y_train = np.ones((len(X_train)))\n",
    "y_train[:8000] *= 0\n",
    "y_train[8000:40000] *= 1\n",
    "\n",
    "\n",
    "X_test = np.concatenate((dataWater[8000:],dataUrban[8000:],dataAgri[8000:],dataRange[8000:],dataBarren[8000:]))\n",
    "y_test = np.ones((len(X_test)))\n",
    "y_test[:2000] *= 0\n",
    "y_test[2000:10000] *= 1"
   ]
  },
  {
   "cell_type": "code",
   "execution_count": 12,
   "metadata": {},
   "outputs": [
    {
     "name": "stdout",
     "output_type": "stream",
     "text": [
      "(40000, 3)\n",
      "(40000,)\n",
      "(10000, 3)\n",
      "(10000,)\n"
     ]
    }
   ],
   "source": [
    "print(X_train.shape)\n",
    "print(y_train.shape)\n",
    "print(X_test.shape)\n",
    "print(y_test.shape)"
   ]
  },
  {
   "cell_type": "code",
   "execution_count": 13,
   "metadata": {},
   "outputs": [],
   "source": [
    "idx1 = np.random.permutation(len(X_train))\n",
    "X_train = X_train[idx1]\n",
    "y_train = y_train[idx1]\n",
    "\n",
    "idx2 = np.random.permutation(len(X_test))\n",
    "X_test = X_test[idx2]\n",
    "y_test = y_test[idx2]\n",
    "\n",
    "X_train = X_train/255\n",
    "X_test = X_test/255"
   ]
  },
  {
   "cell_type": "code",
   "execution_count": 14,
   "metadata": {},
   "outputs": [],
   "source": [
    "import sklearn\n",
    "import xgboost as xgb"
   ]
  },
  {
   "cell_type": "code",
   "execution_count": 15,
   "metadata": {},
   "outputs": [],
   "source": [
    "from sklearn.metrics import classification_report\n",
    "from sklearn.model_selection import KFold"
   ]
  },
  {
   "cell_type": "code",
   "execution_count": 16,
   "metadata": {},
   "outputs": [
    {
     "data": {
      "text/plain": [
       "XGBClassifier(base_score=0.5, booster='gbtree', colsample_bylevel=1,\n",
       "              colsample_bynode=1, colsample_bytree=1, gamma=0,\n",
       "              learning_rate=0.05, max_delta_step=0, max_depth=15,\n",
       "              min_child_weight=1, missing=None, n_estimators=200, n_jobs=1,\n",
       "              nthread=None, objective='binary:logistic', random_state=0,\n",
       "              reg_alpha=0, reg_lambda=1, scale_pos_weight=1, seed=None,\n",
       "              silent=None, subsample=1, verbosity=1)"
      ]
     },
     "execution_count": 16,
     "metadata": {},
     "output_type": "execute_result"
    }
   ],
   "source": [
    "xgbc = xgb.XGBClassifier(max_depth=15,n_estimators=200,learning_rate=0.05)\n",
    "xgbc.fit(X_train,y_train)"
   ]
  },
  {
   "cell_type": "code",
   "execution_count": 17,
   "metadata": {},
   "outputs": [
    {
     "name": "stdout",
     "output_type": "stream",
     "text": [
      "              precision    recall  f1-score   support\n",
      "\n",
      "         0.0       0.96      0.95      0.96      2000\n",
      "         1.0       0.99      0.99      0.99      8000\n",
      "\n",
      "    accuracy                           0.98     10000\n",
      "   macro avg       0.97      0.97      0.97     10000\n",
      "weighted avg       0.98      0.98      0.98     10000\n",
      "\n"
     ]
    }
   ],
   "source": [
    "print(classification_report(y_test,xgbc.predict(X_test)))"
   ]
  },
  {
   "cell_type": "code",
   "execution_count": 20,
   "metadata": {},
   "outputs": [
    {
     "name": "stdout",
     "output_type": "stream",
     "text": [
      "(32000, 3)\n",
      "(32000,)\n",
      "(8000, 3)\n",
      "(8000,)\n"
     ]
    }
   ],
   "source": [
    "X_train2 = np.concatenate((dataUrban[:8000],dataAgri[:8000],dataRange[:8000],dataBarren[:8000]))\n",
    "y_train2 = np.ones((len(X_train2)))\n",
    "y_train2[:8000] *= 0\n",
    "y_train2[8000:16000] *= 1\n",
    "y_train2[16000:24000] *= 2\n",
    "y_train2[24000:36000] *= 3\n",
    "\n",
    "\n",
    "X_test2 = np.concatenate((dataUrban[8000:],dataAgri[8000:],dataRange[8000:],dataBarren[8000:]))\n",
    "y_test2 = np.ones((len(X_test2)))\n",
    "y_test2[:2000] *= 0\n",
    "y_test2[2000:4000] *= 1\n",
    "y_test2[4000:6000] *= 2\n",
    "y_test2[6000:8000] *= 3\n",
    "\n",
    "\n",
    "idx1 = np.random.permutation(len(X_train2))\n",
    "X_train2 = X_train2[idx1]\n",
    "y_train2 = y_train2[idx1]\n",
    "\n",
    "idx2 = np.random.permutation(len(X_test2))\n",
    "X_test2 = X_test2[idx2]\n",
    "y_test2 = y_test2[idx2]\n",
    "\n",
    "X_train2 = X_train2/255\n",
    "X_test2 = X_test2/255\n",
    "\n",
    "print(X_train2.shape)\n",
    "print(y_train2.shape)\n",
    "print(X_test2.shape)\n",
    "print(y_test2.shape)"
   ]
  },
  {
   "cell_type": "code",
   "execution_count": 15,
   "metadata": {},
   "outputs": [
    {
     "ename": "NameError",
     "evalue": "name 'xgb' is not defined",
     "output_type": "error",
     "traceback": [
      "\u001b[1;31m---------------------------------------------------------------------------\u001b[0m",
      "\u001b[1;31mNameError\u001b[0m                                 Traceback (most recent call last)",
      "\u001b[1;32m<ipython-input-15-9d7eb4e121ee>\u001b[0m in \u001b[0;36m<module>\u001b[1;34m\u001b[0m\n\u001b[1;32m----> 1\u001b[1;33m \u001b[0mxgbc2\u001b[0m \u001b[1;33m=\u001b[0m \u001b[0mxgb\u001b[0m\u001b[1;33m.\u001b[0m\u001b[0mXGBClassifier\u001b[0m\u001b[1;33m(\u001b[0m\u001b[0mmax_depth\u001b[0m\u001b[1;33m=\u001b[0m\u001b[1;36m15\u001b[0m\u001b[1;33m,\u001b[0m\u001b[0mn_estimators\u001b[0m\u001b[1;33m=\u001b[0m\u001b[1;36m200\u001b[0m\u001b[1;33m,\u001b[0m\u001b[0mlearning_rate\u001b[0m\u001b[1;33m=\u001b[0m\u001b[1;36m0.05\u001b[0m\u001b[1;33m)\u001b[0m\u001b[1;33m\u001b[0m\u001b[1;33m\u001b[0m\u001b[0m\n\u001b[0m\u001b[0;32m      2\u001b[0m \u001b[0mxgbc2\u001b[0m\u001b[1;33m.\u001b[0m\u001b[0mfit\u001b[0m\u001b[1;33m(\u001b[0m\u001b[0mX_train2\u001b[0m\u001b[1;33m,\u001b[0m\u001b[0my_train2\u001b[0m\u001b[1;33m)\u001b[0m\u001b[1;33m\u001b[0m\u001b[1;33m\u001b[0m\u001b[0m\n",
      "\u001b[1;31mNameError\u001b[0m: name 'xgb' is not defined"
     ]
    }
   ],
   "source": [
    "xgbc2 = xgb.XGBClassifier(max_depth=15,n_estimators=200,learning_rate=0.05)\n",
    "xgbc2.fit(X_train2,y_train2)"
   ]
  },
  {
   "cell_type": "code",
   "execution_count": 21,
   "metadata": {},
   "outputs": [
    {
     "name": "stdout",
     "output_type": "stream",
     "text": [
      "              precision    recall  f1-score   support\n",
      "\n",
      "         0.0       0.65      0.50      0.56      2000\n",
      "         1.0       0.54      0.51      0.52      2000\n",
      "         2.0       0.54      0.65      0.59      2000\n",
      "         3.0       0.72      0.77      0.75      2000\n",
      "\n",
      "    accuracy                           0.61      8000\n",
      "   macro avg       0.61      0.61      0.61      8000\n",
      "weighted avg       0.61      0.61      0.61      8000\n",
      "\n"
     ]
    }
   ],
   "source": [
    "print(classification_report(y_test2,xgbc2.predict(X_test2)))"
   ]
  },
  {
   "cell_type": "code",
   "execution_count": 18,
   "metadata": {},
   "outputs": [
    {
     "name": "stderr",
     "output_type": "stream",
     "text": [
      "C:\\Users\\Lay\\Anaconda3\\envs\\ai\\lib\\site-packages\\tensorflow\\python\\framework\\dtypes.py:526: FutureWarning: Passing (type, 1) or '1type' as a synonym of type is deprecated; in a future version of numpy, it will be understood as (type, (1,)) / '(1,)type'.\n",
      "  _np_qint8 = np.dtype([(\"qint8\", np.int8, 1)])\n",
      "C:\\Users\\Lay\\Anaconda3\\envs\\ai\\lib\\site-packages\\tensorflow\\python\\framework\\dtypes.py:527: FutureWarning: Passing (type, 1) or '1type' as a synonym of type is deprecated; in a future version of numpy, it will be understood as (type, (1,)) / '(1,)type'.\n",
      "  _np_quint8 = np.dtype([(\"quint8\", np.uint8, 1)])\n",
      "C:\\Users\\Lay\\Anaconda3\\envs\\ai\\lib\\site-packages\\tensorflow\\python\\framework\\dtypes.py:528: FutureWarning: Passing (type, 1) or '1type' as a synonym of type is deprecated; in a future version of numpy, it will be understood as (type, (1,)) / '(1,)type'.\n",
      "  _np_qint16 = np.dtype([(\"qint16\", np.int16, 1)])\n",
      "C:\\Users\\Lay\\Anaconda3\\envs\\ai\\lib\\site-packages\\tensorflow\\python\\framework\\dtypes.py:529: FutureWarning: Passing (type, 1) or '1type' as a synonym of type is deprecated; in a future version of numpy, it will be understood as (type, (1,)) / '(1,)type'.\n",
      "  _np_quint16 = np.dtype([(\"quint16\", np.uint16, 1)])\n",
      "C:\\Users\\Lay\\Anaconda3\\envs\\ai\\lib\\site-packages\\tensorflow\\python\\framework\\dtypes.py:530: FutureWarning: Passing (type, 1) or '1type' as a synonym of type is deprecated; in a future version of numpy, it will be understood as (type, (1,)) / '(1,)type'.\n",
      "  _np_qint32 = np.dtype([(\"qint32\", np.int32, 1)])\n",
      "C:\\Users\\Lay\\Anaconda3\\envs\\ai\\lib\\site-packages\\tensorflow\\python\\framework\\dtypes.py:535: FutureWarning: Passing (type, 1) or '1type' as a synonym of type is deprecated; in a future version of numpy, it will be understood as (type, (1,)) / '(1,)type'.\n",
      "  np_resource = np.dtype([(\"resource\", np.ubyte, 1)])\n"
     ]
    }
   ],
   "source": [
    "from tensorflow import keras"
   ]
  },
  {
   "cell_type": "code",
   "execution_count": 21,
   "metadata": {},
   "outputs": [],
   "source": [
    "#y_train_encode = keras.utils.to_categorical(y_train)\n",
    "#y_test_encode = keras.utils.to_categorical(y_test)\n",
    "y_train_encode2 = keras.utils.to_categorical(y_train2)\n",
    "y_test_encode2 = keras.utils.to_categorical(y_test2)"
   ]
  },
  {
   "cell_type": "code",
   "execution_count": 22,
   "metadata": {},
   "outputs": [],
   "source": [
    "def nnmodel(input_shape):\n",
    "    X_input = keras.layers.Input((input_shape))\n",
    "    X = keras.layers.Dense(1024,activation='relu')(X_input)\n",
    "    X = keras.layers.Dense(128,activation='relu')(X)\n",
    "    X = keras.layers.Dense(1,activation='sigmoid')(X)\n",
    "    model = keras.models.Model(inputs=X_input, outputs=X, name='model')\n",
    "    return model"
   ]
  },
  {
   "cell_type": "code",
   "execution_count": 23,
   "metadata": {},
   "outputs": [
    {
     "name": "stdout",
     "output_type": "stream",
     "text": [
      "WARNING:tensorflow:From C:\\Users\\Lay\\Anaconda3\\envs\\ai\\lib\\site-packages\\tensorflow\\python\\ops\\resource_variable_ops.py:435: colocate_with (from tensorflow.python.framework.ops) is deprecated and will be removed in a future version.\n",
      "Instructions for updating:\n",
      "Colocations handled automatically by placer.\n",
      "_________________________________________________________________\n",
      "Layer (type)                 Output Shape              Param #   \n",
      "=================================================================\n",
      "input_1 (InputLayer)         (None, 3)                 0         \n",
      "_________________________________________________________________\n",
      "dense (Dense)                (None, 1024)              4096      \n",
      "_________________________________________________________________\n",
      "dense_1 (Dense)              (None, 128)               131200    \n",
      "_________________________________________________________________\n",
      "dense_2 (Dense)              (None, 1)                 129       \n",
      "=================================================================\n",
      "Total params: 135,425\n",
      "Trainable params: 135,425\n",
      "Non-trainable params: 0\n",
      "_________________________________________________________________\n"
     ]
    }
   ],
   "source": [
    "mymodel = nnmodel(X_train[0].shape)\n",
    "mymodel.compile(optimizer=\"adam\", loss=\"binary_crossentropy\", metrics=['accuracy'])\n",
    "mymodel.summary()"
   ]
  },
  {
   "cell_type": "code",
   "execution_count": 26,
   "metadata": {},
   "outputs": [
    {
     "name": "stdout",
     "output_type": "stream",
     "text": [
      "Train on 40000 samples, validate on 10000 samples\n",
      "WARNING:tensorflow:From C:\\Users\\Lay\\Anaconda3\\envs\\ai\\lib\\site-packages\\tensorflow\\python\\ops\\math_ops.py:3066: to_int32 (from tensorflow.python.ops.math_ops) is deprecated and will be removed in a future version.\n",
      "Instructions for updating:\n",
      "Use tf.cast instead.\n",
      "Epoch 1/20\n",
      "40000/40000 [==============================] - 7s 167us/sample - loss: 0.0944 - acc: 0.9631 - val_loss: 0.0636 - val_acc: 0.9750\n",
      "Epoch 2/20\n",
      "40000/40000 [==============================] - 5s 130us/sample - loss: 0.0599 - acc: 0.9787 - val_loss: 0.0564 - val_acc: 0.9801\n",
      "Epoch 3/20\n",
      "40000/40000 [==============================] - 5s 128us/sample - loss: 0.0543 - acc: 0.9809 - val_loss: 0.0510 - val_acc: 0.9810\n",
      "Epoch 4/20\n",
      "40000/40000 [==============================] - 5s 133us/sample - loss: 0.0523 - acc: 0.9818 - val_loss: 0.0521 - val_acc: 0.9820\n",
      "Epoch 5/20\n",
      "40000/40000 [==============================] - 5s 129us/sample - loss: 0.0523 - acc: 0.9815 - val_loss: 0.0504 - val_acc: 0.9827\n",
      "Epoch 6/20\n",
      "40000/40000 [==============================] - 5s 135us/sample - loss: 0.0506 - acc: 0.9815 - val_loss: 0.0517 - val_acc: 0.9823\n",
      "Epoch 7/20\n",
      "40000/40000 [==============================] - 5s 134us/sample - loss: 0.0498 - acc: 0.9819 - val_loss: 0.0451 - val_acc: 0.9833\n",
      "Epoch 8/20\n",
      "40000/40000 [==============================] - 5s 129us/sample - loss: 0.0495 - acc: 0.9821 - val_loss: 0.0491 - val_acc: 0.9829\n",
      "Epoch 9/20\n",
      "40000/40000 [==============================] - 5s 127us/sample - loss: 0.0487 - acc: 0.9821 - val_loss: 0.0473 - val_acc: 0.9813\n",
      "Epoch 10/20\n",
      "40000/40000 [==============================] - 5s 128us/sample - loss: 0.0487 - acc: 0.9824 - val_loss: 0.0460 - val_acc: 0.9839\n",
      "Epoch 11/20\n",
      "40000/40000 [==============================] - 5s 128us/sample - loss: 0.0477 - acc: 0.9825 - val_loss: 0.0436 - val_acc: 0.9836\n",
      "Epoch 12/20\n",
      "40000/40000 [==============================] - 5s 129us/sample - loss: 0.0486 - acc: 0.9818 - val_loss: 0.0608 - val_acc: 0.9791\n",
      "Epoch 13/20\n",
      "40000/40000 [==============================] - 5s 128us/sample - loss: 0.0488 - acc: 0.9816 - val_loss: 0.0449 - val_acc: 0.9817\n",
      "Epoch 14/20\n",
      "40000/40000 [==============================] - 5s 129us/sample - loss: 0.0470 - acc: 0.9826 - val_loss: 0.0462 - val_acc: 0.9811\n",
      "Epoch 15/20\n",
      "40000/40000 [==============================] - 5s 135us/sample - loss: 0.0471 - acc: 0.9827 - val_loss: 0.0518 - val_acc: 0.9807\n",
      "Epoch 16/20\n",
      "40000/40000 [==============================] - 5s 135us/sample - loss: 0.0475 - acc: 0.9823 - val_loss: 0.0439 - val_acc: 0.9838\n",
      "Epoch 17/20\n",
      "40000/40000 [==============================] - 5s 136us/sample - loss: 0.0474 - acc: 0.9822 - val_loss: 0.0427 - val_acc: 0.9834\n",
      "Epoch 18/20\n",
      "40000/40000 [==============================] - 5s 135us/sample - loss: 0.0470 - acc: 0.9824 - val_loss: 0.0542 - val_acc: 0.9770\n",
      "Epoch 19/20\n",
      "40000/40000 [==============================] - 5s 136us/sample - loss: 0.0469 - acc: 0.9833 - val_loss: 0.0438 - val_acc: 0.9824\n",
      "Epoch 20/20\n",
      "40000/40000 [==============================] - 5s 136us/sample - loss: 0.0459 - acc: 0.9829 - val_loss: 0.0461 - val_acc: 0.9816\n"
     ]
    },
    {
     "data": {
      "text/plain": [
       "<tensorflow.python.keras.callbacks.History at 0x1e05f7bf748>"
      ]
     },
     "execution_count": 26,
     "metadata": {},
     "output_type": "execute_result"
    }
   ],
   "source": [
    "mymodel.fit(X_train,y_train,batch_size=32,epochs=20,validation_data=(X_test,y_test))"
   ]
  },
  {
   "cell_type": "code",
   "execution_count": 27,
   "metadata": {},
   "outputs": [
    {
     "data": {
      "text/plain": [
       "[<matplotlib.lines.Line2D at 0x1e05f3067c8>]"
      ]
     },
     "execution_count": 27,
     "metadata": {},
     "output_type": "execute_result"
    },
    {
     "data": {
      "image/png": "[encoded data removed]",
      "text/plain": [
       "<Figure size 432x288 with 1 Axes>"
      ]
     },
     "metadata": {
      "needs_background": "light"
     },
     "output_type": "display_data"
    }
   ],
   "source": [
    "his = mymodel.history.history\n",
    "plt.plot(his['acc'])\n",
    "plt.plot(his['val_acc'])"
   ]
  },
  {
   "cell_type": "code",
   "execution_count": 37,
   "metadata": {},
   "outputs": [],
   "source": [
    "pred = mymodel.predict(X_test)\n",
    "pred = np.round(pred)"
   ]
  },
  {
   "cell_type": "code",
   "execution_count": 38,
   "metadata": {},
   "outputs": [
    {
     "name": "stdout",
     "output_type": "stream",
     "text": [
      "              precision    recall  f1-score   support\n",
      "\n",
      "         0.0       0.99      0.92      0.95      2000\n",
      "         1.0       0.98      1.00      0.99      8000\n",
      "\n",
      "    accuracy                           0.98     10000\n",
      "   macro avg       0.98      0.96      0.97     10000\n",
      "weighted avg       0.98      0.98      0.98     10000\n",
      "\n"
     ]
    }
   ],
   "source": [
    "print(classification_report(y_test,pred))"
   ]
  },
  {
   "cell_type": "code",
   "execution_count": 39,
   "metadata": {},
   "outputs": [],
   "source": [
    "def nnmodel2(input_shape):\n",
    "    X_input = keras.layers.Input((input_shape))\n",
    "    X = keras.layers.Dense(1024,activation='relu')(X_input)\n",
    "    X = keras.layers.Dense(512,activation='relu')(X)\n",
    "    X = keras.layers.Dense(32,activation='relu')(X)\n",
    "    X = keras.layers.Dense(4,activation='softmax')(X)\n",
    "    model = keras.models.Model(inputs=X_input, outputs=X, name='model')\n",
    "    return model"
   ]
  },
  {
   "cell_type": "code",
   "execution_count": 40,
   "metadata": {},
   "outputs": [
    {
     "name": "stdout",
     "output_type": "stream",
     "text": [
      "_________________________________________________________________\n",
      "Layer (type)                 Output Shape              Param #   \n",
      "=================================================================\n",
      "input_2 (InputLayer)         (None, 3)                 0         \n",
      "_________________________________________________________________\n",
      "dense_3 (Dense)              (None, 1024)              4096      \n",
      "_________________________________________________________________\n",
      "dense_4 (Dense)              (None, 512)               524800    \n",
      "_________________________________________________________________\n",
      "dense_5 (Dense)              (None, 32)                16416     \n",
      "_________________________________________________________________\n",
      "dense_6 (Dense)              (None, 4)                 132       \n",
      "=================================================================\n",
      "Total params: 545,444\n",
      "Trainable params: 545,444\n",
      "Non-trainable params: 0\n",
      "_________________________________________________________________\n"
     ]
    }
   ],
   "source": [
    "mymodel2 = nnmodel2(X_train2[0].shape)\n",
    "mymodel2.compile(optimizer=\"adam\", loss=\"categorical_crossentropy\", metrics=['accuracy'])\n",
    "mymodel2.summary()"
   ]
  },
  {
   "cell_type": "code",
   "execution_count": 42,
   "metadata": {},
   "outputs": [
    {
     "name": "stdout",
     "output_type": "stream",
     "text": [
      "Train on 32000 samples, validate on 8000 samples\n",
      "Epoch 1/40\n",
      "32000/32000 [==============================] - 3s 92us/sample - loss: 0.9871 - acc: 0.5907 - val_loss: 0.9850 - val_acc: 0.5821\n",
      "Epoch 2/40\n",
      "32000/32000 [==============================] - 3s 89us/sample - loss: 0.9781 - acc: 0.5959 - val_loss: 0.9718 - val_acc: 0.6006\n",
      "Epoch 3/40\n",
      "32000/32000 [==============================] - 3s 85us/sample - loss: 0.9728 - acc: 0.5962 - val_loss: 0.9896 - val_acc: 0.5838\n",
      "Epoch 4/40\n",
      "32000/32000 [==============================] - 3s 85us/sample - loss: 0.9657 - acc: 0.6039 - val_loss: 0.9695 - val_acc: 0.5965\n",
      "Epoch 5/40\n",
      "32000/32000 [==============================] - 3s 94us/sample - loss: 0.9647 - acc: 0.6024 - val_loss: 0.9530 - val_acc: 0.6028\n",
      "Epoch 6/40\n",
      "32000/32000 [==============================] - 3s 93us/sample - loss: 0.9612 - acc: 0.6032 - val_loss: 0.9479 - val_acc: 0.6061\n",
      "Epoch 7/40\n",
      "32000/32000 [==============================] - 3s 95us/sample - loss: 0.9510 - acc: 0.6080 - val_loss: 0.9573 - val_acc: 0.6022\n",
      "Epoch 8/40\n",
      "32000/32000 [==============================] - 3s 94us/sample - loss: 0.9483 - acc: 0.6097 - val_loss: 0.9673 - val_acc: 0.5999\n",
      "Epoch 9/40\n",
      "32000/32000 [==============================] - 3s 89us/sample - loss: 0.9424 - acc: 0.6130 - val_loss: 0.9362 - val_acc: 0.6108\n",
      "Epoch 10/40\n",
      "32000/32000 [==============================] - 3s 89us/sample - loss: 0.9321 - acc: 0.6165 - val_loss: 0.9426 - val_acc: 0.6124\n",
      "Epoch 11/40\n",
      "32000/32000 [==============================] - 3s 89us/sample - loss: 0.9234 - acc: 0.6214 - val_loss: 0.9292 - val_acc: 0.6165\n",
      "Epoch 12/40\n",
      "32000/32000 [==============================] - 3s 91us/sample - loss: 0.9199 - acc: 0.6213 - val_loss: 0.9124 - val_acc: 0.6215\n",
      "Epoch 13/40\n",
      "32000/32000 [==============================] - 3s 93us/sample - loss: 0.9165 - acc: 0.6238 - val_loss: 0.9122 - val_acc: 0.6205\n",
      "Epoch 14/40\n",
      "32000/32000 [==============================] - 3s 85us/sample - loss: 0.9155 - acc: 0.6245 - val_loss: 0.9202 - val_acc: 0.6174\n",
      "Epoch 15/40\n",
      "32000/32000 [==============================] - 3s 89us/sample - loss: 0.9091 - acc: 0.6264 - val_loss: 0.9104 - val_acc: 0.6229\n",
      "Epoch 16/40\n",
      "32000/32000 [==============================] - 3s 94us/sample - loss: 0.9095 - acc: 0.6293 - val_loss: 0.9267 - val_acc: 0.6084\n",
      "Epoch 17/40\n",
      "32000/32000 [==============================] - 3s 90us/sample - loss: 0.9110 - acc: 0.6259 - val_loss: 0.9180 - val_acc: 0.6212\n",
      "Epoch 18/40\n",
      "32000/32000 [==============================] - 3s 86us/sample - loss: 0.9078 - acc: 0.6271 - val_loss: 0.9009 - val_acc: 0.6224\n",
      "Epoch 19/40\n",
      "32000/32000 [==============================] - 3s 86us/sample - loss: 0.9108 - acc: 0.6258 - val_loss: 0.9252 - val_acc: 0.6112\n",
      "Epoch 20/40\n",
      "32000/32000 [==============================] - 3s 90us/sample - loss: 0.9097 - acc: 0.6250 - val_loss: 0.9040 - val_acc: 0.6224\n",
      "Epoch 21/40\n",
      "32000/32000 [==============================] - 3s 88us/sample - loss: 0.9081 - acc: 0.6258 - val_loss: 0.9009 - val_acc: 0.6285\n",
      "Epoch 22/40\n",
      "32000/32000 [==============================] - 3s 82us/sample - loss: 0.9067 - acc: 0.6278 - val_loss: 0.9437 - val_acc: 0.6058\n",
      "Epoch 23/40\n",
      "32000/32000 [==============================] - 3s 90us/sample - loss: 0.9062 - acc: 0.6273 - val_loss: 0.9062 - val_acc: 0.6220\n",
      "Epoch 24/40\n",
      "32000/32000 [==============================] - 3s 83us/sample - loss: 0.9015 - acc: 0.6286 - val_loss: 0.9103 - val_acc: 0.6217\n",
      "Epoch 25/40\n",
      "32000/32000 [==============================] - 3s 88us/sample - loss: 0.8994 - acc: 0.6315 - val_loss: 0.8963 - val_acc: 0.6260\n",
      "Epoch 26/40\n",
      "32000/32000 [==============================] - 3s 90us/sample - loss: 0.9015 - acc: 0.6300 - val_loss: 0.8993 - val_acc: 0.6274\n",
      "Epoch 27/40\n",
      "32000/32000 [==============================] - 3s 87us/sample - loss: 0.9047 - acc: 0.6268 - val_loss: 0.9121 - val_acc: 0.6209\n",
      "Epoch 28/40\n",
      "32000/32000 [==============================] - 3s 86us/sample - loss: 0.9012 - acc: 0.6302 - val_loss: 0.9101 - val_acc: 0.6191\n",
      "Epoch 29/40\n",
      "32000/32000 [==============================] - 3s 87us/sample - loss: 0.8977 - acc: 0.6292 - val_loss: 0.8949 - val_acc: 0.6231\n",
      "Epoch 30/40\n",
      "32000/32000 [==============================] - 3s 87us/sample - loss: 0.8981 - acc: 0.6328 - val_loss: 0.9116 - val_acc: 0.6162\n",
      "Epoch 31/40\n",
      "32000/32000 [==============================] - 3s 89us/sample - loss: 0.8970 - acc: 0.6329 - val_loss: 0.9069 - val_acc: 0.6201\n",
      "Epoch 32/40\n",
      "32000/32000 [==============================] - 3s 84us/sample - loss: 0.9027 - acc: 0.6288 - val_loss: 0.9067 - val_acc: 0.6201\n",
      "Epoch 33/40\n",
      "32000/32000 [==============================] - 3s 90us/sample - loss: 0.9029 - acc: 0.6282 - val_loss: 0.9070 - val_acc: 0.6180\n",
      "Epoch 34/40\n",
      "32000/32000 [==============================] - 3s 101us/sample - loss: 0.8967 - acc: 0.6309 - val_loss: 0.9046 - val_acc: 0.6224\n",
      "Epoch 35/40\n",
      "32000/32000 [==============================] - 3s 83us/sample - loss: 0.8971 - acc: 0.6295 - val_loss: 0.8918 - val_acc: 0.6276\n",
      "Epoch 36/40\n",
      "32000/32000 [==============================] - 3s 84us/sample - loss: 0.8970 - acc: 0.6316 - val_loss: 0.8966 - val_acc: 0.6231\n",
      "Epoch 37/40\n",
      "32000/32000 [==============================] - 3s 82us/sample - loss: 0.9005 - acc: 0.6300 - val_loss: 0.8953 - val_acc: 0.6258\n",
      "Epoch 38/40\n",
      "32000/32000 [==============================] - 3s 83us/sample - loss: 0.8954 - acc: 0.6317 - val_loss: 0.8914 - val_acc: 0.6246\n",
      "Epoch 39/40\n",
      "32000/32000 [==============================] - 3s 83us/sample - loss: 0.8957 - acc: 0.6311 - val_loss: 0.9542 - val_acc: 0.5914\n",
      "Epoch 40/40\n",
      "32000/32000 [==============================] - 3s 82us/sample - loss: 0.8916 - acc: 0.6330 - val_loss: 0.9323 - val_acc: 0.6071\n"
     ]
    },
    {
     "data": {
      "text/plain": [
       "<tensorflow.python.keras.callbacks.History at 0x1e113c87588>"
      ]
     },
     "execution_count": 42,
     "metadata": {},
     "output_type": "execute_result"
    }
   ],
   "source": [
    "mymodel2.fit(X_train2,y_train_encode2,batch_size=64,epochs=40,validation_data=(X_test2,y_test_encode2))"
   ]
  },
  {
   "cell_type": "code",
   "execution_count": 43,
   "metadata": {},
   "outputs": [
    {
     "data": {
      "text/plain": [
       "[<matplotlib.lines.Line2D at 0x1e113cc8ec8>]"
      ]
     },
     "execution_count": 43,
     "metadata": {},
     "output_type": "execute_result"
    },
    {
     "data": {
      "image/png": "[encoded data removed]",
      "text/plain": [
       "<Figure size 432x288 with 1 Axes>"
      ]
     },
     "metadata": {
      "needs_background": "light"
     },
     "output_type": "display_data"
    }
   ],
   "source": [
    "his2 = mymodel2.history.history\n",
    "plt.plot(his2['acc'])\n",
    "plt.plot(his2['val_acc'])"
   ]
  },
  {
   "cell_type": "code",
   "execution_count": 47,
   "metadata": {},
   "outputs": [],
   "source": [
    "pred2 = np.argmax(mymodel2.predict(X_test2),axis=1)"
   ]
  },
  {
   "cell_type": "code",
   "execution_count": 48,
   "metadata": {},
   "outputs": [
    {
     "name": "stdout",
     "output_type": "stream",
     "text": [
      "              precision    recall  f1-score   support\n",
      "\n",
      "         0.0       0.65      0.50      0.56      2000\n",
      "         1.0       0.47      0.70      0.57      2000\n",
      "         2.0       0.62      0.46      0.53      2000\n",
      "         3.0       0.76      0.77      0.76      2000\n",
      "\n",
      "    accuracy                           0.61      8000\n",
      "   macro avg       0.63      0.61      0.61      8000\n",
      "weighted avg       0.63      0.61      0.61      8000\n",
      "\n"
     ]
    }
   ],
   "source": [
    "print(classification_report(y_test2,pred2))"
   ]
  },
  {
   "cell_type": "code",
   "execution_count": null,
   "metadata": {},
   "outputs": [],
   "source": []
  },
  {
   "cell_type": "code",
   "execution_count": null,
   "metadata": {},
   "outputs": [],
   "source": []
  },
  {
   "cell_type": "code",
   "execution_count": 57,
   "metadata": {},
   "outputs": [
    {
     "data": {
      "text/plain": [
       "2"
      ]
     },
     "execution_count": 57,
     "metadata": {},
     "output_type": "execute_result"
    }
   ],
   "source": [
    "pred[0]"
   ]
  },
  {
   "cell_type": "code",
   "execution_count": 53,
   "metadata": {},
   "outputs": [],
   "source": [
    "def commodel(data):\n",
    "    l1 = np.round(mymodel.predict(data))\n",
    "    l2 = np.argmax(mymodel2.predict(data),axis=1)\n",
    "    outdata = []\n",
    "    for i in range(len(data)):\n",
    "        if(l1[i]==0):\n",
    "            outdata.append(0)\n",
    "        else:\n",
    "            outdata.append(l2[i]+1)\n",
    "    return np.array(outdata)"
   ]
  },
  {
   "cell_type": "code",
   "execution_count": 54,
   "metadata": {},
   "outputs": [],
   "source": [
    "pred = commodel(X_test)"
   ]
  },
  {
   "cell_type": "code",
   "execution_count": 55,
   "metadata": {},
   "outputs": [
    {
     "data": {
      "text/plain": [
       "array([2, 4, 2, ..., 2, 0, 0], dtype=int64)"
      ]
     },
     "execution_count": 55,
     "metadata": {},
     "output_type": "execute_result"
    }
   ],
   "source": [
    "pred"
   ]
  },
  {
   "cell_type": "code",
   "execution_count": 56,
   "metadata": {},
   "outputs": [
    {
     "name": "stdout",
     "output_type": "stream",
     "text": [
      "              precision    recall  f1-score   support\n",
      "\n",
      "         0.0       0.99      0.92      0.95      2000\n",
      "         1.0       1.00      0.19      0.32      8000\n",
      "         2.0       0.00      0.00      0.00         0\n",
      "         3.0       0.00      0.00      0.00         0\n",
      "         4.0       0.00      0.00      0.00         0\n",
      "\n",
      "    accuracy                           0.34     10000\n",
      "   macro avg       0.40      0.22      0.25     10000\n",
      "weighted avg       1.00      0.34      0.45     10000\n",
      "\n"
     ]
    },
    {
     "name": "stderr",
     "output_type": "stream",
     "text": [
      "C:\\Users\\Lay\\Anaconda3\\envs\\ai\\lib\\site-packages\\sklearn\\metrics\\classification.py:1439: UndefinedMetricWarning: Recall and F-score are ill-defined and being set to 0.0 in labels with no true samples.\n",
      "  'recall', 'true', average, warn_for)\n"
     ]
    }
   ],
   "source": [
    "print(classification_report(y_test,pred))"
   ]
  },
  {
   "cell_type": "code",
   "execution_count": 57,
   "metadata": {},
   "outputs": [],
   "source": [
    "img = img.reshape(((2448* 2448, 3)))\n",
    "img = img/255"
   ]
  },
  {
   "cell_type": "code",
   "execution_count": 59,
   "metadata": {},
   "outputs": [],
   "source": [
    "#l1 = mymodel.predict(img)"
   ]
  },
  {
   "cell_type": "code",
   "execution_count": 67,
   "metadata": {},
   "outputs": [],
   "source": [
    "predimg = commodel(img)"
   ]
  },
  {
   "cell_type": "code",
   "execution_count": 68,
   "metadata": {},
   "outputs": [],
   "source": [
    "#predimg_dec = np.argmax(predimg,axis=1)\n",
    "#predimg_dec =medfilt(predimg_dec,kernel_size=3)\n",
    "predimg_dec = predimg"
   ]
  },
  {
   "cell_type": "code",
   "execution_count": 69,
   "metadata": {},
   "outputs": [],
   "source": [
    "colormap = np.zeros_like(img).astype(int)"
   ]
  },
  {
   "cell_type": "code",
   "execution_count": 70,
   "metadata": {},
   "outputs": [],
   "source": [
    "for i in range(len(colormap)):\n",
    "    if(predimg_dec[i] == 0):\n",
    "        #water\n",
    "        colormap[i] = [0,0,255]\n",
    "    elif(predimg_dec[i]==1):\n",
    "        #urban\n",
    "        colormap[i] = [0,255,255]\n",
    "    elif (predimg_dec[i] ==2):\n",
    "        #argi\n",
    "        colormap[i] = [255,255,0]\n",
    "    elif (predimg_dec[i] == 3):\n",
    "        #range\n",
    "        colormap[i] = [255,0,255]\n",
    "    elif (predimg_dec[i] == 4):\n",
    "        #barren\n",
    "        colormap[i] = [255,255,255]"
   ]
  },
  {
   "cell_type": "code",
   "execution_count": 71,
   "metadata": {},
   "outputs": [
    {
     "data": {
      "text/plain": [
       "3"
      ]
     },
     "execution_count": 71,
     "metadata": {},
     "output_type": "execute_result"
    }
   ],
   "source": [
    "predimg[0]"
   ]
  },
  {
   "cell_type": "code",
   "execution_count": 72,
   "metadata": {},
   "outputs": [],
   "source": [
    "colormap = colormap.reshape((2448,2448,3))"
   ]
  },
  {
   "cell_type": "code",
   "execution_count": 75,
   "metadata": {
    "scrolled": false
   },
   "outputs": [
    {
     "data": {
      "text/plain": [
       "<matplotlib.image.AxesImage at 0x2039839cec8>"
      ]
     },
     "execution_count": 75,
     "metadata": {},
     "output_type": "execute_result"
    },
    {
     "data": {
      "image/png": "[encoded data removed]",
      "text/plain": [
       "<Figure size 720x720 with 1 Axes>"
      ]
     },
     "metadata": {
      "needs_background": "light"
     },
     "output_type": "display_data"
    }
   ],
   "source": [
    "plt.figure(figsize=(10,10))\n",
    "plt.imshow(colormap)"
   ]
  },
  {
   "cell_type": "code",
   "execution_count": 98,
   "metadata": {},
   "outputs": [],
   "source": [
    "from PIL import Image"
   ]
  },
  {
   "cell_type": "code",
   "execution_count": 113,
   "metadata": {},
   "outputs": [],
   "source": [
    "im = Image.fromarray(colormap.astype(np.uint8))\n",
    "im.save('./final4-lcm.png')"
   ]
  },
  {
   "cell_type": "code",
   "execution_count": 77,
   "metadata": {},
   "outputs": [],
   "source": [
    "from sklearn.metrics import confusion_matrix,cohen_kappa_score"
   ]
  },
  {
   "cell_type": "code",
   "execution_count": 78,
   "metadata": {},
   "outputs": [
    {
     "data": {
      "text/plain": [
       "array([[1884,    4,  111,    1,    0],\n",
       "       [  11, 1060,  388,  369,  172],\n",
       "       [  27,  165, 1046,  548,  214],\n",
       "       [  14,  188,  329, 1310,  159],\n",
       "       [   0,  201,  116,  147, 1536]], dtype=int64)"
      ]
     },
     "execution_count": 78,
     "metadata": {},
     "output_type": "execute_result"
    }
   ],
   "source": [
    "confmat = confusion_matrix(y_test,pred)\n",
    "confmat"
   ]
  },
  {
   "cell_type": "code",
   "execution_count": 79,
   "metadata": {},
   "outputs": [
    {
     "data": {
      "text/plain": [
       "array([94.2, 53. , 52.3, 65.5, 76.8])"
      ]
     },
     "execution_count": 79,
     "metadata": {},
     "output_type": "execute_result"
    }
   ],
   "source": [
    "user_acc = [confmat[0,0],confmat[1,1],confmat[2,2],confmat[3,3],confmat[4,4]]/np.sum(confmat,axis=1)*100\n",
    "user_acc"
   ]
  },
  {
   "cell_type": "code",
   "execution_count": 80,
   "metadata": {},
   "outputs": [
    {
     "data": {
      "text/plain": [
       "array([97.31404959, 65.51297899, 52.56281407, 55.15789474, 73.81066795])"
      ]
     },
     "execution_count": 80,
     "metadata": {},
     "output_type": "execute_result"
    }
   ],
   "source": [
    "prod_acc = [confmat[0,0],confmat[1,1],confmat[2,2],confmat[3,3],confmat[4,4]]/np.sum(confmat,axis=0)*100\n",
    "prod_acc"
   ]
  },
  {
   "cell_type": "code",
   "execution_count": 81,
   "metadata": {},
   "outputs": [
    {
     "data": {
      "text/plain": [
       "0.6836"
      ]
     },
     "execution_count": 81,
     "metadata": {},
     "output_type": "execute_result"
    }
   ],
   "source": [
    "overall_acc = np.sum([confmat[0,0],confmat[1,1],confmat[2,2],confmat[3,3],confmat[4,4]])/10000\n",
    "overall_acc"
   ]
  },
  {
   "cell_type": "code",
   "execution_count": 82,
   "metadata": {},
   "outputs": [
    {
     "data": {
      "text/plain": [
       "0.6044999999999999"
      ]
     },
     "execution_count": 82,
     "metadata": {},
     "output_type": "execute_result"
    }
   ],
   "source": [
    "(overall_acc-1/5)/(1-1/5)"
   ]
  },
  {
   "cell_type": "code",
   "execution_count": 83,
   "metadata": {},
   "outputs": [
    {
     "data": {
      "text/plain": [
       "0.6045"
      ]
     },
     "execution_count": 83,
     "metadata": {},
     "output_type": "execute_result"
    }
   ],
   "source": [
    "cohen_kappa_score(y_test,pred)"
   ]
  },
  {
   "cell_type": "code",
   "execution_count": 84,
   "metadata": {},
   "outputs": [
    {
     "name": "stdout",
     "output_type": "stream",
     "text": [
      "              precision    recall  f1-score   support\n",
      "\n",
      "         0.0       0.97      0.94      0.96      2000\n",
      "         1.0       0.66      0.53      0.59      2000\n",
      "         2.0       0.53      0.52      0.52      2000\n",
      "         3.0       0.55      0.66      0.60      2000\n",
      "         4.0       0.74      0.77      0.75      2000\n",
      "\n",
      "    accuracy                           0.68     10000\n",
      "   macro avg       0.69      0.68      0.68     10000\n",
      "weighted avg       0.69      0.68      0.68     10000\n",
      "\n"
     ]
    }
   ],
   "source": [
    "print(classification_report(y_test,pred))"
   ]
  },
  {
   "cell_type": "code",
   "execution_count": 85,
   "metadata": {},
   "outputs": [
    {
     "data": {
      "text/plain": [
       "array([1884,    4,  111,    1,    0], dtype=int64)"
      ]
     },
     "execution_count": 85,
     "metadata": {},
     "output_type": "execute_result"
    }
   ],
   "source": [
    "confmat[0]"
   ]
  },
  {
   "cell_type": "code",
   "execution_count": 86,
   "metadata": {},
   "outputs": [
    {
     "data": {
      "text/plain": [
       "array([1936, 1618, 1990, 2375, 2081], dtype=int64)"
      ]
     },
     "execution_count": 86,
     "metadata": {},
     "output_type": "execute_result"
    }
   ],
   "source": [
    "np.sum(confmat,axis=0)"
   ]
  },
  {
   "cell_type": "code",
   "execution_count": null,
   "metadata": {},
   "outputs": [],
   "source": []
  }
 ],
 "metadata": {
  "kernelspec": {
   "display_name": "Python 3",
   "language": "python",
   "name": "python3"
  },
  "language_info": {
   "codemirror_mode": {
    "name": "ipython",
    "version": 3
   },
   "file_extension": ".py",
   "mimetype": "text/x-python",
   "name": "python",
   "nbconvert_exporter": "python",
   "pygments_lexer": "ipython3",
   "version": "3.7.5"
  }
 },
 "nbformat": 4,
 "nbformat_minor": 2
}
