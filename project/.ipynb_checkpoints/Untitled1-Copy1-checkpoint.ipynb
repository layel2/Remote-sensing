{
 "cells": [
  {
   "cell_type": "code",
   "execution_count": 10,
   "metadata": {},
   "outputs": [],
   "source": [
    "import numpy as np\n",
    "from matplotlib import pyplot as plt\n",
    "import scipy.io\n",
    "import pandas as pd"
   ]
  },
  {
   "cell_type": "code",
   "execution_count": 11,
   "metadata": {},
   "outputs": [],
   "source": [
    "paviaU = scipy.io.loadmat('./PaviaU.mat')['paviaU']\n",
    "paviaU_gt = scipy.io.loadmat('./PaviaU_gt.mat')['paviaU_gt']"
   ]
  },
  {
   "cell_type": "code",
   "execution_count": 12,
   "metadata": {},
   "outputs": [],
   "source": [
    "Nmax = paviaU.max()\n",
    "paviaU = (paviaU/Nmax).astype(np.float32)"
   ]
  },
  {
   "cell_type": "code",
   "execution_count": 13,
   "metadata": {},
   "outputs": [],
   "source": [
    "paviaU = paviaU.reshape(610*340, 103)"
   ]
  },
  {
   "cell_type": "code",
   "execution_count": 14,
   "metadata": {},
   "outputs": [
    {
     "data": {
      "text/plain": [
       "array([[0.080875, 0.062375, 0.058   , ..., 0.402625, 0.40475 , 0.40625 ],\n",
       "       [0.0755  , 0.06825 , 0.065875, ..., 0.30525 , 0.308   , 0.316   ],\n",
       "       [0.077625, 0.09325 , 0.0695  , ..., 0.2885  , 0.293125, 0.295125],\n",
       "       ...,\n",
       "       [0.074125, 0.048375, 0.0535  , ..., 0.29775 , 0.300875, 0.302875],\n",
       "       [0.074125, 0.093875, 0.081875, ..., 0.289   , 0.2885  , 0.286125],\n",
       "       [0.111125, 0.09    , 0.056125, ..., 0.302   , 0.305875, 0.310625]],\n",
       "      dtype=float32)"
      ]
     },
     "execution_count": 14,
     "metadata": {},
     "output_type": "execute_result"
    }
   ],
   "source": [
    "paviaU"
   ]
  },
  {
   "cell_type": "code",
   "execution_count": 15,
   "metadata": {},
   "outputs": [],
   "source": [
    "from sklearn.decomposition import PCA\n",
    "pca = PCA(20)\n",
    "paviaU_PCA = pca.fit_transform(paviaU)"
   ]
  },
  {
   "cell_type": "code",
   "execution_count": 19,
   "metadata": {},
   "outputs": [],
   "source": [
    "def getiim(size,band):\n",
    "    hf = int(size/2)\n",
    "    aa = np.zeros(((610*340),size,size,band))\n",
    "    a = np.zeros((610+size, 340+size, band))\n",
    "    a[hf:-hf,hf:-hf,:] = paviaU_PCA.reshape((610,340,band))\n",
    "    count = 0\n",
    "    output = []\n",
    "    for i in range(size,610-1,16):\n",
    "        for j in range(size,340-1,16):\n",
    "            #print(i,j)\n",
    "            aa[count] = a[i-hf:i+hf,j-hf:j+hf,:]\n",
    "            #print(count)\n",
    "            count = count+1\n",
    "    return aa"
   ]
  },
  {
   "cell_type": "code",
   "execution_count": 20,
   "metadata": {},
   "outputs": [],
   "source": [
    "data_im = getiim(16,20)"
   ]
  },
  {
   "cell_type": "code",
   "execution_count": 21,
   "metadata": {},
   "outputs": [],
   "source": [
    "#data_im.tofile('data1620.dat')"
   ]
  },
  {
   "cell_type": "code",
   "execution_count": null,
   "metadata": {},
   "outputs": [],
   "source": []
  }
 ],
 "metadata": {
  "kernelspec": {
   "display_name": "Python 3",
   "language": "python",
   "name": "python3"
  },
  "language_info": {
   "codemirror_mode": {
    "name": "ipython",
    "version": 3
   },
   "file_extension": ".py",
   "mimetype": "text/x-python",
   "name": "python",
   "nbconvert_exporter": "python",
   "pygments_lexer": "ipython3",
   "version": "3.7.5"
  }
 },
 "nbformat": 4,
 "nbformat_minor": 2
}
