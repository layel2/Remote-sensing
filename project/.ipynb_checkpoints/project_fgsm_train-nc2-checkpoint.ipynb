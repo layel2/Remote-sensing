{
 "cells": [
  {
   "cell_type": "code",
   "execution_count": 1,
   "metadata": {},
   "outputs": [],
   "source": [
    "import numpy as np\n",
    "from matplotlib import pyplot as plt\n",
    "import scipy.io\n",
    "import pandas as pd\n",
    "import tensorflow as tf\n",
    "from tensorflow import keras\n",
    "from sklearn.decomposition import PCA\n",
    "from sklearn.metrics import classification_report\n",
    "from sklearn.preprocessing import MinMaxScaler\n",
    "import fgsm"
   ]
  },
  {
   "cell_type": "code",
   "execution_count": 2,
   "metadata": {},
   "outputs": [],
   "source": [
    "paviaU = scipy.io.loadmat('./PaviaU.mat')['paviaU']\n",
    "paviaU_gt = scipy.io.loadmat('./PaviaU_gt.mat')['paviaU_gt']"
   ]
  },
  {
   "cell_type": "code",
   "execution_count": 3,
   "metadata": {},
   "outputs": [],
   "source": [
    "Nmax = paviaU.max()\n",
    "paviaU = (paviaU/Nmax).astype(np.float32)"
   ]
  },
  {
   "cell_type": "code",
   "execution_count": 4,
   "metadata": {},
   "outputs": [],
   "source": [
    "paviaU = paviaU.reshape(610*340, 103)"
   ]
  },
  {
   "cell_type": "code",
   "execution_count": 5,
   "metadata": {},
   "outputs": [],
   "source": [
    "pca = PCA(10)\n",
    "paviaU_PCA = pca.fit_transform(paviaU)"
   ]
  },
  {
   "cell_type": "code",
   "execution_count": 6,
   "metadata": {},
   "outputs": [],
   "source": [
    "#mms = MinMaxScaler()\n",
    "#paviaU_PCA = mms.fit_transform(paviaU_PCA)"
   ]
  },
  {
   "cell_type": "code",
   "execution_count": 7,
   "metadata": {},
   "outputs": [],
   "source": [
    "def getiim(size,band):\n",
    "    hf = int(size/2)\n",
    "    aa = np.zeros(((610*340),size,size,band))\n",
    "    a = np.zeros((610+size, 340+size, band))\n",
    "    a[hf:-hf,hf:-hf,:] = paviaU_PCA.reshape((610,340,band))\n",
    "    count = 0\n",
    "    output = []\n",
    "    for i in range(size,610-1):\n",
    "        for j in range(size,340-1):\n",
    "            #print(i,j)\n",
    "            aa[count] = a[i-hf:i+hf,j-hf:j+hf,:]\n",
    "            #print(count)\n",
    "            count = count+1\n",
    "    return aa"
   ]
  },
  {
   "cell_type": "code",
   "execution_count": 8,
   "metadata": {},
   "outputs": [],
   "source": [
    "data_im = getiim(8,10)"
   ]
  },
  {
   "cell_type": "code",
   "execution_count": 9,
   "metadata": {},
   "outputs": [
    {
     "data": {
      "text/plain": [
       "(207400, 8, 8, 10)"
      ]
     },
     "execution_count": 9,
     "metadata": {},
     "output_type": "execute_result"
    }
   ],
   "source": [
    "data_im.shape"
   ]
  },
  {
   "cell_type": "code",
   "execution_count": 10,
   "metadata": {},
   "outputs": [],
   "source": [
    "X = data_im\n",
    "y = paviaU_gt.reshape(207400)\n",
    "idx = np.random.permutation(len(X))\n",
    "X = X[idx]\n",
    "y = y[idx]\n",
    "nsplit = int(0.2*len(paviaU_PCA))\n",
    "X_train = X[:nsplit]\n",
    "y_train = y[:nsplit]\n",
    "X_val = X[nsplit:nsplit*2]\n",
    "y_val = y[nsplit:nsplit*2]\n",
    "X_test = X[nsplit*2:]\n",
    "y_test = y[nsplit*2:]\n",
    "X,y = None,None\n",
    "data_im=None"
   ]
  },
  {
   "cell_type": "code",
   "execution_count": 11,
   "metadata": {},
   "outputs": [],
   "source": [
    "y_train_encode = keras.utils.to_categorical(y_train)\n",
    "y_val_encode = keras.utils.to_categorical(y_val)\n",
    "y_test_encode = keras.utils.to_categorical(y_test)\n"
   ]
  },
  {
   "cell_type": "code",
   "execution_count": 12,
   "metadata": {},
   "outputs": [
    {
     "name": "stdout",
     "output_type": "stream",
     "text": [
      "Model: \"model\"\n",
      "_________________________________________________________________\n",
      "Layer (type)                 Output Shape              Param #   \n",
      "=================================================================\n",
      "input_6 (InputLayer)         [(None, 8, 8, 10)]        0         \n",
      "_________________________________________________________________\n",
      "flatten_5 (Flatten)          (None, 640)               0         \n",
      "_________________________________________________________________\n",
      "dense_20 (Dense)             (None, 2048)              1312768   \n",
      "_________________________________________________________________\n",
      "leaky_re_lu_6 (LeakyReLU)    (None, 2048)              0         \n",
      "_________________________________________________________________\n",
      "dense_21 (Dense)             (None, 512)               1049088   \n",
      "_________________________________________________________________\n",
      "leaky_re_lu_7 (LeakyReLU)    (None, 512)               0         \n",
      "_________________________________________________________________\n",
      "dense_22 (Dense)             (None, 512)               262656    \n",
      "_________________________________________________________________\n",
      "leaky_re_lu_8 (LeakyReLU)    (None, 512)               0         \n",
      "_________________________________________________________________\n",
      "dense_23 (Dense)             (None, 10)                5130      \n",
      "=================================================================\n",
      "Total params: 2,629,642\n",
      "Trainable params: 2,629,642\n",
      "Non-trainable params: 0\n",
      "_________________________________________________________________\n"
     ]
    }
   ],
   "source": [
    "fitModel = keras.models.load_model('./ovf100ep.h5')\n",
    "fitModel.summary()"
   ]
  },
  {
   "cell_type": "code",
   "execution_count": 13,
   "metadata": {},
   "outputs": [],
   "source": [
    "pn_tr = fgsm.create_adversarial_pattern(tf.convert_to_tensor(X_train),y_train_encode,models=fitModel)"
   ]
  },
  {
   "cell_type": "code",
   "execution_count": 14,
   "metadata": {},
   "outputs": [
    {
     "data": {
      "text/plain": [
       "'X_train2 = np.concatenate((X_train,X_train_pn))\\ny_train2 = np.concatenate((y_train,y_train_pn))\\nidx = np.random.permutation(len(X_train2))\\nX_train2 = X_train2[idx]\\ny_train2 = y_train2[idx]\\nX_train2 = X_train2[idx]\\ny_train2 = y_train2[idx]\\ny_train2_encode = keras.utils.to_categorical(y_train2)'"
      ]
     },
     "execution_count": 14,
     "metadata": {},
     "output_type": "execute_result"
    }
   ],
   "source": [
    "X_train_pn = X_train+0.1*pn_tr\n",
    "y_train_pn = y_train\n",
    "'''X_train2 = np.concatenate((X_train,X_train_pn))\n",
    "y_train2 = np.concatenate((y_train,y_train_pn))\n",
    "idx = np.random.permutation(len(X_train2))\n",
    "X_train2 = X_train2[idx]\n",
    "y_train2 = y_train2[idx]\n",
    "X_train2 = X_train2[idx]\n",
    "y_train2 = y_train2[idx]\n",
    "y_train2_encode = keras.utils.to_categorical(y_train2)'''"
   ]
  },
  {
   "cell_type": "code",
   "execution_count": 15,
   "metadata": {},
   "outputs": [
    {
     "data": {
      "text/plain": [
       "TensorShape([41480, 8, 8, 10])"
      ]
     },
     "execution_count": 15,
     "metadata": {},
     "output_type": "execute_result"
    }
   ],
   "source": [
    "X_train_pn.shape"
   ]
  },
  {
   "cell_type": "code",
   "execution_count": 16,
   "metadata": {},
   "outputs": [],
   "source": [
    "def nnmodel(input_shape):\n",
    "    X_input = keras.layers.Input((input_shape))\n",
    "    X = keras.layers.Flatten()(X_input)\n",
    "    X = keras.layers.Dense(2048)(X)\n",
    "    X = keras.layers.LeakyReLU(alpha=0.2)(X)\n",
    "    X = keras.layers.Dense(512)(X)\n",
    "    X = keras.layers.LeakyReLU(alpha=0.2)(X)\n",
    "    X = keras.layers.Dense(512)(X)\n",
    "    X = keras.layers.LeakyReLU(alpha=0.2)(X)\n",
    "    X = keras.layers.Dense(10,activation='softmax')(X)\n",
    "    model = keras.models.Model(inputs=X_input, outputs=X, name='model')\n",
    "    return model"
   ]
  },
  {
   "cell_type": "code",
   "execution_count": 17,
   "metadata": {},
   "outputs": [
    {
     "name": "stdout",
     "output_type": "stream",
     "text": [
      "Model: \"model\"\n",
      "_________________________________________________________________\n",
      "Layer (type)                 Output Shape              Param #   \n",
      "=================================================================\n",
      "input_1 (InputLayer)         [(None, 8, 8, 10)]        0         \n",
      "_________________________________________________________________\n",
      "flatten (Flatten)            (None, 640)               0         \n",
      "_________________________________________________________________\n",
      "dense (Dense)                (None, 2048)              1312768   \n",
      "_________________________________________________________________\n",
      "leaky_re_lu (LeakyReLU)      (None, 2048)              0         \n",
      "_________________________________________________________________\n",
      "dense_1 (Dense)              (None, 512)               1049088   \n",
      "_________________________________________________________________\n",
      "leaky_re_lu_1 (LeakyReLU)    (None, 512)               0         \n",
      "_________________________________________________________________\n",
      "dense_2 (Dense)              (None, 512)               262656    \n",
      "_________________________________________________________________\n",
      "leaky_re_lu_2 (LeakyReLU)    (None, 512)               0         \n",
      "_________________________________________________________________\n",
      "dense_3 (Dense)              (None, 10)                5130      \n",
      "=================================================================\n",
      "Total params: 2,629,642\n",
      "Trainable params: 2,629,642\n",
      "Non-trainable params: 0\n",
      "_________________________________________________________________\n"
     ]
    }
   ],
   "source": [
    "mymodel = nnmodel(X_train_pn[0].shape)\n",
    "mymodel.compile(optimizer=\"adam\", loss=\"categorical_crossentropy\", metrics=['accuracy'])\n",
    "mymodel.summary()"
   ]
  },
  {
   "cell_type": "code",
   "execution_count": 18,
   "metadata": {},
   "outputs": [
    {
     "name": "stdout",
     "output_type": "stream",
     "text": [
      "Train on 41480 samples, validate on 41480 samples\n",
      "Epoch 1/100\n",
      "41480/41480 [==============================] - 3s 68us/sample - loss: 0.3785 - accuracy: 0.9127 - val_loss: 1.0330 - val_accuracy: 0.7722\n",
      "Epoch 2/100\n",
      "41480/41480 [==============================] - 2s 53us/sample - loss: 0.3149 - accuracy: 0.9265 - val_loss: 1.0491 - val_accuracy: 0.7682\n",
      "Epoch 3/100\n",
      "41480/41480 [==============================] - 2s 53us/sample - loss: 0.3041 - accuracy: 0.9279 - val_loss: 0.9766 - val_accuracy: 0.7933\n",
      "Epoch 4/100\n",
      "41480/41480 [==============================] - 2s 53us/sample - loss: 0.2947 - accuracy: 0.9283 - val_loss: 1.0339 - val_accuracy: 0.7840\n",
      "Epoch 5/100\n",
      "41480/41480 [==============================] - 4s 86us/sample - loss: 0.2820 - accuracy: 0.9292 - val_loss: 1.0901 - val_accuracy: 0.7846\n",
      "Epoch 6/100\n",
      "41480/41480 [==============================] - 3s 71us/sample - loss: 0.2762 - accuracy: 0.9296 - val_loss: 1.0165 - val_accuracy: 0.7651\n",
      "Epoch 7/100\n",
      "41480/41480 [==============================] - 3s 82us/sample - loss: 0.2644 - accuracy: 0.9303 - val_loss: 1.0045 - val_accuracy: 0.7872\n",
      "Epoch 8/100\n",
      "41480/41480 [==============================] - 3s 69us/sample - loss: 0.2570 - accuracy: 0.9309 - val_loss: 1.1272 - val_accuracy: 0.7483\n",
      "Epoch 9/100\n",
      "41480/41480 [==============================] - 2s 58us/sample - loss: 0.2571 - accuracy: 0.9302 - val_loss: 1.1813 - val_accuracy: 0.7189\n",
      "Epoch 10/100\n",
      "41480/41480 [==============================] - 2s 58us/sample - loss: 0.2383 - accuracy: 0.9318 - val_loss: 1.1407 - val_accuracy: 0.7314\n",
      "Epoch 11/100\n",
      "41480/41480 [==============================] - 2s 58us/sample - loss: 0.2266 - accuracy: 0.9334 - val_loss: 1.1739 - val_accuracy: 0.7013\n",
      "Epoch 12/100\n",
      "41480/41480 [==============================] - 2s 58us/sample - loss: 0.2154 - accuracy: 0.9356 - val_loss: 1.3340 - val_accuracy: 0.6456\n",
      "Epoch 13/100\n",
      "41480/41480 [==============================] - 3s 68us/sample - loss: 0.2029 - accuracy: 0.9381 - val_loss: 1.3621 - val_accuracy: 0.6102\n",
      "Epoch 14/100\n",
      "41480/41480 [==============================] - 3s 71us/sample - loss: 0.1871 - accuracy: 0.9416 - val_loss: 1.6348 - val_accuracy: 0.5599\n",
      "Epoch 15/100\n",
      "41480/41480 [==============================] - 3s 79us/sample - loss: 0.1920 - accuracy: 0.9409 - val_loss: 1.3974 - val_accuracy: 0.5872\n",
      "Epoch 16/100\n",
      "41480/41480 [==============================] - 2s 54us/sample - loss: 0.1584 - accuracy: 0.9488 - val_loss: 1.5364 - val_accuracy: 0.5703\n",
      "Epoch 17/100\n",
      "41480/41480 [==============================] - 3s 68us/sample - loss: 0.1534 - accuracy: 0.9504 - val_loss: 1.4016 - val_accuracy: 0.6137\n",
      "Epoch 18/100\n",
      "41480/41480 [==============================] - 3s 75us/sample - loss: 0.1388 - accuracy: 0.9541 - val_loss: 1.6844 - val_accuracy: 0.5706\n",
      "Epoch 19/100\n",
      "41480/41480 [==============================] - 3s 76us/sample - loss: 0.1305 - accuracy: 0.9560 - val_loss: 1.8198 - val_accuracy: 0.5098\n",
      "Epoch 20/100\n",
      "41480/41480 [==============================] - 3s 72us/sample - loss: 0.1239 - accuracy: 0.9592 - val_loss: 1.7879 - val_accuracy: 0.5599\n",
      "Epoch 21/100\n",
      "41480/41480 [==============================] - 3s 65us/sample - loss: 0.1215 - accuracy: 0.9612 - val_loss: 1.8427 - val_accuracy: 0.5212\n",
      "Epoch 22/100\n",
      "41480/41480 [==============================] - 4s 99us/sample - loss: 0.1039 - accuracy: 0.9654 - val_loss: 1.9693 - val_accuracy: 0.6035\n",
      "Epoch 23/100\n",
      "41480/41480 [==============================] - 3s 65us/sample - loss: 0.1101 - accuracy: 0.9648 - val_loss: 2.0405 - val_accuracy: 0.5207\n",
      "Epoch 24/100\n",
      "41480/41480 [==============================] - 2s 53us/sample - loss: 0.0881 - accuracy: 0.9708 - val_loss: 2.1052 - val_accuracy: 0.5552\n",
      "Epoch 25/100\n",
      "41480/41480 [==============================] - 2s 53us/sample - loss: 0.0863 - accuracy: 0.9716 - val_loss: 2.4333 - val_accuracy: 0.5444\n",
      "Epoch 26/100\n",
      "41480/41480 [==============================] - 2s 53us/sample - loss: 0.0924 - accuracy: 0.9713 - val_loss: 2.4982 - val_accuracy: 0.4689\n",
      "Epoch 27/100\n",
      "41480/41480 [==============================] - 3s 78us/sample - loss: 0.0725 - accuracy: 0.9760 - val_loss: 2.5536 - val_accuracy: 0.5035\n",
      "Epoch 28/100\n",
      "41480/41480 [==============================] - 3s 74us/sample - loss: 0.0921 - accuracy: 0.9727 - val_loss: 2.6570 - val_accuracy: 0.4897\n",
      "Epoch 29/100\n",
      "41480/41480 [==============================] - 3s 77us/sample - loss: 0.0762 - accuracy: 0.9763 - val_loss: 2.5377 - val_accuracy: 0.5427\n",
      "Epoch 30/100\n",
      "41480/41480 [==============================] - 3s 62us/sample - loss: 0.0802 - accuracy: 0.9767 - val_loss: 2.5399 - val_accuracy: 0.5123\n",
      "Epoch 31/100\n",
      "41480/41480 [==============================] - 4s 92us/sample - loss: 0.0689 - accuracy: 0.9796 - val_loss: 2.9256 - val_accuracy: 0.5196\n",
      "Epoch 32/100\n",
      "41480/41480 [==============================] - 3s 62us/sample - loss: 0.0854 - accuracy: 0.9750 - val_loss: 2.9099 - val_accuracy: 0.4936\n",
      "Epoch 33/100\n",
      "41480/41480 [==============================] - 4s 89us/sample - loss: 0.0647 - accuracy: 0.9805 - val_loss: 2.7123 - val_accuracy: 0.5285\n",
      "Epoch 34/100\n",
      "41480/41480 [==============================] - 3s 62us/sample - loss: 0.0631 - accuracy: 0.9801 - val_loss: 3.3126 - val_accuracy: 0.5010\n",
      "Epoch 35/100\n",
      "41480/41480 [==============================] - 3s 62us/sample - loss: 0.0564 - accuracy: 0.9823 - val_loss: 3.2218 - val_accuracy: 0.5817\n",
      "Epoch 36/100\n",
      "41480/41480 [==============================] - 3s 83us/sample - loss: 0.0629 - accuracy: 0.9811 - val_loss: 3.3926 - val_accuracy: 0.4882\n",
      "Epoch 37/100\n",
      "41480/41480 [==============================] - 3s 75us/sample - loss: 0.0923 - accuracy: 0.9767 - val_loss: 2.8666 - val_accuracy: 0.5109\n",
      "Epoch 38/100\n",
      "41480/41480 [==============================] - 3s 75us/sample - loss: 0.0565 - accuracy: 0.9834 - val_loss: 3.2756 - val_accuracy: 0.4873\n",
      "Epoch 39/100\n",
      "41480/41480 [==============================] - 3s 71us/sample - loss: 0.0451 - accuracy: 0.9870 - val_loss: 3.8135 - val_accuracy: 0.5354\n",
      "Epoch 40/100\n",
      "41480/41480 [==============================] - 4s 97us/sample - loss: 0.0702 - accuracy: 0.9815 - val_loss: 3.2865 - val_accuracy: 0.4766\n",
      "Epoch 41/100\n",
      "41480/41480 [==============================] - 3s 70us/sample - loss: 0.0776 - accuracy: 0.9807 - val_loss: 3.7153 - val_accuracy: 0.4720\n",
      "Epoch 42/100\n",
      "41480/41480 [==============================] - 2s 55us/sample - loss: 0.0596 - accuracy: 0.9835 - val_loss: 3.5002 - val_accuracy: 0.5163\n",
      "Epoch 43/100\n",
      "41480/41480 [==============================] - 3s 65us/sample - loss: 0.0549 - accuracy: 0.9855 - val_loss: 3.7178 - val_accuracy: 0.4825\n",
      "Epoch 44/100\n",
      "41480/41480 [==============================] - 4s 86us/sample - loss: 0.0498 - accuracy: 0.9856 - val_loss: 4.5646 - val_accuracy: 0.4209\n",
      "Epoch 45/100\n",
      "41480/41480 [==============================] - 3s 77us/sample - loss: 0.0595 - accuracy: 0.9831 - val_loss: 4.1090 - val_accuracy: 0.4496\n",
      "Epoch 46/100\n",
      "41480/41480 [==============================] - 3s 72us/sample - loss: 0.0726 - accuracy: 0.9823 - val_loss: 3.9183 - val_accuracy: 0.4612\n",
      "Epoch 47/100\n",
      "41480/41480 [==============================] - 2s 58us/sample - loss: 0.0563 - accuracy: 0.9843 - val_loss: 4.4254 - val_accuracy: 0.4826\n",
      "Epoch 48/100\n",
      "41480/41480 [==============================] - 2s 58us/sample - loss: 0.0500 - accuracy: 0.9868 - val_loss: 4.1883 - val_accuracy: 0.5075\n",
      "Epoch 49/100\n",
      "41480/41480 [==============================] - 2s 58us/sample - loss: 0.0547 - accuracy: 0.9868 - val_loss: 4.0557 - val_accuracy: 0.5736\n",
      "Epoch 50/100\n",
      "41480/41480 [==============================] - 2s 58us/sample - loss: 0.0839 - accuracy: 0.9815 - val_loss: 4.0055 - val_accuracy: 0.5111\n",
      "Epoch 51/100\n",
      "41480/41480 [==============================] - 2s 58us/sample - loss: 0.0391 - accuracy: 0.9900 - val_loss: 4.0638 - val_accuracy: 0.5480\n",
      "Epoch 52/100\n",
      "41480/41480 [==============================] - 2s 58us/sample - loss: 0.0765 - accuracy: 0.9832 - val_loss: 3.7021 - val_accuracy: 0.6066\n",
      "Epoch 53/100\n",
      "41480/41480 [==============================] - 3s 63us/sample - loss: 0.0701 - accuracy: 0.9853 - val_loss: 4.1528 - val_accuracy: 0.5063\n",
      "Epoch 54/100\n",
      "41480/41480 [==============================] - 3s 65us/sample - loss: 0.0657 - accuracy: 0.9874 - val_loss: 4.3355 - val_accuracy: 0.5254\n"
     ]
    },
    {
     "name": "stdout",
     "output_type": "stream",
     "text": [
      "Epoch 55/100\n",
      "41480/41480 [==============================] - 3s 73us/sample - loss: 0.0426 - accuracy: 0.9899 - val_loss: 4.0669 - val_accuracy: 0.5083\n",
      "Epoch 56/100\n",
      "41480/41480 [==============================] - 3s 80us/sample - loss: 0.0628 - accuracy: 0.9877 - val_loss: 4.7738 - val_accuracy: 0.4825\n",
      "Epoch 57/100\n",
      "41480/41480 [==============================] - 2s 54us/sample - loss: 0.0710 - accuracy: 0.9843 - val_loss: 4.3214 - val_accuracy: 0.5078\n",
      "Epoch 58/100\n",
      "41480/41480 [==============================] - 3s 73us/sample - loss: 0.0216 - accuracy: 0.9939 - val_loss: 5.0812 - val_accuracy: 0.4695\n",
      "Epoch 59/100\n",
      "41480/41480 [==============================] - 3s 70us/sample - loss: 0.0751 - accuracy: 0.9845 - val_loss: 5.3598 - val_accuracy: 0.4817\n",
      "Epoch 60/100\n",
      "41480/41480 [==============================] - 3s 76us/sample - loss: 0.0686 - accuracy: 0.9840 - val_loss: 4.4402 - val_accuracy: 0.5482\n",
      "Epoch 61/100\n",
      "41480/41480 [==============================] - 4s 104us/sample - loss: 0.0380 - accuracy: 0.9912 - val_loss: 4.5491 - val_accuracy: 0.5511\n",
      "Epoch 62/100\n",
      "41480/41480 [==============================] - 4s 97us/sample - loss: 0.0825 - accuracy: 0.9837 - val_loss: 4.6687 - val_accuracy: 0.4990\n",
      "Epoch 63/100\n",
      "41480/41480 [==============================] - 4s 91us/sample - loss: 0.0464 - accuracy: 0.9889 - val_loss: 4.9305 - val_accuracy: 0.5586\n",
      "Epoch 64/100\n",
      "41480/41480 [==============================] - 3s 74us/sample - loss: 0.0600 - accuracy: 0.9879 - val_loss: 5.8191 - val_accuracy: 0.4722\n",
      "Epoch 65/100\n",
      "41480/41480 [==============================] - 3s 62us/sample - loss: 0.0482 - accuracy: 0.9891 - val_loss: 5.9473 - val_accuracy: 0.5301\n",
      "Epoch 66/100\n",
      "41480/41480 [==============================] - 3s 72us/sample - loss: 0.0704 - accuracy: 0.9859 - val_loss: 5.4096 - val_accuracy: 0.4988\n",
      "Epoch 67/100\n",
      "41480/41480 [==============================] - 4s 86us/sample - loss: 0.0461 - accuracy: 0.9908 - val_loss: 4.9281 - val_accuracy: 0.5566\n",
      "Epoch 68/100\n",
      "41480/41480 [==============================] - 3s 78us/sample - loss: 0.0492 - accuracy: 0.9892 - val_loss: 5.5110 - val_accuracy: 0.5267\n",
      "Epoch 69/100\n",
      "41480/41480 [==============================] - 4s 92us/sample - loss: 0.0731 - accuracy: 0.9863 - val_loss: 5.6059 - val_accuracy: 0.4777\n",
      "Epoch 70/100\n",
      "41480/41480 [==============================] - 3s 63us/sample - loss: 0.0608 - accuracy: 0.9883 - val_loss: 5.7121 - val_accuracy: 0.4585\n",
      "Epoch 71/100\n",
      "41480/41480 [==============================] - 3s 75us/sample - loss: 0.0950 - accuracy: 0.9854 - val_loss: 6.7339 - val_accuracy: 0.4543\n",
      "Epoch 72/100\n",
      "41480/41480 [==============================] - 4s 87us/sample - loss: 0.0495 - accuracy: 0.9902 - val_loss: 5.8675 - val_accuracy: 0.4777\n",
      "Epoch 73/100\n",
      "41480/41480 [==============================] - 2s 53us/sample - loss: 0.0364 - accuracy: 0.9918 - val_loss: 5.8793 - val_accuracy: 0.5066\n",
      "Epoch 74/100\n",
      "41480/41480 [==============================] - 2s 53us/sample - loss: 0.0727 - accuracy: 0.9872 - val_loss: 5.9281 - val_accuracy: 0.5959\n",
      "Epoch 75/100\n",
      "41480/41480 [==============================] - 2s 53us/sample - loss: 0.0477 - accuracy: 0.9902 - val_loss: 8.2326 - val_accuracy: 0.4231\n",
      "Epoch 76/100\n",
      "41480/41480 [==============================] - 3s 64us/sample - loss: 0.0594 - accuracy: 0.9894 - val_loss: 6.7096 - val_accuracy: 0.4980\n",
      "Epoch 77/100\n",
      "41480/41480 [==============================] - 3s 66us/sample - loss: 0.0796 - accuracy: 0.9874 - val_loss: 6.5190 - val_accuracy: 0.5027\n",
      "Epoch 78/100\n",
      "41480/41480 [==============================] - 3s 79us/sample - loss: 0.0346 - accuracy: 0.9927 - val_loss: 6.5524 - val_accuracy: 0.4760\n",
      "Epoch 79/100\n",
      "41480/41480 [==============================] - 3s 80us/sample - loss: 0.0475 - accuracy: 0.9910 - val_loss: 7.6106 - val_accuracy: 0.3996\n",
      "Epoch 80/100\n",
      "41480/41480 [==============================] - 3s 79us/sample - loss: 0.0645 - accuracy: 0.9892 - val_loss: 5.8123 - val_accuracy: 0.5020\n",
      "Epoch 81/100\n",
      "41480/41480 [==============================] - 3s 77us/sample - loss: 0.0710 - accuracy: 0.9879 - val_loss: 6.7417 - val_accuracy: 0.5618\n",
      "Epoch 82/100\n",
      "41480/41480 [==============================] - 3s 79us/sample - loss: 0.0553 - accuracy: 0.9900 - val_loss: 6.3234 - val_accuracy: 0.5027\n",
      "Epoch 83/100\n",
      "41480/41480 [==============================] - 3s 82us/sample - loss: 0.0664 - accuracy: 0.9900 - val_loss: 5.8280 - val_accuracy: 0.5529\n",
      "Epoch 84/100\n",
      "41480/41480 [==============================] - 4s 92us/sample - loss: 0.0534 - accuracy: 0.9911 - val_loss: 6.4504 - val_accuracy: 0.5284\n",
      "Epoch 85/100\n",
      "41480/41480 [==============================] - 3s 80us/sample - loss: 0.0707 - accuracy: 0.9884 - val_loss: 6.5566 - val_accuracy: 0.5040\n",
      "Epoch 86/100\n",
      "41480/41480 [==============================] - 4s 85us/sample - loss: 0.0598 - accuracy: 0.9896 - val_loss: 6.4328 - val_accuracy: 0.5787\n",
      "Epoch 87/100\n",
      "41480/41480 [==============================] - 2s 54us/sample - loss: 0.0554 - accuracy: 0.9904 - val_loss: 8.0739 - val_accuracy: 0.4793\n",
      "Epoch 88/100\n",
      "41480/41480 [==============================] - 2s 53us/sample - loss: 0.0443 - accuracy: 0.9924 - val_loss: 7.1362 - val_accuracy: 0.4788\n",
      "Epoch 89/100\n",
      "41480/41480 [==============================] - 2s 57us/sample - loss: 0.0616 - accuracy: 0.9906 - val_loss: 7.7735 - val_accuracy: 0.4775\n",
      "Epoch 90/100\n",
      "41480/41480 [==============================] - 2s 53us/sample - loss: 0.0596 - accuracy: 0.9904 - val_loss: 8.7937 - val_accuracy: 0.4189\n",
      "Epoch 91/100\n",
      "41480/41480 [==============================] - 2s 53us/sample - loss: 0.0881 - accuracy: 0.9867 - val_loss: 7.1784 - val_accuracy: 0.4949\n",
      "Epoch 92/100\n",
      "41480/41480 [==============================] - 2s 53us/sample - loss: 0.0616 - accuracy: 0.9905 - val_loss: 6.9377 - val_accuracy: 0.5078\n",
      "Epoch 93/100\n",
      "41480/41480 [==============================] - 4s 102us/sample - loss: 0.0399 - accuracy: 0.9932 - val_loss: 7.3181 - val_accuracy: 0.5175\n",
      "Epoch 94/100\n",
      "41480/41480 [==============================] - 3s 77us/sample - loss: 0.0688 - accuracy: 0.9901 - val_loss: 7.8079 - val_accuracy: 0.5357\n",
      "Epoch 95/100\n",
      "41480/41480 [==============================] - 3s 66us/sample - loss: 0.0552 - accuracy: 0.9913 - val_loss: 7.3317 - val_accuracy: 0.5608\n",
      "Epoch 96/100\n",
      "41480/41480 [==============================] - 3s 62us/sample - loss: 0.0674 - accuracy: 0.9898 - val_loss: 7.3056 - val_accuracy: 0.4664\n",
      "Epoch 97/100\n",
      "41480/41480 [==============================] - 3s 76us/sample - loss: 0.0400 - accuracy: 0.9935 - val_loss: 8.6503 - val_accuracy: 0.4954\n",
      "Epoch 98/100\n",
      "41480/41480 [==============================] - 2s 54us/sample - loss: 0.0960 - accuracy: 0.9876 - val_loss: 8.5292 - val_accuracy: 0.5338\n",
      "Epoch 99/100\n",
      "41480/41480 [==============================] - 2s 53us/sample - loss: 0.0548 - accuracy: 0.9911 - val_loss: 8.9313 - val_accuracy: 0.4486\n",
      "Epoch 100/100\n",
      "41480/41480 [==============================] - 2s 53us/sample - loss: 0.0515 - accuracy: 0.9923 - val_loss: 9.4152 - val_accuracy: 0.4722\n"
     ]
    },
    {
     "data": {
      "text/plain": [
       "<tensorflow.python.keras.callbacks.History at 0x7fe68d26ead0>"
      ]
     },
     "execution_count": 18,
     "metadata": {},
     "output_type": "execute_result"
    }
   ],
   "source": [
    "mymodel.fit(X_train_pn,y_train_encode,batch_size=64,epochs=100,validation_data=(X_val,y_val_encode))"
   ]
  },
  {
   "cell_type": "code",
   "execution_count": 19,
   "metadata": {},
   "outputs": [
    {
     "data": {
      "text/plain": [
       "[<matplotlib.lines.Line2D at 0x7fe67058c450>]"
      ]
     },
     "execution_count": 19,
     "metadata": {},
     "output_type": "execute_result"
    },
    {
     "data": {
      "image/png": "[encoded data removed]",
      "text/plain": [
       "<Figure size 504x504 with 1 Axes>"
      ]
     },
     "metadata": {
      "needs_background": "light"
     },
     "output_type": "display_data"
    }
   ],
   "source": [
    "his = mymodel.history.history\n",
    "plt.figure(figsize=(7,7))\n",
    "plt.plot(his['accuracy'])\n",
    "plt.plot(his['val_accuracy'])\n",
    "#plt.savefig('ovf100ep.png')"
   ]
  },
  {
   "cell_type": "code",
   "execution_count": 20,
   "metadata": {},
   "outputs": [
    {
     "data": {
      "text/plain": [
       "[<matplotlib.lines.Line2D at 0x7fe6704cced0>]"
      ]
     },
     "execution_count": 20,
     "metadata": {},
     "output_type": "execute_result"
    },
    {
     "data": {
      "image/png": "[encoded data removed]",
      "text/plain": [
       "<Figure size 504x504 with 1 Axes>"
      ]
     },
     "metadata": {
      "needs_background": "light"
     },
     "output_type": "display_data"
    }
   ],
   "source": [
    "plt.figure(figsize=(7,7))\n",
    "plt.plot(his['loss'])\n",
    "plt.plot(his['val_loss'])"
   ]
  },
  {
   "cell_type": "code",
   "execution_count": 21,
   "metadata": {},
   "outputs": [],
   "source": [
    "#mymodel.save('ovf100ep.h5')"
   ]
  },
  {
   "cell_type": "code",
   "execution_count": 22,
   "metadata": {},
   "outputs": [
    {
     "name": "stdout",
     "output_type": "stream",
     "text": [
      "              precision    recall  f1-score   support\n",
      "\n",
      "           0       0.86      0.60      0.71     32870\n",
      "           1       0.14      0.44      0.21      1293\n",
      "           2       0.35      0.19      0.25      3763\n",
      "           3       0.10      0.66      0.17       406\n",
      "           4       0.09      0.59      0.16       624\n",
      "           5       0.23      0.64      0.33       284\n",
      "           6       0.31      0.45      0.36      1031\n",
      "           7       0.15      0.55      0.24       262\n",
      "           8       0.19      0.44      0.27       766\n",
      "           9       0.23      0.60      0.33       181\n",
      "\n",
      "    accuracy                           0.55     41480\n",
      "   macro avg       0.26      0.52      0.30     41480\n",
      "weighted avg       0.74      0.55      0.62     41480\n",
      "\n"
     ]
    }
   ],
   "source": [
    "print(classification_report(y_train,np.argmax(mymodel.predict(X_train),axis=1)))"
   ]
  },
  {
   "cell_type": "code",
   "execution_count": 23,
   "metadata": {},
   "outputs": [
    {
     "name": "stdout",
     "output_type": "stream",
     "text": [
      "              precision    recall  f1-score   support\n",
      "\n",
      "           0       0.79      0.57      0.66     32919\n",
      "           1       0.04      0.13      0.06      1311\n",
      "           2       0.14      0.07      0.09      3707\n",
      "           3       0.02      0.12      0.03       414\n",
      "           4       0.02      0.16      0.04       592\n",
      "           5       0.02      0.06      0.03       281\n",
      "           6       0.12      0.15      0.13      1057\n",
      "           7       0.03      0.11      0.05       247\n",
      "           8       0.04      0.08      0.05       740\n",
      "           9       0.01      0.02      0.01       212\n",
      "\n",
      "    accuracy                           0.47     41480\n",
      "   macro avg       0.12      0.15      0.12     41480\n",
      "weighted avg       0.65      0.47      0.54     41480\n",
      "\n"
     ]
    }
   ],
   "source": [
    "print(classification_report(y_val,np.argmax(mymodel.predict(X_val),axis=1)))"
   ]
  },
  {
   "cell_type": "code",
   "execution_count": 24,
   "metadata": {},
   "outputs": [
    {
     "name": "stdout",
     "output_type": "stream",
     "text": [
      "              precision    recall  f1-score   support\n",
      "\n",
      "           0       0.79      0.57      0.66     98835\n",
      "           1       0.04      0.12      0.06      4027\n",
      "           2       0.13      0.06      0.09     11179\n",
      "           3       0.02      0.14      0.04      1279\n",
      "           4       0.02      0.15      0.04      1848\n",
      "           5       0.03      0.08      0.04       780\n",
      "           6       0.10      0.14      0.12      2941\n",
      "           7       0.04      0.13      0.06       821\n",
      "           8       0.03      0.06      0.04      2176\n",
      "           9       0.01      0.03      0.02       554\n",
      "\n",
      "    accuracy                           0.47    124440\n",
      "   macro avg       0.12      0.15      0.12    124440\n",
      "weighted avg       0.65      0.47      0.54    124440\n",
      "\n"
     ]
    }
   ],
   "source": [
    "print(classification_report(y_test,np.argmax(mymodel.predict(X_test),axis=1)))"
   ]
  },
  {
   "cell_type": "code",
   "execution_count": 33,
   "metadata": {},
   "outputs": [],
   "source": [
    "pn_tr2 = fgsm.create_adversarial_pattern(tf.convert_to_tensor(X_train),tf.convert_to_tensor(y_train_encode),fitModel)"
   ]
  },
  {
   "cell_type": "code",
   "execution_count": 34,
   "metadata": {},
   "outputs": [
    {
     "data": {
      "text/plain": [
       "TensorShape([41480, 8, 8, 10])"
      ]
     },
     "execution_count": 34,
     "metadata": {},
     "output_type": "execute_result"
    }
   ],
   "source": [
    "pn_tr2.shape"
   ]
  },
  {
   "cell_type": "code",
   "execution_count": 53,
   "metadata": {},
   "outputs": [
    {
     "name": "stderr",
     "output_type": "stream",
     "text": [
      "Clipping input data to the valid range for imshow with RGB data ([0..1] for floats or [0..255] for integers).\n",
      "Clipping input data to the valid range for imshow with RGB data ([0..1] for floats or [0..255] for integers).\n",
      "Clipping input data to the valid range for imshow with RGB data ([0..1] for floats or [0..255] for integers).\n"
     ]
    },
    {
     "data": {
      "text/plain": [
       "<matplotlib.image.AxesImage at 0x7feaa43dcf50>"
      ]
     },
     "execution_count": 53,
     "metadata": {},
     "output_type": "execute_result"
    },
    {
     "data": {
      "image/png": "[encoded data removed]",
      "text/plain": [
       "<Figure size 1440x1440 with 3 Axes>"
      ]
     },
     "metadata": {
      "needs_background": "light"
     },
     "output_type": "display_data"
    }
   ],
   "source": [
    "fig, (ax1, ax2,ax3) = plt.subplots(1, 3,)\n",
    "fig.set_figheight(20)\n",
    "fig.set_figwidth(20)\n",
    "ax1.imshow(X_train[212,:,:,:3])\n",
    "ax2.imshow(pn_tr2[212,:,:,:3])\n",
    "ax3.imshow(X_train[212,:,:,:3]+0.5*pn_tr2[212,:,:,:3])"
   ]
  },
  {
   "cell_type": "code",
   "execution_count": 36,
   "metadata": {},
   "outputs": [
    {
     "data": {
      "text/plain": [
       "TensorShape([41480, 8, 8, 10])"
      ]
     },
     "execution_count": 36,
     "metadata": {},
     "output_type": "execute_result"
    }
   ],
   "source": [
    "pn_tr2.shape"
   ]
  },
  {
   "cell_type": "code",
   "execution_count": 48,
   "metadata": {},
   "outputs": [],
   "source": [
    "xatk = X_train+0.5*pn_tr2"
   ]
  },
  {
   "cell_type": "code",
   "execution_count": 49,
   "metadata": {},
   "outputs": [
    {
     "data": {
      "text/plain": [
       "[0.08780175065296814, 0.9947445]"
      ]
     },
     "execution_count": 49,
     "metadata": {},
     "output_type": "execute_result"
    }
   ],
   "source": [
    "mymodel.evaluate(xatk,y_train_encode,verbose=0)"
   ]
  },
  {
   "cell_type": "code",
   "execution_count": 50,
   "metadata": {},
   "outputs": [
    {
     "data": {
      "text/plain": [
       "[0.1872070882941981, 0.9518563]"
      ]
     },
     "execution_count": 50,
     "metadata": {},
     "output_type": "execute_result"
    }
   ],
   "source": [
    "mymodel.evaluate(X_train,y_train_encode,verbose=0)"
   ]
  },
  {
   "cell_type": "code",
   "execution_count": 51,
   "metadata": {},
   "outputs": [
    {
     "name": "stdout",
     "output_type": "stream",
     "text": [
      "              precision    recall  f1-score   support\n",
      "\n",
      "           0       1.00      1.00      1.00     32913\n",
      "           1       0.99      0.97      0.98      1350\n",
      "           2       1.00      0.99      1.00      3708\n",
      "           3       0.98      0.96      0.97       451\n",
      "           4       0.99      0.93      0.96       603\n",
      "           5       1.00      0.99      0.99       261\n",
      "           6       0.98      0.98      0.98       970\n",
      "           7       0.96      0.99      0.97       263\n",
      "           8       0.98      0.98      0.98       778\n",
      "           9       1.00      0.91      0.95       183\n",
      "\n",
      "    accuracy                           0.99     41480\n",
      "   macro avg       0.99      0.97      0.98     41480\n",
      "weighted avg       0.99      0.99      0.99     41480\n",
      "\n"
     ]
    }
   ],
   "source": [
    "print(classification_report(y_train,np.argmax(mymodel.predict(xatk),axis=1)))"
   ]
  },
  {
   "cell_type": "code",
   "execution_count": 52,
   "metadata": {},
   "outputs": [
    {
     "name": "stdout",
     "output_type": "stream",
     "text": [
      "              precision    recall  f1-score   support\n",
      "\n",
      "           0       0.98      0.97      0.97     32913\n",
      "           1       0.89      0.81      0.85      1350\n",
      "           2       0.83      0.93      0.87      3708\n",
      "           3       0.94      0.87      0.91       451\n",
      "           4       0.98      0.77      0.86       603\n",
      "           5       0.96      0.98      0.97       261\n",
      "           6       0.90      0.94      0.92       970\n",
      "           7       0.82      0.98      0.89       263\n",
      "           8       0.80      0.88      0.84       778\n",
      "           9       0.99      0.81      0.89       183\n",
      "\n",
      "    accuracy                           0.95     41480\n",
      "   macro avg       0.91      0.89      0.90     41480\n",
      "weighted avg       0.95      0.95      0.95     41480\n",
      "\n"
     ]
    }
   ],
   "source": [
    "print(classification_report(y_train,np.argmax(mymodel.predict(X_train),axis=1)))"
   ]
  },
  {
   "cell_type": "code",
   "execution_count": null,
   "metadata": {},
   "outputs": [],
   "source": []
  }
 ],
 "metadata": {
  "kernelspec": {
   "display_name": "Python 3",
   "language": "python",
   "name": "python3"
  },
  "language_info": {
   "codemirror_mode": {
    "name": "ipython",
    "version": 3
   },
   "file_extension": ".py",
   "mimetype": "text/x-python",
   "name": "python",
   "nbconvert_exporter": "python",
   "pygments_lexer": "ipython3",
   "version": "3.7.5"
  }
 },
 "nbformat": 4,
 "nbformat_minor": 2
}
