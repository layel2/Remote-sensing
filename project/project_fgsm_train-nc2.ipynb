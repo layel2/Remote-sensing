{
 "cells": [
  {
   "cell_type": "code",
   "execution_count": 1,
   "metadata": {},
   "outputs": [],
   "source": [
    "import numpy as np\n",
    "from matplotlib import pyplot as plt\n",
    "import scipy.io\n",
    "import pandas as pd\n",
    "import tensorflow as tf\n",
    "from tensorflow import keras\n",
    "from sklearn.decomposition import PCA\n",
    "from sklearn.metrics import classification_report\n",
    "from sklearn.preprocessing import MinMaxScaler\n",
    "import fgsm"
   ]
  },
  {
   "cell_type": "code",
   "execution_count": 2,
   "metadata": {},
   "outputs": [],
   "source": [
    "paviaU = scipy.io.loadmat('./PaviaU.mat')['paviaU']\n",
    "paviaU_gt = scipy.io.loadmat('./PaviaU_gt.mat')['paviaU_gt']"
   ]
  },
  {
   "cell_type": "code",
   "execution_count": 3,
   "metadata": {},
   "outputs": [],
   "source": [
    "Nmax = paviaU.max()\n",
    "paviaU = (paviaU/Nmax).astype(np.float32)"
   ]
  },
  {
   "cell_type": "code",
   "execution_count": 4,
   "metadata": {},
   "outputs": [],
   "source": [
    "paviaU = paviaU.reshape(610*340, 103)"
   ]
  },
  {
   "cell_type": "code",
   "execution_count": 5,
   "metadata": {},
   "outputs": [],
   "source": [
    "pca = PCA(10)\n",
    "paviaU_PCA = pca.fit_transform(paviaU)"
   ]
  },
  {
   "cell_type": "code",
   "execution_count": 6,
   "metadata": {},
   "outputs": [],
   "source": [
    "#mms = MinMaxScaler()\n",
    "#paviaU_PCA = mms.fit_transform(paviaU_PCA)"
   ]
  },
  {
   "cell_type": "code",
   "execution_count": 7,
   "metadata": {},
   "outputs": [],
   "source": [
    "def getiim(size,band):\n",
    "    hf = int(size/2)\n",
    "    aa = np.zeros(((610*340),size,size,band))\n",
    "    a = np.zeros((610+size, 340+size, band))\n",
    "    a[hf:-hf,hf:-hf,:] = paviaU_PCA.reshape((610,340,band))\n",
    "    count = 0\n",
    "    output = []\n",
    "    for i in range(size,610-1):\n",
    "        for j in range(size,340-1):\n",
    "            #print(i,j)\n",
    "            aa[count] = a[i-hf:i+hf,j-hf:j+hf,:]\n",
    "            #print(count)\n",
    "            count = count+1\n",
    "    return aa"
   ]
  },
  {
   "cell_type": "code",
   "execution_count": 8,
   "metadata": {},
   "outputs": [],
   "source": [
    "data_im = getiim(8,10)"
   ]
  },
  {
   "cell_type": "code",
   "execution_count": 9,
   "metadata": {},
   "outputs": [
    {
     "data": {
      "text/plain": [
       "(207400, 8, 8, 10)"
      ]
     },
     "execution_count": 9,
     "metadata": {},
     "output_type": "execute_result"
    }
   ],
   "source": [
    "data_im.shape"
   ]
  },
  {
   "cell_type": "code",
   "execution_count": 10,
   "metadata": {},
   "outputs": [],
   "source": [
    "X = data_im\n",
    "y = paviaU_gt.reshape(207400)\n",
    "idx = np.random.permutation(len(X))\n",
    "X = X[idx]\n",
    "y = y[idx]\n",
    "nsplit = int(0.2*len(paviaU_PCA))\n",
    "X_train = X[:nsplit]\n",
    "y_train = y[:nsplit]\n",
    "X_val = X[nsplit:nsplit*2]\n",
    "y_val = y[nsplit:nsplit*2]\n",
    "X_test = X[nsplit*2:]\n",
    "y_test = y[nsplit*2:]\n",
    "X,y = None,None\n",
    "data_im=None"
   ]
  },
  {
   "cell_type": "code",
   "execution_count": 11,
   "metadata": {},
   "outputs": [],
   "source": [
    "y_train_encode = keras.utils.to_categorical(y_train)\n",
    "y_val_encode = keras.utils.to_categorical(y_val)\n",
    "y_test_encode = keras.utils.to_categorical(y_test)\n"
   ]
  },
  {
   "cell_type": "code",
   "execution_count": 12,
   "metadata": {},
   "outputs": [
    {
     "name": "stdout",
     "output_type": "stream",
     "text": [
      "Model: \"model\"\n",
      "_________________________________________________________________\n",
      "Layer (type)                 Output Shape              Param #   \n",
      "=================================================================\n",
      "input_6 (InputLayer)         [(None, 8, 8, 10)]        0         \n",
      "_________________________________________________________________\n",
      "flatten_5 (Flatten)          (None, 640)               0         \n",
      "_________________________________________________________________\n",
      "dense_20 (Dense)             (None, 2048)              1312768   \n",
      "_________________________________________________________________\n",
      "leaky_re_lu_6 (LeakyReLU)    (None, 2048)              0         \n",
      "_________________________________________________________________\n",
      "dense_21 (Dense)             (None, 512)               1049088   \n",
      "_________________________________________________________________\n",
      "leaky_re_lu_7 (LeakyReLU)    (None, 512)               0         \n",
      "_________________________________________________________________\n",
      "dense_22 (Dense)             (None, 512)               262656    \n",
      "_________________________________________________________________\n",
      "leaky_re_lu_8 (LeakyReLU)    (None, 512)               0         \n",
      "_________________________________________________________________\n",
      "dense_23 (Dense)             (None, 10)                5130      \n",
      "=================================================================\n",
      "Total params: 2,629,642\n",
      "Trainable params: 2,629,642\n",
      "Non-trainable params: 0\n",
      "_________________________________________________________________\n"
     ]
    }
   ],
   "source": [
    "fitModel = keras.models.load_model('./ovf100ep.h5')\n",
    "fitModel.summary()"
   ]
  },
  {
   "cell_type": "code",
   "execution_count": 13,
   "metadata": {},
   "outputs": [],
   "source": [
    "pn_tr = fgsm.create_adversarial_pattern(tf.convert_to_tensor(X_train),y_train_encode,models=fitModel)"
   ]
  },
  {
   "cell_type": "code",
   "execution_count": 14,
   "metadata": {},
   "outputs": [
    {
     "data": {
      "text/plain": [
       "'X_train2 = np.concatenate((X_train,X_train_pn))\\ny_train2 = np.concatenate((y_train,y_train_pn))\\nidx = np.random.permutation(len(X_train2))\\nX_train2 = X_train2[idx]\\ny_train2 = y_train2[idx]\\nX_train2 = X_train2[idx]\\ny_train2 = y_train2[idx]\\ny_train2_encode = keras.utils.to_categorical(y_train2)'"
      ]
     },
     "execution_count": 14,
     "metadata": {},
     "output_type": "execute_result"
    }
   ],
   "source": [
    "X_train_pn = X_train+0.005*pn_tr\n",
    "y_train_pn = y_train\n",
    "'''X_train2 = np.concatenate((X_train,X_train_pn))\n",
    "y_train2 = np.concatenate((y_train,y_train_pn))\n",
    "idx = np.random.permutation(len(X_train2))\n",
    "X_train2 = X_train2[idx]\n",
    "y_train2 = y_train2[idx]\n",
    "X_train2 = X_train2[idx]\n",
    "y_train2 = y_train2[idx]\n",
    "y_train2_encode = keras.utils.to_categorical(y_train2)'''"
   ]
  },
  {
   "cell_type": "code",
   "execution_count": 15,
   "metadata": {},
   "outputs": [
    {
     "data": {
      "text/plain": [
       "TensorShape([41480, 8, 8, 10])"
      ]
     },
     "execution_count": 15,
     "metadata": {},
     "output_type": "execute_result"
    }
   ],
   "source": [
    "X_train_pn.shape"
   ]
  },
  {
   "cell_type": "code",
   "execution_count": 16,
   "metadata": {},
   "outputs": [],
   "source": [
    "def nnmodel(input_shape):\n",
    "    X_input = keras.layers.Input((input_shape))\n",
    "    X = keras.layers.Flatten()(X_input)\n",
    "    X = keras.layers.Dense(2048)(X)\n",
    "    X = keras.layers.LeakyReLU(alpha=0.2)(X)\n",
    "    X = keras.layers.Dense(512)(X)\n",
    "    X = keras.layers.LeakyReLU(alpha=0.2)(X)\n",
    "    X = keras.layers.Dense(512)(X)\n",
    "    X = keras.layers.LeakyReLU(alpha=0.2)(X)\n",
    "    X = keras.layers.Dense(10,activation='softmax')(X)\n",
    "    model = keras.models.Model(inputs=X_input, outputs=X, name='model')\n",
    "    return model"
   ]
  },
  {
   "cell_type": "code",
   "execution_count": 17,
   "metadata": {},
   "outputs": [
    {
     "name": "stdout",
     "output_type": "stream",
     "text": [
      "Model: \"model\"\n",
      "_________________________________________________________________\n",
      "Layer (type)                 Output Shape              Param #   \n",
      "=================================================================\n",
      "input_1 (InputLayer)         [(None, 8, 8, 10)]        0         \n",
      "_________________________________________________________________\n",
      "flatten (Flatten)            (None, 640)               0         \n",
      "_________________________________________________________________\n",
      "dense (Dense)                (None, 2048)              1312768   \n",
      "_________________________________________________________________\n",
      "leaky_re_lu (LeakyReLU)      (None, 2048)              0         \n",
      "_________________________________________________________________\n",
      "dense_1 (Dense)              (None, 512)               1049088   \n",
      "_________________________________________________________________\n",
      "leaky_re_lu_1 (LeakyReLU)    (None, 512)               0         \n",
      "_________________________________________________________________\n",
      "dense_2 (Dense)              (None, 512)               262656    \n",
      "_________________________________________________________________\n",
      "leaky_re_lu_2 (LeakyReLU)    (None, 512)               0         \n",
      "_________________________________________________________________\n",
      "dense_3 (Dense)              (None, 10)                5130      \n",
      "=================================================================\n",
      "Total params: 2,629,642\n",
      "Trainable params: 2,629,642\n",
      "Non-trainable params: 0\n",
      "_________________________________________________________________\n"
     ]
    }
   ],
   "source": [
    "mymodel = nnmodel(X_train_pn[0].shape)\n",
    "mymodel.compile(optimizer=\"adam\", loss=\"categorical_crossentropy\", metrics=['accuracy'])\n",
    "mymodel.summary()"
   ]
  },
  {
   "cell_type": "code",
   "execution_count": 18,
   "metadata": {},
   "outputs": [
    {
     "name": "stdout",
     "output_type": "stream",
     "text": [
      "Train on 41480 samples, validate on 41480 samples\n",
      "Epoch 1/100\n",
      "41480/41480 [==============================] - 3s 65us/sample - loss: 0.7944 - accuracy: 0.8167 - val_loss: 0.9303 - val_accuracy: 0.7927\n",
      "Epoch 2/100\n",
      "41480/41480 [==============================] - 2s 52us/sample - loss: 0.6741 - accuracy: 0.8333 - val_loss: 0.9147 - val_accuracy: 0.7786\n",
      "Epoch 3/100\n",
      "41480/41480 [==============================] - 3s 78us/sample - loss: 0.6163 - accuracy: 0.8439 - val_loss: 1.0000 - val_accuracy: 0.7781\n",
      "Epoch 4/100\n",
      "41480/41480 [==============================] - 3s 68us/sample - loss: 0.5689 - accuracy: 0.8554 - val_loss: 1.0813 - val_accuracy: 0.7189\n",
      "Epoch 5/100\n",
      "41480/41480 [==============================] - 2s 53us/sample - loss: 0.5266 - accuracy: 0.8633 - val_loss: 1.0494 - val_accuracy: 0.7581\n",
      "Epoch 6/100\n",
      "41480/41480 [==============================] - 2s 52us/sample - loss: 0.4944 - accuracy: 0.8684 - val_loss: 1.1197 - val_accuracy: 0.7058\n",
      "Epoch 7/100\n",
      "41480/41480 [==============================] - 2s 53us/sample - loss: 0.4565 - accuracy: 0.8761 - val_loss: 1.1479 - val_accuracy: 0.7110\n",
      "Epoch 8/100\n",
      "41480/41480 [==============================] - 2s 52us/sample - loss: 0.4313 - accuracy: 0.8824 - val_loss: 1.2010 - val_accuracy: 0.7228\n",
      "Epoch 9/100\n",
      "41480/41480 [==============================] - 2s 53us/sample - loss: 0.3999 - accuracy: 0.8877 - val_loss: 1.2257 - val_accuracy: 0.7119\n",
      "Epoch 10/100\n",
      "41480/41480 [==============================] - 2s 53us/sample - loss: 0.3700 - accuracy: 0.8954 - val_loss: 1.1784 - val_accuracy: 0.7353\n",
      "Epoch 11/100\n",
      "41480/41480 [==============================] - 2s 52us/sample - loss: 0.3426 - accuracy: 0.8995 - val_loss: 1.2820 - val_accuracy: 0.6967\n",
      "Epoch 12/100\n",
      "41480/41480 [==============================] - 2s 52us/sample - loss: 0.3184 - accuracy: 0.9063 - val_loss: 1.2666 - val_accuracy: 0.6957\n",
      "Epoch 13/100\n",
      "41480/41480 [==============================] - 2s 52us/sample - loss: 0.2938 - accuracy: 0.9111 - val_loss: 1.2448 - val_accuracy: 0.6731\n",
      "Epoch 14/100\n",
      "41480/41480 [==============================] - 2s 52us/sample - loss: 0.2765 - accuracy: 0.9149 - val_loss: 1.4028 - val_accuracy: 0.7081\n",
      "Epoch 15/100\n",
      "41480/41480 [==============================] - 2s 53us/sample - loss: 0.2524 - accuracy: 0.9221 - val_loss: 1.4469 - val_accuracy: 0.6528\n",
      "Epoch 16/100\n",
      "41480/41480 [==============================] - 2s 52us/sample - loss: 0.2362 - accuracy: 0.9255 - val_loss: 1.4079 - val_accuracy: 0.6872\n",
      "Epoch 17/100\n",
      "41480/41480 [==============================] - 3s 62us/sample - loss: 0.2201 - accuracy: 0.9303 - val_loss: 1.5546 - val_accuracy: 0.6888\n",
      "Epoch 18/100\n",
      "41480/41480 [==============================] - 3s 63us/sample - loss: 0.2079 - accuracy: 0.9354 - val_loss: 1.5463 - val_accuracy: 0.6345\n",
      "Epoch 19/100\n",
      "41480/41480 [==============================] - 3s 84us/sample - loss: 0.1889 - accuracy: 0.9386 - val_loss: 1.6007 - val_accuracy: 0.6618\n",
      "Epoch 20/100\n",
      "41480/41480 [==============================] - 3s 70us/sample - loss: 0.1875 - accuracy: 0.9409 - val_loss: 1.8056 - val_accuracy: 0.6161\n",
      "Epoch 21/100\n",
      "41480/41480 [==============================] - 3s 84us/sample - loss: 0.1766 - accuracy: 0.9432 - val_loss: 1.9188 - val_accuracy: 0.6420\n",
      "Epoch 22/100\n",
      "41480/41480 [==============================] - 3s 82us/sample - loss: 0.1631 - accuracy: 0.9473 - val_loss: 2.0263 - val_accuracy: 0.6441\n",
      "Epoch 23/100\n",
      "41480/41480 [==============================] - 3s 83us/sample - loss: 0.1584 - accuracy: 0.9493 - val_loss: 1.9715 - val_accuracy: 0.6404\n",
      "Epoch 24/100\n",
      "41480/41480 [==============================] - 3s 70us/sample - loss: 0.1445 - accuracy: 0.9533 - val_loss: 1.7628 - val_accuracy: 0.6918\n",
      "Epoch 25/100\n",
      "41480/41480 [==============================] - 4s 90us/sample - loss: 0.1483 - accuracy: 0.9534 - val_loss: 1.8585 - val_accuracy: 0.6855\n",
      "Epoch 26/100\n",
      "41480/41480 [==============================] - 3s 84us/sample - loss: 0.1301 - accuracy: 0.9576 - val_loss: 2.2635 - val_accuracy: 0.6492\n",
      "Epoch 27/100\n",
      "41480/41480 [==============================] - 3s 68us/sample - loss: 0.1283 - accuracy: 0.9584 - val_loss: 2.2218 - val_accuracy: 0.6109\n",
      "Epoch 28/100\n",
      "41480/41480 [==============================] - 2s 54us/sample - loss: 0.1281 - accuracy: 0.9599 - val_loss: 2.1227 - val_accuracy: 0.6516\n",
      "Epoch 29/100\n",
      "41480/41480 [==============================] - 2s 53us/sample - loss: 0.1178 - accuracy: 0.9627 - val_loss: 2.5472 - val_accuracy: 0.6372\n",
      "Epoch 30/100\n",
      "41480/41480 [==============================] - 2s 53us/sample - loss: 0.1213 - accuracy: 0.9623 - val_loss: 2.2279 - val_accuracy: 0.6410\n",
      "Epoch 31/100\n",
      "41480/41480 [==============================] - 3s 72us/sample - loss: 0.1146 - accuracy: 0.9649 - val_loss: 2.3674 - val_accuracy: 0.6333\n",
      "Epoch 32/100\n",
      "41480/41480 [==============================] - 3s 74us/sample - loss: 0.1189 - accuracy: 0.9634 - val_loss: 2.7326 - val_accuracy: 0.5549\n",
      "Epoch 33/100\n",
      "41480/41480 [==============================] - 3s 65us/sample - loss: 0.1060 - accuracy: 0.9669 - val_loss: 2.6989 - val_accuracy: 0.6246\n",
      "Epoch 34/100\n",
      "41480/41480 [==============================] - 3s 75us/sample - loss: 0.1032 - accuracy: 0.9688 - val_loss: 2.8341 - val_accuracy: 0.6375\n",
      "Epoch 35/100\n",
      "41480/41480 [==============================] - 3s 73us/sample - loss: 0.1159 - accuracy: 0.9641 - val_loss: 2.6501 - val_accuracy: 0.6310\n",
      "Epoch 36/100\n",
      "41480/41480 [==============================] - 3s 81us/sample - loss: 0.0921 - accuracy: 0.9718 - val_loss: 2.5414 - val_accuracy: 0.6548\n",
      "Epoch 37/100\n",
      "41480/41480 [==============================] - 3s 83us/sample - loss: 0.1031 - accuracy: 0.9696 - val_loss: 2.7723 - val_accuracy: 0.5864\n",
      "Epoch 38/100\n",
      "41480/41480 [==============================] - 2s 60us/sample - loss: 0.0913 - accuracy: 0.9727 - val_loss: 2.5550 - val_accuracy: 0.6486\n",
      "Epoch 39/100\n",
      "41480/41480 [==============================] - 2s 59us/sample - loss: 0.1085 - accuracy: 0.9679 - val_loss: 2.5800 - val_accuracy: 0.6398\n",
      "Epoch 40/100\n",
      "41480/41480 [==============================] - 2s 54us/sample - loss: 0.1033 - accuracy: 0.9699 - val_loss: 2.7475 - val_accuracy: 0.6537\n",
      "Epoch 41/100\n",
      "41480/41480 [==============================] - 2s 53us/sample - loss: 0.0973 - accuracy: 0.9710 - val_loss: 2.7991 - val_accuracy: 0.6316\n",
      "Epoch 42/100\n",
      "41480/41480 [==============================] - 2s 53us/sample - loss: 0.0944 - accuracy: 0.9726 - val_loss: 2.7000 - val_accuracy: 0.6283\n",
      "Epoch 43/100\n",
      "41480/41480 [==============================] - 2s 52us/sample - loss: 0.0893 - accuracy: 0.9727 - val_loss: 3.1307 - val_accuracy: 0.5823\n",
      "Epoch 44/100\n",
      "41480/41480 [==============================] - 2s 52us/sample - loss: 0.0962 - accuracy: 0.9715 - val_loss: 2.9373 - val_accuracy: 0.6358\n",
      "Epoch 45/100\n",
      "41480/41480 [==============================] - 4s 96us/sample - loss: 0.0913 - accuracy: 0.9737 - val_loss: 2.7630 - val_accuracy: 0.6458\n",
      "Epoch 46/100\n",
      "41480/41480 [==============================] - 3s 79us/sample - loss: 0.0876 - accuracy: 0.9759 - val_loss: 3.0390 - val_accuracy: 0.6075\n",
      "Epoch 47/100\n",
      "41480/41480 [==============================] - 2s 59us/sample - loss: 0.0928 - accuracy: 0.9739 - val_loss: 2.9141 - val_accuracy: 0.6248\n",
      "Epoch 48/100\n",
      "41480/41480 [==============================] - 3s 66us/sample - loss: 0.0806 - accuracy: 0.9773 - val_loss: 2.9095 - val_accuracy: 0.6572\n",
      "Epoch 49/100\n",
      "41480/41480 [==============================] - 3s 72us/sample - loss: 0.1153 - accuracy: 0.9694 - val_loss: 2.8369 - val_accuracy: 0.6775\n",
      "Epoch 50/100\n",
      "41480/41480 [==============================] - 4s 87us/sample - loss: 0.0816 - accuracy: 0.9772 - val_loss: 2.8139 - val_accuracy: 0.6414\n",
      "Epoch 51/100\n",
      "41480/41480 [==============================] - 3s 74us/sample - loss: 0.0765 - accuracy: 0.9791 - val_loss: 3.1129 - val_accuracy: 0.6191\n",
      "Epoch 52/100\n",
      "41480/41480 [==============================] - 4s 92us/sample - loss: 0.0847 - accuracy: 0.9774 - val_loss: 3.1615 - val_accuracy: 0.6353\n",
      "Epoch 53/100\n",
      "41480/41480 [==============================] - 4s 88us/sample - loss: 0.0865 - accuracy: 0.9762 - val_loss: 3.1344 - val_accuracy: 0.6039\n",
      "Epoch 54/100\n",
      "41480/41480 [==============================] - 3s 79us/sample - loss: 0.0793 - accuracy: 0.9786 - val_loss: 3.2751 - val_accuracy: 0.6412\n"
     ]
    },
    {
     "name": "stdout",
     "output_type": "stream",
     "text": [
      "Epoch 55/100\n",
      "41480/41480 [==============================] - 3s 80us/sample - loss: 0.0921 - accuracy: 0.9755 - val_loss: 3.1561 - val_accuracy: 0.6891\n",
      "Epoch 56/100\n",
      "41480/41480 [==============================] - 3s 73us/sample - loss: 0.0815 - accuracy: 0.9777 - val_loss: 3.0505 - val_accuracy: 0.6479\n",
      "Epoch 57/100\n",
      "41480/41480 [==============================] - 4s 91us/sample - loss: 0.0752 - accuracy: 0.9792 - val_loss: 3.3925 - val_accuracy: 0.6538\n",
      "Epoch 58/100\n",
      "41480/41480 [==============================] - 3s 79us/sample - loss: 0.0778 - accuracy: 0.9793 - val_loss: 3.2224 - val_accuracy: 0.6384\n",
      "Epoch 59/100\n",
      "41480/41480 [==============================] - 2s 54us/sample - loss: 0.0979 - accuracy: 0.9745 - val_loss: 3.0812 - val_accuracy: 0.6342\n",
      "Epoch 60/100\n",
      "41480/41480 [==============================] - 2s 53us/sample - loss: 0.0920 - accuracy: 0.9773 - val_loss: 3.5990 - val_accuracy: 0.5995\n",
      "Epoch 61/100\n",
      "41480/41480 [==============================] - 2s 53us/sample - loss: 0.0746 - accuracy: 0.9796 - val_loss: 3.3471 - val_accuracy: 0.6224\n",
      "Epoch 62/100\n",
      "41480/41480 [==============================] - 2s 53us/sample - loss: 0.0747 - accuracy: 0.9805 - val_loss: 3.5245 - val_accuracy: 0.5825\n",
      "Epoch 63/100\n",
      "41480/41480 [==============================] - 2s 53us/sample - loss: 0.0967 - accuracy: 0.9749 - val_loss: 3.3500 - val_accuracy: 0.6646\n",
      "Epoch 64/100\n",
      "41480/41480 [==============================] - 2s 53us/sample - loss: 0.0467 - accuracy: 0.9879 - val_loss: 3.3331 - val_accuracy: 0.6528\n",
      "Epoch 65/100\n",
      "41480/41480 [==============================] - 2s 53us/sample - loss: 0.0953 - accuracy: 0.9774 - val_loss: 3.8365 - val_accuracy: 0.6143\n",
      "Epoch 66/100\n",
      "41480/41480 [==============================] - 2s 53us/sample - loss: 0.0769 - accuracy: 0.9793 - val_loss: 3.7508 - val_accuracy: 0.6434\n",
      "Epoch 67/100\n",
      "41480/41480 [==============================] - 2s 52us/sample - loss: 0.0743 - accuracy: 0.9818 - val_loss: 3.4898 - val_accuracy: 0.6603\n",
      "Epoch 68/100\n",
      "41480/41480 [==============================] - 2s 53us/sample - loss: 0.0818 - accuracy: 0.9798 - val_loss: 3.8598 - val_accuracy: 0.6756\n",
      "Epoch 69/100\n",
      "41480/41480 [==============================] - 2s 53us/sample - loss: 0.0841 - accuracy: 0.9797 - val_loss: 3.5067 - val_accuracy: 0.6059\n",
      "Epoch 70/100\n",
      "41480/41480 [==============================] - 3s 82us/sample - loss: 0.0902 - accuracy: 0.9785 - val_loss: 3.9782 - val_accuracy: 0.6123\n",
      "Epoch 71/100\n",
      "41480/41480 [==============================] - 3s 68us/sample - loss: 0.0559 - accuracy: 0.9848 - val_loss: 3.5581 - val_accuracy: 0.6314\n",
      "Epoch 72/100\n",
      "41480/41480 [==============================] - 3s 67us/sample - loss: 0.1041 - accuracy: 0.9762 - val_loss: 3.6051 - val_accuracy: 0.6420\n",
      "Epoch 73/100\n",
      "41480/41480 [==============================] - 2s 54us/sample - loss: 0.0632 - accuracy: 0.9839 - val_loss: 3.6055 - val_accuracy: 0.6548\n",
      "Epoch 74/100\n",
      "41480/41480 [==============================] - 2s 54us/sample - loss: 0.0798 - accuracy: 0.9816 - val_loss: 3.9550 - val_accuracy: 0.6028\n",
      "Epoch 75/100\n",
      "41480/41480 [==============================] - 2s 53us/sample - loss: 0.1088 - accuracy: 0.9767 - val_loss: 3.7176 - val_accuracy: 0.6299\n",
      "Epoch 76/100\n",
      "41480/41480 [==============================] - 2s 53us/sample - loss: 0.0458 - accuracy: 0.9878 - val_loss: 4.2170 - val_accuracy: 0.6268\n",
      "Epoch 77/100\n",
      "41480/41480 [==============================] - 3s 71us/sample - loss: 0.0800 - accuracy: 0.9809 - val_loss: 3.6830 - val_accuracy: 0.6866\n",
      "Epoch 78/100\n",
      "41480/41480 [==============================] - 3s 66us/sample - loss: 0.0801 - accuracy: 0.9808 - val_loss: 3.9301 - val_accuracy: 0.6278\n",
      "Epoch 79/100\n",
      "41480/41480 [==============================] - 3s 64us/sample - loss: 0.0744 - accuracy: 0.9830 - val_loss: 4.3008 - val_accuracy: 0.6231\n",
      "Epoch 80/100\n",
      "41480/41480 [==============================] - 3s 60us/sample - loss: 0.0868 - accuracy: 0.9788 - val_loss: 4.1267 - val_accuracy: 0.5960\n",
      "Epoch 81/100\n",
      "41480/41480 [==============================] - 3s 65us/sample - loss: 0.0589 - accuracy: 0.9851 - val_loss: 3.9608 - val_accuracy: 0.6691\n",
      "Epoch 82/100\n",
      "41480/41480 [==============================] - 3s 78us/sample - loss: 0.0572 - accuracy: 0.9865 - val_loss: 3.7609 - val_accuracy: 0.7083\n",
      "Epoch 83/100\n",
      "41480/41480 [==============================] - 3s 83us/sample - loss: 0.0964 - accuracy: 0.9777 - val_loss: 4.2281 - val_accuracy: 0.6331\n",
      "Epoch 84/100\n",
      "41480/41480 [==============================] - 3s 71us/sample - loss: 0.0871 - accuracy: 0.9821 - val_loss: 4.6163 - val_accuracy: 0.6642\n",
      "Epoch 85/100\n",
      "41480/41480 [==============================] - 3s 73us/sample - loss: 0.0848 - accuracy: 0.9813 - val_loss: 3.9507 - val_accuracy: 0.6582\n",
      "Epoch 86/100\n",
      "41480/41480 [==============================] - 2s 53us/sample - loss: 0.0678 - accuracy: 0.9851 - val_loss: 4.0393 - val_accuracy: 0.6304\n",
      "Epoch 87/100\n",
      "41480/41480 [==============================] - 3s 72us/sample - loss: 0.0771 - accuracy: 0.9831 - val_loss: 4.3327 - val_accuracy: 0.6581\n",
      "Epoch 88/100\n",
      "41480/41480 [==============================] - 4s 88us/sample - loss: 0.0695 - accuracy: 0.9845 - val_loss: 4.2529 - val_accuracy: 0.6026\n",
      "Epoch 89/100\n",
      "41480/41480 [==============================] - 3s 60us/sample - loss: 0.0756 - accuracy: 0.9829 - val_loss: 4.4211 - val_accuracy: 0.5952\n",
      "Epoch 90/100\n",
      "41480/41480 [==============================] - 2s 56us/sample - loss: 0.0849 - accuracy: 0.9823 - val_loss: 4.3044 - val_accuracy: 0.6409\n",
      "Epoch 91/100\n",
      "41480/41480 [==============================] - 3s 73us/sample - loss: 0.0654 - accuracy: 0.9847 - val_loss: 4.0230 - val_accuracy: 0.6841\n",
      "Epoch 92/100\n",
      "41480/41480 [==============================] - 3s 75us/sample - loss: 0.0768 - accuracy: 0.9836 - val_loss: 4.4612 - val_accuracy: 0.6425\n",
      "Epoch 93/100\n",
      "41480/41480 [==============================] - 4s 91us/sample - loss: 0.0763 - accuracy: 0.9836 - val_loss: 4.5975 - val_accuracy: 0.6181\n",
      "Epoch 94/100\n",
      "41480/41480 [==============================] - 4s 91us/sample - loss: 0.1235 - accuracy: 0.9766 - val_loss: 4.5304 - val_accuracy: 0.6635\n",
      "Epoch 95/100\n",
      "41480/41480 [==============================] - 4s 96us/sample - loss: 0.0543 - accuracy: 0.9874 - val_loss: 4.4164 - val_accuracy: 0.6300\n",
      "Epoch 96/100\n",
      "41480/41480 [==============================] - 3s 79us/sample - loss: 0.0806 - accuracy: 0.9842 - val_loss: 4.5231 - val_accuracy: 0.6549\n",
      "Epoch 97/100\n",
      "41480/41480 [==============================] - 3s 75us/sample - loss: 0.0580 - accuracy: 0.9873 - val_loss: 4.8235 - val_accuracy: 0.6762\n",
      "Epoch 98/100\n",
      "41480/41480 [==============================] - 3s 84us/sample - loss: 0.0942 - accuracy: 0.9827 - val_loss: 4.1928 - val_accuracy: 0.6076\n",
      "Epoch 99/100\n",
      "41480/41480 [==============================] - 3s 61us/sample - loss: 0.0676 - accuracy: 0.9855 - val_loss: 4.4429 - val_accuracy: 0.6370\n",
      "Epoch 100/100\n",
      "41480/41480 [==============================] - 3s 61us/sample - loss: 0.0739 - accuracy: 0.9845 - val_loss: 4.5064 - val_accuracy: 0.6481\n"
     ]
    },
    {
     "data": {
      "text/plain": [
       "<tensorflow.python.keras.callbacks.History at 0x7fcb34a18b10>"
      ]
     },
     "execution_count": 18,
     "metadata": {},
     "output_type": "execute_result"
    }
   ],
   "source": [
    "mymodel.fit(X_train_pn,y_train_encode,batch_size=64,epochs=100,validation_data=(X_val,y_val_encode))"
   ]
  },
  {
   "cell_type": "code",
   "execution_count": 19,
   "metadata": {},
   "outputs": [
    {
     "data": {
      "text/plain": [
       "[<matplotlib.lines.Line2D at 0x7fcae8f89650>]"
      ]
     },
     "execution_count": 19,
     "metadata": {},
     "output_type": "execute_result"
    },
    {
     "data": {
      "image/png": "[encoded data removed]",
      "text/plain": [
       "<Figure size 504x504 with 1 Axes>"
      ]
     },
     "metadata": {
      "needs_background": "light"
     },
     "output_type": "display_data"
    }
   ],
   "source": [
    "his = mymodel.history.history\n",
    "plt.figure(figsize=(7,7))\n",
    "plt.plot(his['accuracy'])\n",
    "plt.plot(his['val_accuracy'])\n",
    "#plt.savefig('ovf100ep.png')"
   ]
  },
  {
   "cell_type": "code",
   "execution_count": 20,
   "metadata": {},
   "outputs": [
    {
     "data": {
      "text/plain": [
       "[<matplotlib.lines.Line2D at 0x7fcae8f0c4d0>]"
      ]
     },
     "execution_count": 20,
     "metadata": {},
     "output_type": "execute_result"
    },
    {
     "data": {
      "image/png": "[encoded data removed]",
      "text/plain": [
       "<Figure size 504x504 with 1 Axes>"
      ]
     },
     "metadata": {
      "needs_background": "light"
     },
     "output_type": "display_data"
    }
   ],
   "source": [
    "plt.figure(figsize=(7,7))\n",
    "plt.plot(his['loss'])\n",
    "plt.plot(his['val_loss'])"
   ]
  },
  {
   "cell_type": "code",
   "execution_count": 21,
   "metadata": {},
   "outputs": [],
   "source": [
    "#mymodel.save('ovf100ep.h5')"
   ]
  },
  {
   "cell_type": "code",
   "execution_count": 22,
   "metadata": {},
   "outputs": [
    {
     "name": "stdout",
     "output_type": "stream",
     "text": [
      "              precision    recall  f1-score   support\n",
      "\n",
      "           0       0.86      0.60      0.71     32870\n",
      "           1       0.14      0.44      0.21      1293\n",
      "           2       0.35      0.19      0.25      3763\n",
      "           3       0.10      0.66      0.17       406\n",
      "           4       0.09      0.59      0.16       624\n",
      "           5       0.23      0.64      0.33       284\n",
      "           6       0.31      0.45      0.36      1031\n",
      "           7       0.15      0.55      0.24       262\n",
      "           8       0.19      0.44      0.27       766\n",
      "           9       0.23      0.60      0.33       181\n",
      "\n",
      "    accuracy                           0.55     41480\n",
      "   macro avg       0.26      0.52      0.30     41480\n",
      "weighted avg       0.74      0.55      0.62     41480\n",
      "\n"
     ]
    }
   ],
   "source": [
    "print(classification_report(y_train,np.argmax(mymodel.predict(X_train),axis=1)))"
   ]
  },
  {
   "cell_type": "code",
   "execution_count": 23,
   "metadata": {},
   "outputs": [
    {
     "name": "stdout",
     "output_type": "stream",
     "text": [
      "              precision    recall  f1-score   support\n",
      "\n",
      "           0       0.79      0.57      0.66     32919\n",
      "           1       0.04      0.13      0.06      1311\n",
      "           2       0.14      0.07      0.09      3707\n",
      "           3       0.02      0.12      0.03       414\n",
      "           4       0.02      0.16      0.04       592\n",
      "           5       0.02      0.06      0.03       281\n",
      "           6       0.12      0.15      0.13      1057\n",
      "           7       0.03      0.11      0.05       247\n",
      "           8       0.04      0.08      0.05       740\n",
      "           9       0.01      0.02      0.01       212\n",
      "\n",
      "    accuracy                           0.47     41480\n",
      "   macro avg       0.12      0.15      0.12     41480\n",
      "weighted avg       0.65      0.47      0.54     41480\n",
      "\n"
     ]
    }
   ],
   "source": [
    "print(classification_report(y_val,np.argmax(mymodel.predict(X_val),axis=1)))"
   ]
  },
  {
   "cell_type": "code",
   "execution_count": 24,
   "metadata": {},
   "outputs": [
    {
     "name": "stdout",
     "output_type": "stream",
     "text": [
      "              precision    recall  f1-score   support\n",
      "\n",
      "           0       0.79      0.57      0.66     98835\n",
      "           1       0.04      0.12      0.06      4027\n",
      "           2       0.13      0.06      0.09     11179\n",
      "           3       0.02      0.14      0.04      1279\n",
      "           4       0.02      0.15      0.04      1848\n",
      "           5       0.03      0.08      0.04       780\n",
      "           6       0.10      0.14      0.12      2941\n",
      "           7       0.04      0.13      0.06       821\n",
      "           8       0.03      0.06      0.04      2176\n",
      "           9       0.01      0.03      0.02       554\n",
      "\n",
      "    accuracy                           0.47    124440\n",
      "   macro avg       0.12      0.15      0.12    124440\n",
      "weighted avg       0.65      0.47      0.54    124440\n",
      "\n"
     ]
    }
   ],
   "source": [
    "print(classification_report(y_test,np.argmax(mymodel.predict(X_test),axis=1)))"
   ]
  },
  {
   "cell_type": "code",
   "execution_count": 33,
   "metadata": {},
   "outputs": [],
   "source": [
    "pn_tr2 = fgsm.create_adversarial_pattern(tf.convert_to_tensor(X_train),tf.convert_to_tensor(y_train_encode),fitModel)"
   ]
  },
  {
   "cell_type": "code",
   "execution_count": 34,
   "metadata": {},
   "outputs": [
    {
     "data": {
      "text/plain": [
       "TensorShape([41480, 8, 8, 10])"
      ]
     },
     "execution_count": 34,
     "metadata": {},
     "output_type": "execute_result"
    }
   ],
   "source": [
    "pn_tr2.shape"
   ]
  },
  {
   "cell_type": "code",
   "execution_count": 53,
   "metadata": {},
   "outputs": [
    {
     "name": "stderr",
     "output_type": "stream",
     "text": [
      "Clipping input data to the valid range for imshow with RGB data ([0..1] for floats or [0..255] for integers).\n",
      "Clipping input data to the valid range for imshow with RGB data ([0..1] for floats or [0..255] for integers).\n",
      "Clipping input data to the valid range for imshow with RGB data ([0..1] for floats or [0..255] for integers).\n"
     ]
    },
    {
     "data": {
      "text/plain": [
       "<matplotlib.image.AxesImage at 0x7feaa43dcf50>"
      ]
     },
     "execution_count": 53,
     "metadata": {},
     "output_type": "execute_result"
    },
    {
     "data": {
      "image/png": "[encoded data removed]",
      "text/plain": [
       "<Figure size 1440x1440 with 3 Axes>"
      ]
     },
     "metadata": {
      "needs_background": "light"
     },
     "output_type": "display_data"
    }
   ],
   "source": [
    "fig, (ax1, ax2,ax3) = plt.subplots(1, 3,)\n",
    "fig.set_figheight(20)\n",
    "fig.set_figwidth(20)\n",
    "ax1.imshow(X_train[212,:,:,:3])\n",
    "ax2.imshow(pn_tr2[212,:,:,:3])\n",
    "ax3.imshow(X_train[212,:,:,:3]+0.5*pn_tr2[212,:,:,:3])"
   ]
  },
  {
   "cell_type": "code",
   "execution_count": 36,
   "metadata": {},
   "outputs": [
    {
     "data": {
      "text/plain": [
       "TensorShape([41480, 8, 8, 10])"
      ]
     },
     "execution_count": 36,
     "metadata": {},
     "output_type": "execute_result"
    }
   ],
   "source": [
    "pn_tr2.shape"
   ]
  },
  {
   "cell_type": "code",
   "execution_count": 48,
   "metadata": {},
   "outputs": [],
   "source": [
    "xatk = X_train+0.5*pn_tr2"
   ]
  },
  {
   "cell_type": "code",
   "execution_count": 49,
   "metadata": {},
   "outputs": [
    {
     "data": {
      "text/plain": [
       "[0.08780175065296814, 0.9947445]"
      ]
     },
     "execution_count": 49,
     "metadata": {},
     "output_type": "execute_result"
    }
   ],
   "source": [
    "mymodel.evaluate(xatk,y_train_encode,verbose=0)"
   ]
  },
  {
   "cell_type": "code",
   "execution_count": 50,
   "metadata": {},
   "outputs": [
    {
     "data": {
      "text/plain": [
       "[0.1872070882941981, 0.9518563]"
      ]
     },
     "execution_count": 50,
     "metadata": {},
     "output_type": "execute_result"
    }
   ],
   "source": [
    "mymodel.evaluate(X_train,y_train_encode,verbose=0)"
   ]
  },
  {
   "cell_type": "code",
   "execution_count": 51,
   "metadata": {},
   "outputs": [
    {
     "name": "stdout",
     "output_type": "stream",
     "text": [
      "              precision    recall  f1-score   support\n",
      "\n",
      "           0       1.00      1.00      1.00     32913\n",
      "           1       0.99      0.97      0.98      1350\n",
      "           2       1.00      0.99      1.00      3708\n",
      "           3       0.98      0.96      0.97       451\n",
      "           4       0.99      0.93      0.96       603\n",
      "           5       1.00      0.99      0.99       261\n",
      "           6       0.98      0.98      0.98       970\n",
      "           7       0.96      0.99      0.97       263\n",
      "           8       0.98      0.98      0.98       778\n",
      "           9       1.00      0.91      0.95       183\n",
      "\n",
      "    accuracy                           0.99     41480\n",
      "   macro avg       0.99      0.97      0.98     41480\n",
      "weighted avg       0.99      0.99      0.99     41480\n",
      "\n"
     ]
    }
   ],
   "source": [
    "print(classification_report(y_train,np.argmax(mymodel.predict(xatk),axis=1)))"
   ]
  },
  {
   "cell_type": "code",
   "execution_count": 52,
   "metadata": {},
   "outputs": [
    {
     "name": "stdout",
     "output_type": "stream",
     "text": [
      "              precision    recall  f1-score   support\n",
      "\n",
      "           0       0.98      0.97      0.97     32913\n",
      "           1       0.89      0.81      0.85      1350\n",
      "           2       0.83      0.93      0.87      3708\n",
      "           3       0.94      0.87      0.91       451\n",
      "           4       0.98      0.77      0.86       603\n",
      "           5       0.96      0.98      0.97       261\n",
      "           6       0.90      0.94      0.92       970\n",
      "           7       0.82      0.98      0.89       263\n",
      "           8       0.80      0.88      0.84       778\n",
      "           9       0.99      0.81      0.89       183\n",
      "\n",
      "    accuracy                           0.95     41480\n",
      "   macro avg       0.91      0.89      0.90     41480\n",
      "weighted avg       0.95      0.95      0.95     41480\n",
      "\n"
     ]
    }
   ],
   "source": [
    "print(classification_report(y_train,np.argmax(mymodel.predict(X_train),axis=1)))"
   ]
  },
  {
   "cell_type": "code",
   "execution_count": null,
   "metadata": {},
   "outputs": [],
   "source": []
  }
 ],
 "metadata": {
  "kernelspec": {
   "display_name": "Python 3",
   "language": "python",
   "name": "python3"
  },
  "language_info": {
   "codemirror_mode": {
    "name": "ipython",
    "version": 3
   },
   "file_extension": ".py",
   "mimetype": "text/x-python",
   "name": "python",
   "nbconvert_exporter": "python",
   "pygments_lexer": "ipython3",
   "version": "3.7.5"
  }
 },
 "nbformat": 4,
 "nbformat_minor": 2
}
