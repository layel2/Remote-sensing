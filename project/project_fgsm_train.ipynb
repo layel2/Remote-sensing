{
 "cells": [
  {
   "cell_type": "code",
   "execution_count": 1,
   "metadata": {},
   "outputs": [],
   "source": [
    "import numpy as np\n",
    "from matplotlib import pyplot as plt\n",
    "import scipy.io\n",
    "import pandas as pd\n",
    "import tensorflow as tf\n",
    "from tensorflow import keras\n",
    "from sklearn.decomposition import PCA\n",
    "from sklearn.metrics import classification_report\n",
    "from sklearn.preprocessing import MinMaxScaler\n",
    "import fgsm"
   ]
  },
  {
   "cell_type": "code",
   "execution_count": 2,
   "metadata": {},
   "outputs": [],
   "source": [
    "paviaU = scipy.io.loadmat('./PaviaU.mat')['paviaU']\n",
    "paviaU_gt = scipy.io.loadmat('./PaviaU_gt.mat')['paviaU_gt']"
   ]
  },
  {
   "cell_type": "code",
   "execution_count": 3,
   "metadata": {},
   "outputs": [],
   "source": [
    "Nmax = paviaU.max()\n",
    "paviaU = (paviaU/Nmax).astype(np.float32)"
   ]
  },
  {
   "cell_type": "code",
   "execution_count": 4,
   "metadata": {},
   "outputs": [],
   "source": [
    "paviaU = paviaU.reshape(610*340, 103)"
   ]
  },
  {
   "cell_type": "code",
   "execution_count": 5,
   "metadata": {},
   "outputs": [],
   "source": [
    "pca = PCA(10)\n",
    "paviaU_PCA = pca.fit_transform(paviaU)"
   ]
  },
  {
   "cell_type": "code",
   "execution_count": 6,
   "metadata": {},
   "outputs": [],
   "source": [
    "#mms = MinMaxScaler()\n",
    "#paviaU_PCA = mms.fit_transform(paviaU_PCA)"
   ]
  },
  {
   "cell_type": "code",
   "execution_count": 7,
   "metadata": {},
   "outputs": [],
   "source": [
    "def getiim(size,band):\n",
    "    hf = int(size/2)\n",
    "    aa = np.zeros(((610*340),size,size,band))\n",
    "    a = np.zeros((610+size, 340+size, band))\n",
    "    a[hf:-hf,hf:-hf,:] = paviaU_PCA.reshape((610,340,band))\n",
    "    count = 0\n",
    "    output = []\n",
    "    for i in range(size,610-1):\n",
    "        for j in range(size,340-1):\n",
    "            #print(i,j)\n",
    "            aa[count] = a[i-hf:i+hf,j-hf:j+hf,:]\n",
    "            #print(count)\n",
    "            count = count+1\n",
    "    return aa"
   ]
  },
  {
   "cell_type": "code",
   "execution_count": 8,
   "metadata": {},
   "outputs": [],
   "source": [
    "data_im = getiim(8,10)"
   ]
  },
  {
   "cell_type": "code",
   "execution_count": 9,
   "metadata": {},
   "outputs": [
    {
     "data": {
      "text/plain": [
       "(207400, 8, 8, 10)"
      ]
     },
     "execution_count": 9,
     "metadata": {},
     "output_type": "execute_result"
    }
   ],
   "source": [
    "data_im.shape"
   ]
  },
  {
   "cell_type": "code",
   "execution_count": 10,
   "metadata": {},
   "outputs": [],
   "source": [
    "X = data_im\n",
    "y = paviaU_gt.reshape(207400)\n",
    "idx = np.random.permutation(len(X))\n",
    "X = X[idx]\n",
    "y = y[idx]\n",
    "nsplit = int(0.2*len(paviaU_PCA))\n",
    "X_train = X[:nsplit]\n",
    "y_train = y[:nsplit]\n",
    "X_val = X[nsplit:nsplit*2]\n",
    "y_val = y[nsplit:nsplit*2]\n",
    "X_test = X[nsplit*2:]\n",
    "y_test = y[nsplit*2:]\n",
    "X,y = None,None\n",
    "data_im=None"
   ]
  },
  {
   "cell_type": "code",
   "execution_count": 11,
   "metadata": {},
   "outputs": [],
   "source": [
    "y_train_encode = keras.utils.to_categorical(y_train)\n",
    "y_val_encode = keras.utils.to_categorical(y_val)\n",
    "y_test_encode = keras.utils.to_categorical(y_test)\n"
   ]
  },
  {
   "cell_type": "code",
   "execution_count": 12,
   "metadata": {},
   "outputs": [
    {
     "name": "stdout",
     "output_type": "stream",
     "text": [
      "Model: \"model\"\n",
      "_________________________________________________________________\n",
      "Layer (type)                 Output Shape              Param #   \n",
      "=================================================================\n",
      "input_6 (InputLayer)         [(None, 8, 8, 10)]        0         \n",
      "_________________________________________________________________\n",
      "flatten_5 (Flatten)          (None, 640)               0         \n",
      "_________________________________________________________________\n",
      "dense_20 (Dense)             (None, 2048)              1312768   \n",
      "_________________________________________________________________\n",
      "leaky_re_lu_6 (LeakyReLU)    (None, 2048)              0         \n",
      "_________________________________________________________________\n",
      "dense_21 (Dense)             (None, 512)               1049088   \n",
      "_________________________________________________________________\n",
      "leaky_re_lu_7 (LeakyReLU)    (None, 512)               0         \n",
      "_________________________________________________________________\n",
      "dense_22 (Dense)             (None, 512)               262656    \n",
      "_________________________________________________________________\n",
      "leaky_re_lu_8 (LeakyReLU)    (None, 512)               0         \n",
      "_________________________________________________________________\n",
      "dense_23 (Dense)             (None, 10)                5130      \n",
      "=================================================================\n",
      "Total params: 2,629,642\n",
      "Trainable params: 2,629,642\n",
      "Non-trainable params: 0\n",
      "_________________________________________________________________\n"
     ]
    }
   ],
   "source": [
    "fitModel = keras.models.load_model('./ovf100ep.h5')\n",
    "fitModel.summary()"
   ]
  },
  {
   "cell_type": "code",
   "execution_count": 13,
   "metadata": {},
   "outputs": [],
   "source": [
    "pn_tr = fgsm.create_adversarial_pattern(tf.convert_to_tensor(X_train),y_train_encode,models=fitModel)"
   ]
  },
  {
   "cell_type": "code",
   "execution_count": 16,
   "metadata": {},
   "outputs": [],
   "source": [
    "X_train_pn = X_train+0.1*pn_tr\n",
    "y_train_pn = y_train\n",
    "X_train2 = np.concatenate((X_train,X_train_pn))\n",
    "y_train2 = np.concatenate((y_train,y_train_pn))\n",
    "idx = np.random.permutation(len(X_train2))\n",
    "X_train2 = X_train2[idx]\n",
    "y_train2 = y_train2[idx]\n",
    "X_train2 = X_train2[idx]\n",
    "y_train2 = y_train2[idx]\n",
    "y_train2_encode = keras.utils.to_categorical(y_train2)"
   ]
  },
  {
   "cell_type": "code",
   "execution_count": 17,
   "metadata": {},
   "outputs": [
    {
     "data": {
      "text/plain": [
       "(82960, 8, 8, 10)"
      ]
     },
     "execution_count": 17,
     "metadata": {},
     "output_type": "execute_result"
    }
   ],
   "source": [
    "X_train2.shape"
   ]
  },
  {
   "cell_type": "code",
   "execution_count": 18,
   "metadata": {},
   "outputs": [],
   "source": [
    "def nnmodel(input_shape):\n",
    "    X_input = keras.layers.Input((input_shape))\n",
    "    X = keras.layers.Flatten()(X_input)\n",
    "    X = keras.layers.Dense(2048)(X)\n",
    "    X = keras.layers.LeakyReLU(alpha=0.2)(X)\n",
    "    X = keras.layers.Dense(512)(X)\n",
    "    X = keras.layers.LeakyReLU(alpha=0.2)(X)\n",
    "    X = keras.layers.Dense(512)(X)\n",
    "    X = keras.layers.LeakyReLU(alpha=0.2)(X)\n",
    "    X = keras.layers.Dense(10,activation='softmax')(X)\n",
    "    model = keras.models.Model(inputs=X_input, outputs=X, name='model')\n",
    "    return model"
   ]
  },
  {
   "cell_type": "code",
   "execution_count": 19,
   "metadata": {},
   "outputs": [
    {
     "name": "stdout",
     "output_type": "stream",
     "text": [
      "Model: \"model\"\n",
      "_________________________________________________________________\n",
      "Layer (type)                 Output Shape              Param #   \n",
      "=================================================================\n",
      "input_1 (InputLayer)         [(None, 8, 8, 10)]        0         \n",
      "_________________________________________________________________\n",
      "flatten (Flatten)            (None, 640)               0         \n",
      "_________________________________________________________________\n",
      "dense (Dense)                (None, 2048)              1312768   \n",
      "_________________________________________________________________\n",
      "leaky_re_lu (LeakyReLU)      (None, 2048)              0         \n",
      "_________________________________________________________________\n",
      "dense_1 (Dense)              (None, 512)               1049088   \n",
      "_________________________________________________________________\n",
      "leaky_re_lu_1 (LeakyReLU)    (None, 512)               0         \n",
      "_________________________________________________________________\n",
      "dense_2 (Dense)              (None, 512)               262656    \n",
      "_________________________________________________________________\n",
      "leaky_re_lu_2 (LeakyReLU)    (None, 512)               0         \n",
      "_________________________________________________________________\n",
      "dense_3 (Dense)              (None, 10)                5130      \n",
      "=================================================================\n",
      "Total params: 2,629,642\n",
      "Trainable params: 2,629,642\n",
      "Non-trainable params: 0\n",
      "_________________________________________________________________\n"
     ]
    }
   ],
   "source": [
    "mymodel = nnmodel(X_train[0].shape)\n",
    "mymodel.compile(optimizer=\"adam\", loss=\"categorical_crossentropy\", metrics=['accuracy'])\n",
    "mymodel.summary()"
   ]
  },
  {
   "cell_type": "code",
   "execution_count": 20,
   "metadata": {},
   "outputs": [
    {
     "name": "stdout",
     "output_type": "stream",
     "text": [
      "Train on 82960 samples, validate on 41480 samples\n",
      "Epoch 1/100\n",
      "82960/82960 [==============================] - 4s 47us/sample - loss: 0.6236 - accuracy: 0.8575 - val_loss: 0.8474 - val_accuracy: 0.8078\n",
      "Epoch 2/100\n",
      "82960/82960 [==============================] - 3s 42us/sample - loss: 0.5665 - accuracy: 0.8660 - val_loss: 0.8234 - val_accuracy: 0.8077\n",
      "Epoch 3/100\n",
      "82960/82960 [==============================] - 3s 42us/sample - loss: 0.5486 - accuracy: 0.8666 - val_loss: 0.8215 - val_accuracy: 0.8052\n",
      "Epoch 4/100\n",
      "82960/82960 [==============================] - 3s 42us/sample - loss: 0.5284 - accuracy: 0.8677 - val_loss: 0.8328 - val_accuracy: 0.8053\n",
      "Epoch 5/100\n",
      "82960/82960 [==============================] - 3s 42us/sample - loss: 0.5093 - accuracy: 0.8681 - val_loss: 0.8287 - val_accuracy: 0.7912\n",
      "Epoch 6/100\n",
      "82960/82960 [==============================] - 3s 42us/sample - loss: 0.4852 - accuracy: 0.8698 - val_loss: 0.8294 - val_accuracy: 0.8062\n",
      "Epoch 7/100\n",
      "82960/82960 [==============================] - 3s 42us/sample - loss: 0.4548 - accuracy: 0.8735 - val_loss: 0.8483 - val_accuracy: 0.8027\n",
      "Epoch 8/100\n",
      "82960/82960 [==============================] - 3s 42us/sample - loss: 0.4314 - accuracy: 0.8760 - val_loss: 0.8786 - val_accuracy: 0.8024\n",
      "Epoch 9/100\n",
      "82960/82960 [==============================] - 4s 47us/sample - loss: 0.4018 - accuracy: 0.8806 - val_loss: 0.8836 - val_accuracy: 0.7970\n",
      "Epoch 10/100\n",
      "82960/82960 [==============================] - 5s 61us/sample - loss: 0.3771 - accuracy: 0.8861 - val_loss: 0.9447 - val_accuracy: 0.7795\n",
      "Epoch 11/100\n",
      "82960/82960 [==============================] - 5s 66us/sample - loss: 0.3499 - accuracy: 0.8910 - val_loss: 0.9630 - val_accuracy: 0.7929\n",
      "Epoch 12/100\n",
      "82960/82960 [==============================] - 5s 59us/sample - loss: 0.3295 - accuracy: 0.8963 - val_loss: 1.0091 - val_accuracy: 0.7818\n",
      "Epoch 13/100\n",
      "82960/82960 [==============================] - 5s 59us/sample - loss: 0.3094 - accuracy: 0.9018 - val_loss: 1.0335 - val_accuracy: 0.7795\n",
      "Epoch 14/100\n",
      "82960/82960 [==============================] - 5s 59us/sample - loss: 0.2873 - accuracy: 0.9063 - val_loss: 1.1573 - val_accuracy: 0.7643\n",
      "Epoch 15/100\n",
      "82960/82960 [==============================] - 4s 53us/sample - loss: 0.2788 - accuracy: 0.9094 - val_loss: 1.1394 - val_accuracy: 0.7804\n",
      "Epoch 16/100\n",
      "82960/82960 [==============================] - 5s 62us/sample - loss: 0.2555 - accuracy: 0.9155 - val_loss: 1.1756 - val_accuracy: 0.7715\n",
      "Epoch 17/100\n",
      "82960/82960 [==============================] - 4s 46us/sample - loss: 0.2506 - accuracy: 0.9187 - val_loss: 1.2675 - val_accuracy: 0.7911\n",
      "Epoch 18/100\n",
      "82960/82960 [==============================] - 4s 46us/sample - loss: 0.2408 - accuracy: 0.9207 - val_loss: 1.2653 - val_accuracy: 0.7824\n",
      "Epoch 19/100\n",
      "82960/82960 [==============================] - 4s 46us/sample - loss: 0.2293 - accuracy: 0.9237 - val_loss: 1.3775 - val_accuracy: 0.7547\n",
      "Epoch 20/100\n",
      "82960/82960 [==============================] - 4s 46us/sample - loss: 0.2154 - accuracy: 0.9280 - val_loss: 1.4190 - val_accuracy: 0.7686\n",
      "Epoch 21/100\n",
      "82960/82960 [==============================] - 4s 46us/sample - loss: 0.2159 - accuracy: 0.9282 - val_loss: 1.4820 - val_accuracy: 0.7593\n",
      "Epoch 22/100\n",
      "82960/82960 [==============================] - 5s 59us/sample - loss: 0.1976 - accuracy: 0.9335 - val_loss: 1.4283 - val_accuracy: 0.7607\n",
      "Epoch 23/100\n",
      "82960/82960 [==============================] - 6s 70us/sample - loss: 0.2016 - accuracy: 0.9341 - val_loss: 1.5410 - val_accuracy: 0.7461\n",
      "Epoch 24/100\n",
      "82960/82960 [==============================] - 5s 66us/sample - loss: 0.1874 - accuracy: 0.9371 - val_loss: 1.5544 - val_accuracy: 0.7341\n",
      "Epoch 25/100\n",
      "82960/82960 [==============================] - 4s 49us/sample - loss: 0.1894 - accuracy: 0.9373 - val_loss: 1.5548 - val_accuracy: 0.7619\n",
      "Epoch 26/100\n",
      "82960/82960 [==============================] - 4s 43us/sample - loss: 0.1824 - accuracy: 0.9389 - val_loss: 1.6817 - val_accuracy: 0.7600\n",
      "Epoch 27/100\n",
      "82960/82960 [==============================] - 4s 51us/sample - loss: 0.1800 - accuracy: 0.9407 - val_loss: 1.7212 - val_accuracy: 0.7835\n",
      "Epoch 28/100\n",
      "82960/82960 [==============================] - 4s 44us/sample - loss: 0.1674 - accuracy: 0.9437 - val_loss: 1.7268 - val_accuracy: 0.7550\n",
      "Epoch 29/100\n",
      "82960/82960 [==============================] - 5s 63us/sample - loss: 0.1690 - accuracy: 0.9432 - val_loss: 1.7771 - val_accuracy: 0.7514\n",
      "Epoch 30/100\n",
      "82960/82960 [==============================] - 4s 48us/sample - loss: 0.1674 - accuracy: 0.9445 - val_loss: 1.7844 - val_accuracy: 0.7575\n",
      "Epoch 31/100\n",
      "82960/82960 [==============================] - 4s 50us/sample - loss: 0.1595 - accuracy: 0.9469 - val_loss: 1.8312 - val_accuracy: 0.7715\n",
      "Epoch 32/100\n",
      "82960/82960 [==============================] - 5s 60us/sample - loss: 0.1598 - accuracy: 0.9473 - val_loss: 1.8099 - val_accuracy: 0.7417\n",
      "Epoch 33/100\n",
      "82960/82960 [==============================] - 6s 75us/sample - loss: 0.1608 - accuracy: 0.9480 - val_loss: 1.9933 - val_accuracy: 0.7658\n",
      "Epoch 34/100\n",
      "82960/82960 [==============================] - 4s 53us/sample - loss: 0.1473 - accuracy: 0.9519 - val_loss: 1.8961 - val_accuracy: 0.7756\n",
      "Epoch 35/100\n",
      "82960/82960 [==============================] - 4s 43us/sample - loss: 0.1483 - accuracy: 0.9510 - val_loss: 2.0767 - val_accuracy: 0.7484\n",
      "Epoch 36/100\n",
      "82960/82960 [==============================] - 3s 42us/sample - loss: 0.1620 - accuracy: 0.9488 - val_loss: 2.0560 - val_accuracy: 0.7612\n",
      "Epoch 37/100\n",
      "82960/82960 [==============================] - 3s 42us/sample - loss: 0.1354 - accuracy: 0.9555 - val_loss: 2.1625 - val_accuracy: 0.7548\n",
      "Epoch 38/100\n",
      "82960/82960 [==============================] - 3s 42us/sample - loss: 0.1591 - accuracy: 0.9496 - val_loss: 2.0548 - val_accuracy: 0.7667\n",
      "Epoch 39/100\n",
      "82960/82960 [==============================] - 3s 42us/sample - loss: 0.1388 - accuracy: 0.9549 - val_loss: 2.0346 - val_accuracy: 0.7412\n",
      "Epoch 40/100\n",
      "82960/82960 [==============================] - 4s 48us/sample - loss: 0.1342 - accuracy: 0.9558 - val_loss: 2.2569 - val_accuracy: 0.7751\n",
      "Epoch 41/100\n",
      "82960/82960 [==============================] - 5s 60us/sample - loss: 0.1486 - accuracy: 0.9530 - val_loss: 2.1482 - val_accuracy: 0.7527\n",
      "Epoch 42/100\n",
      "82960/82960 [==============================] - 5s 59us/sample - loss: 0.1327 - accuracy: 0.9567 - val_loss: 2.1804 - val_accuracy: 0.7673\n",
      "Epoch 43/100\n",
      "82960/82960 [==============================] - 4s 52us/sample - loss: 0.1309 - accuracy: 0.9581 - val_loss: 2.3834 - val_accuracy: 0.7822\n",
      "Epoch 44/100\n",
      "82960/82960 [==============================] - 4s 49us/sample - loss: 0.1377 - accuracy: 0.9558 - val_loss: 2.5687 - val_accuracy: 0.7833\n",
      "Epoch 45/100\n",
      "82960/82960 [==============================] - 4s 45us/sample - loss: 0.1396 - accuracy: 0.9557 - val_loss: 2.3114 - val_accuracy: 0.7789\n",
      "Epoch 46/100\n",
      "82960/82960 [==============================] - 4s 45us/sample - loss: 0.1228 - accuracy: 0.9602 - val_loss: 2.4368 - val_accuracy: 0.7602\n",
      "Epoch 47/100\n",
      "82960/82960 [==============================] - 5s 59us/sample - loss: 0.1298 - accuracy: 0.9584 - val_loss: 2.8335 - val_accuracy: 0.7646\n",
      "Epoch 48/100\n",
      "82960/82960 [==============================] - 4s 45us/sample - loss: 0.1413 - accuracy: 0.9571 - val_loss: 2.3503 - val_accuracy: 0.7723\n",
      "Epoch 49/100\n",
      "82960/82960 [==============================] - 4s 44us/sample - loss: 0.1246 - accuracy: 0.9614 - val_loss: 2.4473 - val_accuracy: 0.7770\n",
      "Epoch 50/100\n",
      "82960/82960 [==============================] - 4s 43us/sample - loss: 0.1234 - accuracy: 0.9605 - val_loss: 2.5410 - val_accuracy: 0.7609\n",
      "Epoch 51/100\n",
      "82960/82960 [==============================] - 4s 42us/sample - loss: 0.1347 - accuracy: 0.9603 - val_loss: 2.5175 - val_accuracy: 0.7682\n",
      "Epoch 52/100\n",
      "82960/82960 [==============================] - 3s 42us/sample - loss: 0.1290 - accuracy: 0.9604 - val_loss: 2.5500 - val_accuracy: 0.7662\n",
      "Epoch 53/100\n",
      "82960/82960 [==============================] - 3s 42us/sample - loss: 0.1178 - accuracy: 0.9630 - val_loss: 2.5961 - val_accuracy: 0.7629\n",
      "Epoch 54/100\n",
      "82960/82960 [==============================] - 3s 42us/sample - loss: 0.1197 - accuracy: 0.9629 - val_loss: 2.7390 - val_accuracy: 0.7151\n"
     ]
    },
    {
     "name": "stdout",
     "output_type": "stream",
     "text": [
      "Epoch 55/100\n",
      "82960/82960 [==============================] - 5s 60us/sample - loss: 0.1260 - accuracy: 0.9609 - val_loss: 2.7777 - val_accuracy: 0.7677\n",
      "Epoch 56/100\n",
      "82960/82960 [==============================] - 4s 42us/sample - loss: 0.1123 - accuracy: 0.9642 - val_loss: 2.7921 - val_accuracy: 0.7419\n",
      "Epoch 57/100\n",
      "82960/82960 [==============================] - 5s 61us/sample - loss: 0.1411 - accuracy: 0.9583 - val_loss: 2.9924 - val_accuracy: 0.7426\n",
      "Epoch 58/100\n",
      "82960/82960 [==============================] - 5s 61us/sample - loss: 0.1139 - accuracy: 0.9649 - val_loss: 2.8132 - val_accuracy: 0.7718\n",
      "Epoch 59/100\n",
      "82960/82960 [==============================] - 4s 47us/sample - loss: 0.1230 - accuracy: 0.9635 - val_loss: 2.9119 - val_accuracy: 0.7469\n",
      "Epoch 60/100\n",
      "82960/82960 [==============================] - 4s 47us/sample - loss: 0.1200 - accuracy: 0.9645 - val_loss: 3.0984 - val_accuracy: 0.7278\n",
      "Epoch 61/100\n",
      "82960/82960 [==============================] - 6s 77us/sample - loss: 0.1225 - accuracy: 0.9637 - val_loss: 2.9896 - val_accuracy: 0.7581\n",
      "Epoch 62/100\n",
      "82960/82960 [==============================] - 5s 61us/sample - loss: 0.1188 - accuracy: 0.9651 - val_loss: 3.2730 - val_accuracy: 0.7519\n",
      "Epoch 63/100\n",
      "82960/82960 [==============================] - 4s 52us/sample - loss: 0.1307 - accuracy: 0.9630 - val_loss: 2.8804 - val_accuracy: 0.7546\n",
      "Epoch 64/100\n",
      "82960/82960 [==============================] - 4s 52us/sample - loss: 0.1333 - accuracy: 0.9627 - val_loss: 2.9188 - val_accuracy: 0.7569\n",
      "Epoch 65/100\n",
      "82960/82960 [==============================] - 4s 54us/sample - loss: 0.1110 - accuracy: 0.9669 - val_loss: 3.1538 - val_accuracy: 0.7794\n",
      "Epoch 66/100\n",
      "82960/82960 [==============================] - 4s 49us/sample - loss: 0.1192 - accuracy: 0.9654 - val_loss: 3.1743 - val_accuracy: 0.7623\n",
      "Epoch 67/100\n",
      "82960/82960 [==============================] - 4s 52us/sample - loss: 0.1085 - accuracy: 0.9679 - val_loss: 3.1814 - val_accuracy: 0.7665\n",
      "Epoch 68/100\n",
      "82960/82960 [==============================] - 4s 46us/sample - loss: 0.1306 - accuracy: 0.9644 - val_loss: 2.8911 - val_accuracy: 0.7073\n",
      "Epoch 69/100\n",
      "82960/82960 [==============================] - 4s 46us/sample - loss: 0.1072 - accuracy: 0.9677 - val_loss: 3.1828 - val_accuracy: 0.7521\n",
      "Epoch 70/100\n",
      "82960/82960 [==============================] - 4s 46us/sample - loss: 0.1209 - accuracy: 0.9663 - val_loss: 3.1221 - val_accuracy: 0.7372\n",
      "Epoch 71/100\n",
      "82960/82960 [==============================] - 4s 46us/sample - loss: 0.1068 - accuracy: 0.9690 - val_loss: 3.2867 - val_accuracy: 0.7604\n",
      "Epoch 72/100\n",
      "82960/82960 [==============================] - 4s 46us/sample - loss: 0.1197 - accuracy: 0.9653 - val_loss: 3.1470 - val_accuracy: 0.7422\n",
      "Epoch 73/100\n",
      "82960/82960 [==============================] - 4s 46us/sample - loss: 0.1241 - accuracy: 0.9657 - val_loss: 3.3478 - val_accuracy: 0.7770\n",
      "Epoch 74/100\n",
      "82960/82960 [==============================] - 4s 46us/sample - loss: 0.1047 - accuracy: 0.9696 - val_loss: 3.5032 - val_accuracy: 0.7392\n",
      "Epoch 75/100\n",
      "82960/82960 [==============================] - 4s 45us/sample - loss: 0.1411 - accuracy: 0.9640 - val_loss: 3.6760 - val_accuracy: 0.7762\n",
      "Epoch 76/100\n",
      "82960/82960 [==============================] - 4s 46us/sample - loss: 0.1068 - accuracy: 0.9697 - val_loss: 3.5890 - val_accuracy: 0.7432\n",
      "Epoch 77/100\n",
      "82960/82960 [==============================] - 4s 45us/sample - loss: 0.1105 - accuracy: 0.9687 - val_loss: 3.2204 - val_accuracy: 0.7367\n",
      "Epoch 78/100\n",
      "82960/82960 [==============================] - 4s 42us/sample - loss: 0.1257 - accuracy: 0.9663 - val_loss: 3.4183 - val_accuracy: 0.7563\n",
      "Epoch 79/100\n",
      "82960/82960 [==============================] - 4s 46us/sample - loss: 0.1106 - accuracy: 0.9679 - val_loss: 3.4946 - val_accuracy: 0.7676\n",
      "Epoch 80/100\n",
      "82960/82960 [==============================] - 4s 45us/sample - loss: 0.1175 - accuracy: 0.9681 - val_loss: 3.9617 - val_accuracy: 0.7140\n",
      "Epoch 81/100\n",
      "82960/82960 [==============================] - 4s 45us/sample - loss: 0.1216 - accuracy: 0.9682 - val_loss: 3.4705 - val_accuracy: 0.7682\n",
      "Epoch 82/100\n",
      "82960/82960 [==============================] - 4s 45us/sample - loss: 0.1122 - accuracy: 0.9692 - val_loss: 3.8244 - val_accuracy: 0.7617\n",
      "Epoch 83/100\n",
      "82960/82960 [==============================] - 5s 64us/sample - loss: 0.1163 - accuracy: 0.9689 - val_loss: 3.6800 - val_accuracy: 0.7606\n",
      "Epoch 84/100\n",
      "82960/82960 [==============================] - 5s 61us/sample - loss: 0.1160 - accuracy: 0.9674 - val_loss: 3.8753 - val_accuracy: 0.7534\n",
      "Epoch 85/100\n",
      "82960/82960 [==============================] - 4s 51us/sample - loss: 0.1025 - accuracy: 0.9702 - val_loss: 3.8409 - val_accuracy: 0.7377\n",
      "Epoch 86/100\n",
      "82960/82960 [==============================] - 5s 63us/sample - loss: 0.1217 - accuracy: 0.9674 - val_loss: 3.9040 - val_accuracy: 0.7643\n",
      "Epoch 87/100\n",
      "82960/82960 [==============================] - 4s 48us/sample - loss: 0.1137 - accuracy: 0.9706 - val_loss: 4.1734 - val_accuracy: 0.7532\n",
      "Epoch 88/100\n",
      "82960/82960 [==============================] - 5s 55us/sample - loss: 0.1193 - accuracy: 0.9685 - val_loss: 4.2150 - val_accuracy: 0.7359\n",
      "Epoch 89/100\n",
      "82960/82960 [==============================] - 4s 54us/sample - loss: 0.1227 - accuracy: 0.9686 - val_loss: 4.0850 - val_accuracy: 0.7654\n",
      "Epoch 90/100\n",
      "82960/82960 [==============================] - 6s 75us/sample - loss: 0.1028 - accuracy: 0.9718 - val_loss: 3.8369 - val_accuracy: 0.7765\n",
      "Epoch 91/100\n",
      "82960/82960 [==============================] - 4s 50us/sample - loss: 0.1100 - accuracy: 0.9705 - val_loss: 4.0632 - val_accuracy: 0.7372\n",
      "Epoch 92/100\n",
      "82960/82960 [==============================] - 4s 50us/sample - loss: 0.1421 - accuracy: 0.9665 - val_loss: 3.9489 - val_accuracy: 0.7605\n",
      "Epoch 93/100\n",
      "82960/82960 [==============================] - 4s 53us/sample - loss: 0.1072 - accuracy: 0.9721 - val_loss: 4.2111 - val_accuracy: 0.7561\n",
      "Epoch 94/100\n",
      "82960/82960 [==============================] - 5s 55us/sample - loss: 0.1052 - accuracy: 0.9721 - val_loss: 4.3368 - val_accuracy: 0.7604\n",
      "Epoch 95/100\n",
      "82960/82960 [==============================] - 6s 67us/sample - loss: 0.1249 - accuracy: 0.9699 - val_loss: 4.2316 - val_accuracy: 0.7331\n",
      "Epoch 96/100\n",
      "82960/82960 [==============================] - 4s 53us/sample - loss: 0.0954 - accuracy: 0.9734 - val_loss: 4.2311 - val_accuracy: 0.7685\n",
      "Epoch 97/100\n",
      "82960/82960 [==============================] - 4s 54us/sample - loss: 0.1348 - accuracy: 0.9681 - val_loss: 4.3130 - val_accuracy: 0.7520\n",
      "Epoch 98/100\n",
      "82960/82960 [==============================] - 4s 47us/sample - loss: 0.1195 - accuracy: 0.9702 - val_loss: 4.2903 - val_accuracy: 0.7360\n",
      "Epoch 99/100\n",
      "82960/82960 [==============================] - 4s 51us/sample - loss: 0.0997 - accuracy: 0.9744 - val_loss: 4.3023 - val_accuracy: 0.7305\n",
      "Epoch 100/100\n",
      "82960/82960 [==============================] - 4s 53us/sample - loss: 0.1244 - accuracy: 0.9698 - val_loss: 4.5960 - val_accuracy: 0.7621\n"
     ]
    },
    {
     "data": {
      "text/plain": [
       "<tensorflow.python.keras.callbacks.History at 0x7fead866e510>"
      ]
     },
     "execution_count": 20,
     "metadata": {},
     "output_type": "execute_result"
    }
   ],
   "source": [
    "mymodel.fit(X_train2,y_train2_encode,batch_size=64,epochs=100,validation_data=(X_val,y_val_encode))"
   ]
  },
  {
   "cell_type": "code",
   "execution_count": 21,
   "metadata": {},
   "outputs": [
    {
     "data": {
      "text/plain": [
       "[<matplotlib.lines.Line2D at 0x7feac40c1bd0>]"
      ]
     },
     "execution_count": 21,
     "metadata": {},
     "output_type": "execute_result"
    },
    {
     "data": {
      "image/png": "[encoded data removed]",
      "text/plain": [
       "<Figure size 504x504 with 1 Axes>"
      ]
     },
     "metadata": {
      "needs_background": "light"
     },
     "output_type": "display_data"
    }
   ],
   "source": [
    "his = mymodel.history.history\n",
    "plt.figure(figsize=(7,7))\n",
    "plt.plot(his['accuracy'])\n",
    "plt.plot(his['val_accuracy'])\n",
    "#plt.savefig('ovf100ep.png')"
   ]
  },
  {
   "cell_type": "code",
   "execution_count": 22,
   "metadata": {},
   "outputs": [
    {
     "data": {
      "text/plain": [
       "[<matplotlib.lines.Line2D at 0x7feac4218990>]"
      ]
     },
     "execution_count": 22,
     "metadata": {},
     "output_type": "execute_result"
    },
    {
     "data": {
      "image/png": "[encoded data removed]",
      "text/plain": [
       "<Figure size 504x504 with 1 Axes>"
      ]
     },
     "metadata": {
      "needs_background": "light"
     },
     "output_type": "display_data"
    }
   ],
   "source": [
    "plt.figure(figsize=(7,7))\n",
    "plt.plot(his['loss'])\n",
    "plt.plot(his['val_loss'])"
   ]
  },
  {
   "cell_type": "code",
   "execution_count": 89,
   "metadata": {},
   "outputs": [],
   "source": [
    "#mymodel.save('ovf100ep.h5')"
   ]
  },
  {
   "cell_type": "code",
   "execution_count": 23,
   "metadata": {},
   "outputs": [
    {
     "name": "stdout",
     "output_type": "stream",
     "text": [
      "              precision    recall  f1-score   support\n",
      "\n",
      "           0       0.98      0.97      0.97     32913\n",
      "           1       0.89      0.81      0.85      1350\n",
      "           2       0.83      0.93      0.87      3708\n",
      "           3       0.94      0.87      0.91       451\n",
      "           4       0.98      0.77      0.86       603\n",
      "           5       0.96      0.98      0.97       261\n",
      "           6       0.90      0.94      0.92       970\n",
      "           7       0.82      0.98      0.89       263\n",
      "           8       0.80      0.88      0.84       778\n",
      "           9       0.99      0.81      0.89       183\n",
      "\n",
      "    accuracy                           0.95     41480\n",
      "   macro avg       0.91      0.89      0.90     41480\n",
      "weighted avg       0.95      0.95      0.95     41480\n",
      "\n"
     ]
    }
   ],
   "source": [
    "print(classification_report(y_train,np.argmax(mymodel.predict(X_train),axis=1)))"
   ]
  },
  {
   "cell_type": "code",
   "execution_count": 24,
   "metadata": {},
   "outputs": [
    {
     "name": "stdout",
     "output_type": "stream",
     "text": [
      "              precision    recall  f1-score   support\n",
      "\n",
      "           0       0.83      0.90      0.86     32904\n",
      "           1       0.06      0.03      0.04      1280\n",
      "           2       0.52      0.43      0.47      3764\n",
      "           3       0.09      0.04      0.06       403\n",
      "           4       0.04      0.01      0.01       631\n",
      "           5       0.11      0.03      0.04       284\n",
      "           6       0.33      0.23      0.27      1019\n",
      "           7       0.12      0.10      0.11       272\n",
      "           8       0.06      0.05      0.06       731\n",
      "           9       0.07      0.01      0.01       192\n",
      "\n",
      "    accuracy                           0.76     41480\n",
      "   macro avg       0.22      0.18      0.19     41480\n",
      "weighted avg       0.72      0.76      0.74     41480\n",
      "\n"
     ]
    }
   ],
   "source": [
    "print(classification_report(y_val,np.argmax(mymodel.predict(X_val),axis=1)))"
   ]
  },
  {
   "cell_type": "code",
   "execution_count": 25,
   "metadata": {},
   "outputs": [
    {
     "name": "stdout",
     "output_type": "stream",
     "text": [
      "              precision    recall  f1-score   support\n",
      "\n",
      "           0       0.83      0.90      0.86     98807\n",
      "           1       0.07      0.03      0.04      4001\n",
      "           2       0.52      0.44      0.48     11177\n",
      "           3       0.07      0.03      0.04      1245\n",
      "           4       0.06      0.01      0.02      1830\n",
      "           5       0.06      0.02      0.03       800\n",
      "           6       0.31      0.22      0.26      3040\n",
      "           7       0.15      0.12      0.14       795\n",
      "           8       0.06      0.05      0.05      2173\n",
      "           9       0.07      0.01      0.01       572\n",
      "\n",
      "    accuracy                           0.76    124440\n",
      "   macro avg       0.22      0.18      0.19    124440\n",
      "weighted avg       0.72      0.76      0.74    124440\n",
      "\n"
     ]
    }
   ],
   "source": [
    "print(classification_report(y_test,np.argmax(mymodel.predict(X_test),axis=1)))"
   ]
  },
  {
   "cell_type": "code",
   "execution_count": 33,
   "metadata": {},
   "outputs": [],
   "source": [
    "pn_tr2 = fgsm.create_adversarial_pattern(tf.convert_to_tensor(X_train),tf.convert_to_tensor(y_train_encode),fitModel)"
   ]
  },
  {
   "cell_type": "code",
   "execution_count": 34,
   "metadata": {},
   "outputs": [
    {
     "data": {
      "text/plain": [
       "TensorShape([41480, 8, 8, 10])"
      ]
     },
     "execution_count": 34,
     "metadata": {},
     "output_type": "execute_result"
    }
   ],
   "source": [
    "pn_tr2.shape"
   ]
  },
  {
   "cell_type": "code",
   "execution_count": 53,
   "metadata": {},
   "outputs": [
    {
     "name": "stderr",
     "output_type": "stream",
     "text": [
      "Clipping input data to the valid range for imshow with RGB data ([0..1] for floats or [0..255] for integers).\n",
      "Clipping input data to the valid range for imshow with RGB data ([0..1] for floats or [0..255] for integers).\n",
      "Clipping input data to the valid range for imshow with RGB data ([0..1] for floats or [0..255] for integers).\n"
     ]
    },
    {
     "data": {
      "text/plain": [
       "<matplotlib.image.AxesImage at 0x7feaa43dcf50>"
      ]
     },
     "execution_count": 53,
     "metadata": {},
     "output_type": "execute_result"
    },
    {
     "data": {
      "image/png": "[encoded data removed]",
      "text/plain": [
       "<Figure size 1440x1440 with 3 Axes>"
      ]
     },
     "metadata": {
      "needs_background": "light"
     },
     "output_type": "display_data"
    }
   ],
   "source": [
    "fig, (ax1, ax2,ax3) = plt.subplots(1, 3,)\n",
    "fig.set_figheight(20)\n",
    "fig.set_figwidth(20)\n",
    "ax1.imshow(X_train[212,:,:,:3])\n",
    "ax2.imshow(pn_tr2[212,:,:,:3])\n",
    "ax3.imshow(X_train[212,:,:,:3]+0.5*pn_tr2[212,:,:,:3])"
   ]
  },
  {
   "cell_type": "code",
   "execution_count": 36,
   "metadata": {},
   "outputs": [
    {
     "data": {
      "text/plain": [
       "TensorShape([41480, 8, 8, 10])"
      ]
     },
     "execution_count": 36,
     "metadata": {},
     "output_type": "execute_result"
    }
   ],
   "source": [
    "pn_tr2.shape"
   ]
  },
  {
   "cell_type": "code",
   "execution_count": 48,
   "metadata": {},
   "outputs": [],
   "source": [
    "xatk = X_train+0.5*pn_tr2"
   ]
  },
  {
   "cell_type": "code",
   "execution_count": 49,
   "metadata": {},
   "outputs": [
    {
     "data": {
      "text/plain": [
       "[0.08780175065296814, 0.9947445]"
      ]
     },
     "execution_count": 49,
     "metadata": {},
     "output_type": "execute_result"
    }
   ],
   "source": [
    "mymodel.evaluate(xatk,y_train_encode,verbose=0)"
   ]
  },
  {
   "cell_type": "code",
   "execution_count": 50,
   "metadata": {},
   "outputs": [
    {
     "data": {
      "text/plain": [
       "[0.1872070882941981, 0.9518563]"
      ]
     },
     "execution_count": 50,
     "metadata": {},
     "output_type": "execute_result"
    }
   ],
   "source": [
    "mymodel.evaluate(X_train,y_train_encode,verbose=0)"
   ]
  },
  {
   "cell_type": "code",
   "execution_count": 51,
   "metadata": {},
   "outputs": [
    {
     "name": "stdout",
     "output_type": "stream",
     "text": [
      "              precision    recall  f1-score   support\n",
      "\n",
      "           0       1.00      1.00      1.00     32913\n",
      "           1       0.99      0.97      0.98      1350\n",
      "           2       1.00      0.99      1.00      3708\n",
      "           3       0.98      0.96      0.97       451\n",
      "           4       0.99      0.93      0.96       603\n",
      "           5       1.00      0.99      0.99       261\n",
      "           6       0.98      0.98      0.98       970\n",
      "           7       0.96      0.99      0.97       263\n",
      "           8       0.98      0.98      0.98       778\n",
      "           9       1.00      0.91      0.95       183\n",
      "\n",
      "    accuracy                           0.99     41480\n",
      "   macro avg       0.99      0.97      0.98     41480\n",
      "weighted avg       0.99      0.99      0.99     41480\n",
      "\n"
     ]
    }
   ],
   "source": [
    "print(classification_report(y_train,np.argmax(mymodel.predict(xatk),axis=1)))"
   ]
  },
  {
   "cell_type": "code",
   "execution_count": 52,
   "metadata": {},
   "outputs": [
    {
     "name": "stdout",
     "output_type": "stream",
     "text": [
      "              precision    recall  f1-score   support\n",
      "\n",
      "           0       0.98      0.97      0.97     32913\n",
      "           1       0.89      0.81      0.85      1350\n",
      "           2       0.83      0.93      0.87      3708\n",
      "           3       0.94      0.87      0.91       451\n",
      "           4       0.98      0.77      0.86       603\n",
      "           5       0.96      0.98      0.97       261\n",
      "           6       0.90      0.94      0.92       970\n",
      "           7       0.82      0.98      0.89       263\n",
      "           8       0.80      0.88      0.84       778\n",
      "           9       0.99      0.81      0.89       183\n",
      "\n",
      "    accuracy                           0.95     41480\n",
      "   macro avg       0.91      0.89      0.90     41480\n",
      "weighted avg       0.95      0.95      0.95     41480\n",
      "\n"
     ]
    }
   ],
   "source": [
    "print(classification_report(y_train,np.argmax(mymodel.predict(X_train),axis=1)))"
   ]
  },
  {
   "cell_type": "code",
   "execution_count": null,
   "metadata": {},
   "outputs": [],
   "source": []
  }
 ],
 "metadata": {
  "kernelspec": {
   "display_name": "Python 3",
   "language": "python",
   "name": "python3"
  },
  "language_info": {
   "codemirror_mode": {
    "name": "ipython",
    "version": 3
   },
   "file_extension": ".py",
   "mimetype": "text/x-python",
   "name": "python",
   "nbconvert_exporter": "python",
   "pygments_lexer": "ipython3",
   "version": "3.7.5"
  }
 },
 "nbformat": 4,
 "nbformat_minor": 2
}
