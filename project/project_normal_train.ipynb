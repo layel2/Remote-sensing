{
 "cells": [
  {
   "cell_type": "code",
   "execution_count": 40,
   "metadata": {},
   "outputs": [],
   "source": [
    "import numpy as np\n",
    "from matplotlib import pyplot as plt\n",
    "import scipy.io\n",
    "import pandas as pd\n",
    "import tensorflow as tf\n",
    "from tensorflow import keras\n",
    "from sklearn.decomposition import PCA\n",
    "from sklearn.metrics import classification_report\n",
    "from sklearn.preprocessing import MinMaxScaler\n",
    "import fgsm"
   ]
  },
  {
   "cell_type": "code",
   "execution_count": 2,
   "metadata": {},
   "outputs": [],
   "source": [
    "paviaU = scipy.io.loadmat('./PaviaU.mat')['paviaU']\n",
    "paviaU_gt = scipy.io.loadmat('./PaviaU_gt.mat')['paviaU_gt']"
   ]
  },
  {
   "cell_type": "code",
   "execution_count": 3,
   "metadata": {},
   "outputs": [],
   "source": [
    "Nmax = paviaU.max()\n",
    "paviaU = (paviaU/Nmax).astype(np.float32)"
   ]
  },
  {
   "cell_type": "code",
   "execution_count": 4,
   "metadata": {},
   "outputs": [],
   "source": [
    "paviaU = paviaU.reshape(610*340, 103)"
   ]
  },
  {
   "cell_type": "code",
   "execution_count": 5,
   "metadata": {},
   "outputs": [],
   "source": [
    "pca = PCA(10)\n",
    "paviaU_PCA = pca.fit_transform(paviaU)"
   ]
  },
  {
   "cell_type": "code",
   "execution_count": 6,
   "metadata": {},
   "outputs": [],
   "source": [
    "#mms = MinMaxScaler()\n",
    "#paviaU_PCA = mms.fit_transform(paviaU_PCA)"
   ]
  },
  {
   "cell_type": "code",
   "execution_count": 7,
   "metadata": {},
   "outputs": [],
   "source": [
    "def getiim(size,band):\n",
    "    hf = int(size/2)\n",
    "    aa = np.zeros(((610*340),size,size,band))\n",
    "    a = np.zeros((610+size, 340+size, band))\n",
    "    a[hf:-hf,hf:-hf,:] = paviaU_PCA.reshape((610,340,band))\n",
    "    count = 0\n",
    "    output = []\n",
    "    for i in range(size,610-1):\n",
    "        for j in range(size,340-1):\n",
    "            #print(i,j)\n",
    "            aa[count] = a[i-hf:i+hf,j-hf:j+hf,:]\n",
    "            #print(count)\n",
    "            count = count+1\n",
    "    return aa"
   ]
  },
  {
   "cell_type": "code",
   "execution_count": 8,
   "metadata": {},
   "outputs": [],
   "source": [
    "data_im = getiim(8,10)"
   ]
  },
  {
   "cell_type": "code",
   "execution_count": 9,
   "metadata": {},
   "outputs": [
    {
     "data": {
      "text/plain": [
       "(207400, 8, 8, 10)"
      ]
     },
     "execution_count": 9,
     "metadata": {},
     "output_type": "execute_result"
    }
   ],
   "source": [
    "data_im.shape"
   ]
  },
  {
   "cell_type": "code",
   "execution_count": 10,
   "metadata": {},
   "outputs": [],
   "source": [
    "X = data_im\n",
    "y = paviaU_gt.reshape(207400)\n",
    "idx = np.random.permutation(len(X))\n",
    "X = X[idx]\n",
    "y = y[idx]\n",
    "nsplit = int(0.2*len(paviaU_PCA))\n",
    "X_train = X[:nsplit]\n",
    "y_train = y[:nsplit]\n",
    "X_val = X[nsplit:nsplit*2]\n",
    "y_val = y[nsplit:nsplit*2]\n",
    "X_test = X[nsplit*2:]\n",
    "y_test = y[nsplit*2:]\n",
    "X,y = None,None"
   ]
  },
  {
   "cell_type": "code",
   "execution_count": 11,
   "metadata": {},
   "outputs": [],
   "source": [
    "y_train_encode = keras.utils.to_categorical(y_train)\n",
    "y_val_encode = keras.utils.to_categorical(y_val)\n",
    "y_test_encode = keras.utils.to_categorical(y_test)\n"
   ]
  },
  {
   "cell_type": "code",
   "execution_count": 23,
   "metadata": {},
   "outputs": [],
   "source": [
    "def nnmodel(input_shape):\n",
    "    X_input = keras.layers.Input((input_shape))\n",
    "    X = keras.layers.Flatten()(X_input)\n",
    "    X = keras.layers.Dense(2048)(X)\n",
    "    X = keras.layers.LeakyReLU(alpha=0.2)(X)\n",
    "    X = keras.layers.Dense(512)(X)\n",
    "    X = keras.layers.LeakyReLU(alpha=0.2)(X)\n",
    "    X = keras.layers.Dense(512)(X)\n",
    "    X = keras.layers.LeakyReLU(alpha=0.2)(X)\n",
    "    X = keras.layers.Dense(10,activation='softmax')(X)\n",
    "    model = keras.models.Model(inputs=X_input, outputs=X, name='model')\n",
    "    return model"
   ]
  },
  {
   "cell_type": "code",
   "execution_count": 29,
   "metadata": {},
   "outputs": [
    {
     "name": "stdout",
     "output_type": "stream",
     "text": [
      "Model: \"model\"\n",
      "_________________________________________________________________\n",
      "Layer (type)                 Output Shape              Param #   \n",
      "=================================================================\n",
      "input_6 (InputLayer)         [(None, 8, 8, 10)]        0         \n",
      "_________________________________________________________________\n",
      "flatten_5 (Flatten)          (None, 640)               0         \n",
      "_________________________________________________________________\n",
      "dense_20 (Dense)             (None, 2048)              1312768   \n",
      "_________________________________________________________________\n",
      "leaky_re_lu_6 (LeakyReLU)    (None, 2048)              0         \n",
      "_________________________________________________________________\n",
      "dense_21 (Dense)             (None, 512)               1049088   \n",
      "_________________________________________________________________\n",
      "leaky_re_lu_7 (LeakyReLU)    (None, 512)               0         \n",
      "_________________________________________________________________\n",
      "dense_22 (Dense)             (None, 512)               262656    \n",
      "_________________________________________________________________\n",
      "leaky_re_lu_8 (LeakyReLU)    (None, 512)               0         \n",
      "_________________________________________________________________\n",
      "dense_23 (Dense)             (None, 10)                5130      \n",
      "=================================================================\n",
      "Total params: 2,629,642\n",
      "Trainable params: 2,629,642\n",
      "Non-trainable params: 0\n",
      "_________________________________________________________________\n"
     ]
    }
   ],
   "source": [
    "mymodel = nnmodel(X_train[0].shape)\n",
    "mymodel.compile(optimizer=\"adam\", loss=\"categorical_crossentropy\", metrics=['accuracy'])\n",
    "mymodel.summary()"
   ]
  },
  {
   "cell_type": "code",
   "execution_count": 30,
   "metadata": {},
   "outputs": [
    {
     "name": "stdout",
     "output_type": "stream",
     "text": [
      "Train on 41480 samples, validate on 41480 samples\n",
      "Epoch 1/100\n",
      "41480/41480 [==============================] - 3s 62us/sample - loss: 0.8691 - accuracy: 0.8003 - val_loss: 0.8350 - val_accuracy: 0.8109\n",
      "Epoch 2/100\n",
      "41480/41480 [==============================] - 2s 52us/sample - loss: 0.8128 - accuracy: 0.8053 - val_loss: 0.8057 - val_accuracy: 0.8104\n",
      "Epoch 3/100\n",
      "41480/41480 [==============================] - 2s 52us/sample - loss: 0.7965 - accuracy: 0.8057 - val_loss: 0.8005 - val_accuracy: 0.8113\n",
      "Epoch 4/100\n",
      "41480/41480 [==============================] - 2s 52us/sample - loss: 0.7759 - accuracy: 0.8061 - val_loss: 0.8290 - val_accuracy: 0.8081\n",
      "Epoch 5/100\n",
      "41480/41480 [==============================] - 2s 52us/sample - loss: 0.7598 - accuracy: 0.8068 - val_loss: 0.7882 - val_accuracy: 0.8120\n",
      "Epoch 6/100\n",
      "41480/41480 [==============================] - 4s 93us/sample - loss: 0.7423 - accuracy: 0.8083 - val_loss: 0.7990 - val_accuracy: 0.8002\n",
      "Epoch 7/100\n",
      "41480/41480 [==============================] - 4s 89us/sample - loss: 0.7216 - accuracy: 0.8097 - val_loss: 0.7744 - val_accuracy: 0.8103\n",
      "Epoch 8/100\n",
      "41480/41480 [==============================] - 3s 72us/sample - loss: 0.6986 - accuracy: 0.8115 - val_loss: 0.7865 - val_accuracy: 0.8110\n",
      "Epoch 9/100\n",
      "41480/41480 [==============================] - 3s 61us/sample - loss: 0.6756 - accuracy: 0.8146 - val_loss: 0.7936 - val_accuracy: 0.8123\n",
      "Epoch 10/100\n",
      "41480/41480 [==============================] - 3s 67us/sample - loss: 0.6515 - accuracy: 0.8161 - val_loss: 0.8025 - val_accuracy: 0.8085\n",
      "Epoch 11/100\n",
      "41480/41480 [==============================] - 3s 76us/sample - loss: 0.6251 - accuracy: 0.8200 - val_loss: 0.8205 - val_accuracy: 0.7964\n",
      "Epoch 12/100\n",
      "41480/41480 [==============================] - 3s 63us/sample - loss: 0.6038 - accuracy: 0.8233 - val_loss: 0.8349 - val_accuracy: 0.8045\n",
      "Epoch 13/100\n",
      "41480/41480 [==============================] - 3s 63us/sample - loss: 0.5724 - accuracy: 0.8287 - val_loss: 0.8630 - val_accuracy: 0.7934\n",
      "Epoch 14/100\n",
      "41480/41480 [==============================] - 3s 68us/sample - loss: 0.5473 - accuracy: 0.8325 - val_loss: 0.8905 - val_accuracy: 0.8020\n",
      "Epoch 15/100\n",
      "41480/41480 [==============================] - 2s 54us/sample - loss: 0.5203 - accuracy: 0.8376 - val_loss: 0.9118 - val_accuracy: 0.8041\n",
      "Epoch 16/100\n",
      "41480/41480 [==============================] - 2s 53us/sample - loss: 0.4863 - accuracy: 0.8439 - val_loss: 0.9321 - val_accuracy: 0.7788\n",
      "Epoch 17/100\n",
      "41480/41480 [==============================] - 2s 53us/sample - loss: 0.4629 - accuracy: 0.8519 - val_loss: 1.0017 - val_accuracy: 0.7751\n",
      "Epoch 18/100\n",
      "41480/41480 [==============================] - 2s 53us/sample - loss: 0.4441 - accuracy: 0.8544 - val_loss: 1.0358 - val_accuracy: 0.7865\n",
      "Epoch 19/100\n",
      "41480/41480 [==============================] - 2s 53us/sample - loss: 0.4202 - accuracy: 0.8590 - val_loss: 1.0666 - val_accuracy: 0.7911\n",
      "Epoch 20/100\n",
      "41480/41480 [==============================] - 2s 53us/sample - loss: 0.3959 - accuracy: 0.8687 - val_loss: 1.1019 - val_accuracy: 0.7764\n",
      "Epoch 21/100\n",
      "41480/41480 [==============================] - 2s 57us/sample - loss: 0.3770 - accuracy: 0.8742 - val_loss: 1.2061 - val_accuracy: 0.7911\n",
      "Epoch 22/100\n",
      "41480/41480 [==============================] - 3s 66us/sample - loss: 0.3587 - accuracy: 0.8788 - val_loss: 1.1985 - val_accuracy: 0.7817\n",
      "Epoch 23/100\n",
      "41480/41480 [==============================] - 3s 65us/sample - loss: 0.3396 - accuracy: 0.8812 - val_loss: 1.1772 - val_accuracy: 0.7696\n",
      "Epoch 24/100\n",
      "41480/41480 [==============================] - 3s 71us/sample - loss: 0.3267 - accuracy: 0.8882 - val_loss: 1.2964 - val_accuracy: 0.7623\n",
      "Epoch 25/100\n",
      "41480/41480 [==============================] - 3s 77us/sample - loss: 0.3147 - accuracy: 0.8911 - val_loss: 1.3102 - val_accuracy: 0.7885\n",
      "Epoch 26/100\n",
      "41480/41480 [==============================] - 2s 57us/sample - loss: 0.3013 - accuracy: 0.8958 - val_loss: 1.3842 - val_accuracy: 0.7876\n",
      "Epoch 27/100\n",
      "41480/41480 [==============================] - 3s 68us/sample - loss: 0.2981 - accuracy: 0.8963 - val_loss: 1.3780 - val_accuracy: 0.7551\n",
      "Epoch 28/100\n",
      "41480/41480 [==============================] - 2s 53us/sample - loss: 0.2709 - accuracy: 0.9055 - val_loss: 1.5067 - val_accuracy: 0.7810\n",
      "Epoch 29/100\n",
      "41480/41480 [==============================] - 2s 53us/sample - loss: 0.2683 - accuracy: 0.9064 - val_loss: 1.4780 - val_accuracy: 0.7657\n",
      "Epoch 30/100\n",
      "41480/41480 [==============================] - 2s 53us/sample - loss: 0.2620 - accuracy: 0.9073 - val_loss: 1.5779 - val_accuracy: 0.7607\n",
      "Epoch 31/100\n",
      "41480/41480 [==============================] - 2s 53us/sample - loss: 0.2408 - accuracy: 0.9153 - val_loss: 1.6244 - val_accuracy: 0.7583\n",
      "Epoch 32/100\n",
      "41480/41480 [==============================] - 2s 52us/sample - loss: 0.2558 - accuracy: 0.9112 - val_loss: 1.6733 - val_accuracy: 0.7769\n",
      "Epoch 33/100\n",
      "41480/41480 [==============================] - 2s 52us/sample - loss: 0.2354 - accuracy: 0.9168 - val_loss: 1.7920 - val_accuracy: 0.7290\n",
      "Epoch 34/100\n",
      "41480/41480 [==============================] - 2s 52us/sample - loss: 0.2239 - accuracy: 0.9196 - val_loss: 1.7349 - val_accuracy: 0.7746\n",
      "Epoch 35/100\n",
      "41480/41480 [==============================] - 2s 52us/sample - loss: 0.2372 - accuracy: 0.9171 - val_loss: 1.8250 - val_accuracy: 0.7701\n",
      "Epoch 36/100\n",
      "41480/41480 [==============================] - 2s 52us/sample - loss: 0.2207 - accuracy: 0.9224 - val_loss: 1.8650 - val_accuracy: 0.7815\n",
      "Epoch 37/100\n",
      "41480/41480 [==============================] - 2s 52us/sample - loss: 0.2213 - accuracy: 0.9224 - val_loss: 1.8676 - val_accuracy: 0.7724\n",
      "Epoch 38/100\n",
      "41480/41480 [==============================] - 2s 52us/sample - loss: 0.2069 - accuracy: 0.9275 - val_loss: 1.8236 - val_accuracy: 0.7675\n",
      "Epoch 39/100\n",
      "41480/41480 [==============================] - 2s 52us/sample - loss: 0.2146 - accuracy: 0.9260 - val_loss: 1.8168 - val_accuracy: 0.7713\n",
      "Epoch 40/100\n",
      "41480/41480 [==============================] - 2s 55us/sample - loss: 0.1931 - accuracy: 0.9303 - val_loss: 1.9441 - val_accuracy: 0.7719\n",
      "Epoch 41/100\n",
      "41480/41480 [==============================] - 3s 62us/sample - loss: 0.2179 - accuracy: 0.9259 - val_loss: 1.8998 - val_accuracy: 0.7582\n",
      "Epoch 42/100\n",
      "41480/41480 [==============================] - 2s 52us/sample - loss: 0.1957 - accuracy: 0.9324 - val_loss: 1.9551 - val_accuracy: 0.7621\n",
      "Epoch 43/100\n",
      "41480/41480 [==============================] - 2s 52us/sample - loss: 0.1869 - accuracy: 0.9340 - val_loss: 2.0190 - val_accuracy: 0.7712\n",
      "Epoch 44/100\n",
      "41480/41480 [==============================] - 3s 81us/sample - loss: 0.1945 - accuracy: 0.9329 - val_loss: 2.0653 - val_accuracy: 0.7764\n",
      "Epoch 45/100\n",
      "41480/41480 [==============================] - 3s 73us/sample - loss: 0.1901 - accuracy: 0.9332 - val_loss: 2.1154 - val_accuracy: 0.7752\n",
      "Epoch 46/100\n",
      "41480/41480 [==============================] - 3s 72us/sample - loss: 0.1834 - accuracy: 0.9375 - val_loss: 2.0861 - val_accuracy: 0.7621\n",
      "Epoch 47/100\n",
      "41480/41480 [==============================] - 3s 81us/sample - loss: 0.1781 - accuracy: 0.9379 - val_loss: 2.1177 - val_accuracy: 0.7326\n",
      "Epoch 48/100\n",
      "41480/41480 [==============================] - 2s 58us/sample - loss: 0.1906 - accuracy: 0.9356 - val_loss: 2.1430 - val_accuracy: 0.7664\n",
      "Epoch 49/100\n",
      "41480/41480 [==============================] - 2s 57us/sample - loss: 0.1726 - accuracy: 0.9399 - val_loss: 2.2073 - val_accuracy: 0.7693\n",
      "Epoch 50/100\n",
      "41480/41480 [==============================] - 3s 67us/sample - loss: 0.1808 - accuracy: 0.9374 - val_loss: 2.2537 - val_accuracy: 0.7698\n",
      "Epoch 51/100\n",
      "41480/41480 [==============================] - 3s 60us/sample - loss: 0.1662 - accuracy: 0.9407 - val_loss: 2.2693 - val_accuracy: 0.7736\n",
      "Epoch 52/100\n",
      "41480/41480 [==============================] - 3s 79us/sample - loss: 0.1719 - accuracy: 0.9423 - val_loss: 2.3729 - val_accuracy: 0.7886\n",
      "Epoch 53/100\n",
      "41480/41480 [==============================] - 3s 76us/sample - loss: 0.1681 - accuracy: 0.9423 - val_loss: 2.3150 - val_accuracy: 0.7800\n",
      "Epoch 54/100\n",
      "41480/41480 [==============================] - 2s 53us/sample - loss: 0.1806 - accuracy: 0.9384 - val_loss: 2.2864 - val_accuracy: 0.7630\n"
     ]
    },
    {
     "name": "stdout",
     "output_type": "stream",
     "text": [
      "Epoch 55/100\n",
      "41480/41480 [==============================] - 2s 53us/sample - loss: 0.1772 - accuracy: 0.9410 - val_loss: 2.3082 - val_accuracy: 0.7834\n",
      "Epoch 56/100\n",
      "41480/41480 [==============================] - 2s 53us/sample - loss: 0.1468 - accuracy: 0.9485 - val_loss: 2.3620 - val_accuracy: 0.7697\n",
      "Epoch 57/100\n",
      "41480/41480 [==============================] - 2s 52us/sample - loss: 0.1717 - accuracy: 0.9432 - val_loss: 2.4844 - val_accuracy: 0.7494\n",
      "Epoch 58/100\n",
      "41480/41480 [==============================] - 3s 62us/sample - loss: 0.1660 - accuracy: 0.9439 - val_loss: 2.5067 - val_accuracy: 0.7580\n",
      "Epoch 59/100\n",
      "41480/41480 [==============================] - 3s 71us/sample - loss: 0.1622 - accuracy: 0.9458 - val_loss: 2.5139 - val_accuracy: 0.7700\n",
      "Epoch 60/100\n",
      "41480/41480 [==============================] - 2s 60us/sample - loss: 0.1726 - accuracy: 0.9419 - val_loss: 2.4356 - val_accuracy: 0.7468\n",
      "Epoch 61/100\n",
      "41480/41480 [==============================] - 2s 60us/sample - loss: 0.1437 - accuracy: 0.9508 - val_loss: 2.6302 - val_accuracy: 0.7717\n",
      "Epoch 62/100\n",
      "41480/41480 [==============================] - 2s 57us/sample - loss: 0.1648 - accuracy: 0.9447 - val_loss: 2.4997 - val_accuracy: 0.7602\n",
      "Epoch 63/100\n",
      "41480/41480 [==============================] - 2s 52us/sample - loss: 0.1552 - accuracy: 0.9465 - val_loss: 2.5687 - val_accuracy: 0.7646\n",
      "Epoch 64/100\n",
      "41480/41480 [==============================] - 2s 52us/sample - loss: 0.1607 - accuracy: 0.9454 - val_loss: 2.8540 - val_accuracy: 0.7812\n",
      "Epoch 65/100\n",
      "41480/41480 [==============================] - 2s 52us/sample - loss: 0.1658 - accuracy: 0.9459 - val_loss: 2.7024 - val_accuracy: 0.7628\n",
      "Epoch 66/100\n",
      "41480/41480 [==============================] - 2s 55us/sample - loss: 0.1673 - accuracy: 0.9470 - val_loss: 2.6388 - val_accuracy: 0.7680\n",
      "Epoch 67/100\n",
      "41480/41480 [==============================] - 2s 52us/sample - loss: 0.1370 - accuracy: 0.9529 - val_loss: 2.6234 - val_accuracy: 0.7574\n",
      "Epoch 68/100\n",
      "41480/41480 [==============================] - 2s 52us/sample - loss: 0.1549 - accuracy: 0.9479 - val_loss: 2.7235 - val_accuracy: 0.7689\n",
      "Epoch 69/100\n",
      "41480/41480 [==============================] - 3s 69us/sample - loss: 0.1691 - accuracy: 0.9470 - val_loss: 2.7246 - val_accuracy: 0.7686\n",
      "Epoch 70/100\n",
      "41480/41480 [==============================] - 2s 52us/sample - loss: 0.1416 - accuracy: 0.9524 - val_loss: 2.8606 - val_accuracy: 0.7645\n",
      "Epoch 71/100\n",
      "41480/41480 [==============================] - 2s 58us/sample - loss: 0.1395 - accuracy: 0.9544 - val_loss: 2.8293 - val_accuracy: 0.7520\n",
      "Epoch 72/100\n",
      "41480/41480 [==============================] - 2s 52us/sample - loss: 0.1609 - accuracy: 0.9486 - val_loss: 2.8212 - val_accuracy: 0.7838\n",
      "Epoch 73/100\n",
      "41480/41480 [==============================] - 2s 59us/sample - loss: 0.1517 - accuracy: 0.9513 - val_loss: 2.9461 - val_accuracy: 0.7782\n",
      "Epoch 74/100\n",
      "41480/41480 [==============================] - 2s 60us/sample - loss: 0.1553 - accuracy: 0.9492 - val_loss: 2.8373 - val_accuracy: 0.7780\n",
      "Epoch 75/100\n",
      "41480/41480 [==============================] - 3s 70us/sample - loss: 0.1385 - accuracy: 0.9546 - val_loss: 2.9478 - val_accuracy: 0.7437\n",
      "Epoch 76/100\n",
      "41480/41480 [==============================] - 3s 81us/sample - loss: 0.1345 - accuracy: 0.9543 - val_loss: 2.8957 - val_accuracy: 0.7744\n",
      "Epoch 77/100\n",
      "41480/41480 [==============================] - 3s 67us/sample - loss: 0.1499 - accuracy: 0.9525 - val_loss: 3.0170 - val_accuracy: 0.7667\n",
      "Epoch 78/100\n",
      "41480/41480 [==============================] - 3s 67us/sample - loss: 0.1438 - accuracy: 0.9529 - val_loss: 3.0315 - val_accuracy: 0.7614\n",
      "Epoch 79/100\n",
      "41480/41480 [==============================] - 3s 70us/sample - loss: 0.1501 - accuracy: 0.9528 - val_loss: 2.8647 - val_accuracy: 0.7362\n",
      "Epoch 80/100\n",
      "41480/41480 [==============================] - 4s 93us/sample - loss: 0.1544 - accuracy: 0.9512 - val_loss: 3.0320 - val_accuracy: 0.7657\n",
      "Epoch 81/100\n",
      "41480/41480 [==============================] - 3s 80us/sample - loss: 0.1476 - accuracy: 0.9536 - val_loss: 2.9099 - val_accuracy: 0.7665\n",
      "Epoch 82/100\n",
      "41480/41480 [==============================] - 2s 58us/sample - loss: 0.1375 - accuracy: 0.9560 - val_loss: 2.9685 - val_accuracy: 0.7596\n",
      "Epoch 83/100\n",
      "41480/41480 [==============================] - 2s 57us/sample - loss: 0.1211 - accuracy: 0.9591 - val_loss: 3.0745 - val_accuracy: 0.7576\n",
      "Epoch 84/100\n",
      "41480/41480 [==============================] - 2s 58us/sample - loss: 0.1502 - accuracy: 0.9533 - val_loss: 3.1082 - val_accuracy: 0.7588\n",
      "Epoch 85/100\n",
      "41480/41480 [==============================] - 2s 57us/sample - loss: 0.1768 - accuracy: 0.9461 - val_loss: 2.9622 - val_accuracy: 0.7586\n",
      "Epoch 86/100\n",
      "41480/41480 [==============================] - 2s 58us/sample - loss: 0.1148 - accuracy: 0.9607 - val_loss: 3.1918 - val_accuracy: 0.7824\n",
      "Epoch 87/100\n",
      "41480/41480 [==============================] - 2s 58us/sample - loss: 0.1404 - accuracy: 0.9561 - val_loss: 3.2742 - val_accuracy: 0.7734\n",
      "Epoch 88/100\n",
      "41480/41480 [==============================] - 2s 58us/sample - loss: 0.1257 - accuracy: 0.9585 - val_loss: 3.2642 - val_accuracy: 0.7601\n",
      "Epoch 89/100\n",
      "41480/41480 [==============================] - 2s 58us/sample - loss: 0.1562 - accuracy: 0.9521 - val_loss: 3.3019 - val_accuracy: 0.7628\n",
      "Epoch 90/100\n",
      "41480/41480 [==============================] - 2s 57us/sample - loss: 0.1451 - accuracy: 0.9566 - val_loss: 3.2057 - val_accuracy: 0.7408\n",
      "Epoch 91/100\n",
      "41480/41480 [==============================] - 2s 53us/sample - loss: 0.1271 - accuracy: 0.9576 - val_loss: 3.3699 - val_accuracy: 0.7698\n",
      "Epoch 92/100\n",
      "41480/41480 [==============================] - 2s 53us/sample - loss: 0.1412 - accuracy: 0.9561 - val_loss: 3.3993 - val_accuracy: 0.7622\n",
      "Epoch 93/100\n",
      "41480/41480 [==============================] - 2s 53us/sample - loss: 0.1429 - accuracy: 0.9565 - val_loss: 3.4545 - val_accuracy: 0.7790\n",
      "Epoch 94/100\n",
      "41480/41480 [==============================] - 3s 77us/sample - loss: 0.1422 - accuracy: 0.9558 - val_loss: 3.3666 - val_accuracy: 0.7893\n",
      "Epoch 95/100\n",
      "41480/41480 [==============================] - 3s 60us/sample - loss: 0.1139 - accuracy: 0.9615 - val_loss: 3.5861 - val_accuracy: 0.7701\n",
      "Epoch 96/100\n",
      "41480/41480 [==============================] - 3s 66us/sample - loss: 0.1631 - accuracy: 0.9519 - val_loss: 3.4770 - val_accuracy: 0.7482\n",
      "Epoch 97/100\n",
      "41480/41480 [==============================] - 2s 52us/sample - loss: 0.1641 - accuracy: 0.9536 - val_loss: 3.2684 - val_accuracy: 0.7689\n",
      "Epoch 98/100\n",
      "41480/41480 [==============================] - 2s 52us/sample - loss: 0.1254 - accuracy: 0.9613 - val_loss: 3.5370 - val_accuracy: 0.7441\n",
      "Epoch 99/100\n",
      "41480/41480 [==============================] - 2s 53us/sample - loss: 0.1283 - accuracy: 0.9600 - val_loss: 3.6670 - val_accuracy: 0.7777\n",
      "Epoch 100/100\n",
      "41480/41480 [==============================] - 2s 52us/sample - loss: 0.1261 - accuracy: 0.9597 - val_loss: 3.5220 - val_accuracy: 0.7308\n"
     ]
    },
    {
     "data": {
      "text/plain": [
       "<tensorflow.python.keras.callbacks.History at 0x7f32231f3790>"
      ]
     },
     "execution_count": 30,
     "metadata": {},
     "output_type": "execute_result"
    }
   ],
   "source": [
    "mymodel.fit(X_train,y_train_encode,batch_size=64,epochs=100,validation_data=(X_val,y_val_encode))"
   ]
  },
  {
   "cell_type": "code",
   "execution_count": 33,
   "metadata": {},
   "outputs": [
    {
     "data": {
      "text/plain": [
       "[<matplotlib.lines.Line2D at 0x7f3222a16cd0>]"
      ]
     },
     "execution_count": 33,
     "metadata": {},
     "output_type": "execute_result"
    },
    {
     "data": {
      "image/png": "[encoded data removed]",
      "text/plain": [
       "<Figure size 504x504 with 1 Axes>"
      ]
     },
     "metadata": {
      "needs_background": "light"
     },
     "output_type": "display_data"
    }
   ],
   "source": [
    "his = mymodel.history.history\n",
    "plt.figure(figsize=(7,7))\n",
    "plt.plot(his['accuracy'])\n",
    "plt.plot(his['val_accuracy'])\n",
    "#plt.savefig('ovf100ep.png')"
   ]
  },
  {
   "cell_type": "code",
   "execution_count": 34,
   "metadata": {},
   "outputs": [
    {
     "data": {
      "text/plain": [
       "[<matplotlib.lines.Line2D at 0x7f322298bc50>]"
      ]
     },
     "execution_count": 34,
     "metadata": {},
     "output_type": "execute_result"
    },
    {
     "data": {
      "image/png": "[encoded data removed]",
      "text/plain": [
       "<Figure size 504x504 with 1 Axes>"
      ]
     },
     "metadata": {
      "needs_background": "light"
     },
     "output_type": "display_data"
    }
   ],
   "source": [
    "plt.figure(figsize=(7,7))\n",
    "plt.plot(his['loss'])\n",
    "plt.plot(his['val_loss'])"
   ]
  },
  {
   "cell_type": "code",
   "execution_count": 89,
   "metadata": {},
   "outputs": [],
   "source": [
    "#mymodel.save('ovf100ep.h5')"
   ]
  },
  {
   "cell_type": "code",
   "execution_count": 38,
   "metadata": {},
   "outputs": [
    {
     "name": "stdout",
     "output_type": "stream",
     "text": [
      "              precision    recall  f1-score   support\n",
      "\n",
      "           0       0.98      0.94      0.96     32930\n",
      "           1       0.57      0.97      0.72      1319\n",
      "           2       0.83      0.90      0.86      3730\n",
      "           3       0.96      0.97      0.97       413\n",
      "           4       0.89      0.90      0.89       626\n",
      "           5       0.98      0.97      0.97       265\n",
      "           6       0.82      0.94      0.88      1035\n",
      "           7       0.95      0.97      0.96       264\n",
      "           8       0.86      0.94      0.90       715\n",
      "           9       0.63      0.95      0.76       183\n",
      "\n",
      "    accuracy                           0.94     41480\n",
      "   macro avg       0.85      0.95      0.89     41480\n",
      "weighted avg       0.95      0.94      0.94     41480\n",
      "\n"
     ]
    }
   ],
   "source": [
    "print(classification_report(y_train,np.argmax(mymodel.predict(X_train),axis=1)))"
   ]
  },
  {
   "cell_type": "code",
   "execution_count": 37,
   "metadata": {},
   "outputs": [
    {
     "name": "stdout",
     "output_type": "stream",
     "text": [
      "              precision    recall  f1-score   support\n",
      "\n",
      "           0       0.84      0.85      0.84     33066\n",
      "           1       0.06      0.10      0.08      1334\n",
      "           2       0.53      0.45      0.48      3638\n",
      "           3       0.07      0.03      0.04       405\n",
      "           4       0.03      0.02      0.02       596\n",
      "           5       0.15      0.05      0.08       260\n",
      "           6       0.28      0.29      0.29      1026\n",
      "           7       0.20      0.09      0.12       239\n",
      "           8       0.07      0.05      0.06       718\n",
      "           9       0.02      0.03      0.03       198\n",
      "\n",
      "    accuracy                           0.73     41480\n",
      "   macro avg       0.22      0.20      0.20     41480\n",
      "weighted avg       0.73      0.73      0.73     41480\n",
      "\n"
     ]
    }
   ],
   "source": [
    "print(classification_report(y_val,np.argmax(mymodel.predict(X_val),axis=1)))"
   ]
  },
  {
   "cell_type": "code",
   "execution_count": 35,
   "metadata": {},
   "outputs": [
    {
     "name": "stdout",
     "output_type": "stream",
     "text": [
      "              precision    recall  f1-score   support\n",
      "\n",
      "           0       0.83      0.85      0.84     98628\n",
      "           1       0.07      0.11      0.08      3978\n",
      "           2       0.54      0.44      0.49     11281\n",
      "           3       0.10      0.04      0.05      1281\n",
      "           4       0.04      0.02      0.03      1842\n",
      "           5       0.12      0.04      0.06       820\n",
      "           6       0.26      0.28      0.27      2968\n",
      "           7       0.21      0.10      0.14       827\n",
      "           8       0.06      0.05      0.05      2249\n",
      "           9       0.04      0.05      0.05       566\n",
      "\n",
      "    accuracy                           0.73    124440\n",
      "   macro avg       0.23      0.20      0.21    124440\n",
      "weighted avg       0.72      0.73      0.72    124440\n",
      "\n"
     ]
    }
   ],
   "source": [
    "print(classification_report(y_test,np.argmax(mymodel.predict(X_test),axis=1)))"
   ]
  },
  {
   "cell_type": "code",
   "execution_count": 49,
   "metadata": {},
   "outputs": [
    {
     "data": {
      "text/plain": [
       "<tensorflow.python.keras.engine.training.Model at 0x7f322330dd50>"
      ]
     },
     "execution_count": 49,
     "metadata": {},
     "output_type": "execute_result"
    }
   ],
   "source": [
    "mymodel"
   ]
  },
  {
   "cell_type": "code",
   "execution_count": 55,
   "metadata": {},
   "outputs": [],
   "source": [
    "def create_adversarial_pattern(input_image, input_label,models,loss_object = tf.keras.losses.CategoricalCrossentropy()):\n",
    "    with tf.GradientTape() as tape:\n",
    "        tape.watch(input_image)\n",
    "        prediction = models(input_image)\n",
    "        loss = loss_object(input_label, prediction)\n",
    "\n",
    "      # Get the gradients of the loss w.r.t to the input image.\n",
    "        gradient = tape.gradient(loss, input_image)\n",
    "      # Get the sign of the gradients to create the perturbation\n",
    "        signed_grad = tf.sign(gradient)\n",
    "    return signed_grad"
   ]
  },
  {
   "cell_type": "code",
   "execution_count": 56,
   "metadata": {},
   "outputs": [
    {
     "name": "stdout",
     "output_type": "stream",
     "text": [
      "WARNING:tensorflow:Layer flatten_5 is casting an input tensor from dtype float64 to the layer's dtype of float32, which is new behavior in TensorFlow 2.  The layer has dtype float32 because it's dtype defaults to floatx.\n",
      "\n",
      "If you intended to run this layer in float32, you can safely ignore this warning. If in doubt, this warning is likely only an issue if you are porting a TensorFlow 1.X model to TensorFlow 2.\n",
      "\n",
      "To change all layers to have dtype float64 by default, call `tf.keras.backend.set_floatx('float64')`. To change just this layer, pass dtype='float64' to the layer constructor. If you are the author of this layer, you can disable autocasting by passing autocast=False to the base Layer constructor.\n",
      "\n"
     ]
    }
   ],
   "source": [
    "pn_tr = create_adversarial_pattern(tf.convert_to_tensor(X_train),tf.convert_to_tensor(y_train_encode),mymodel)"
   ]
  },
  {
   "cell_type": "code",
   "execution_count": 58,
   "metadata": {},
   "outputs": [
    {
     "data": {
      "text/plain": [
       "TensorShape([41480, 8, 8, 10])"
      ]
     },
     "execution_count": 58,
     "metadata": {},
     "output_type": "execute_result"
    }
   ],
   "source": [
    "pn_tr.shape"
   ]
  },
  {
   "cell_type": "code",
   "execution_count": 80,
   "metadata": {},
   "outputs": [
    {
     "name": "stderr",
     "output_type": "stream",
     "text": [
      "Clipping input data to the valid range for imshow with RGB data ([0..1] for floats or [0..255] for integers).\n",
      "Clipping input data to the valid range for imshow with RGB data ([0..1] for floats or [0..255] for integers).\n",
      "Clipping input data to the valid range for imshow with RGB data ([0..1] for floats or [0..255] for integers).\n"
     ]
    },
    {
     "data": {
      "text/plain": [
       "<matplotlib.image.AxesImage at 0x7f323282aa50>"
      ]
     },
     "execution_count": 80,
     "metadata": {},
     "output_type": "execute_result"
    },
    {
     "data": {
      "image/png": "[encoded data removed]",
      "text/plain": [
       "<Figure size 1440x1440 with 3 Axes>"
      ]
     },
     "metadata": {
      "needs_background": "light"
     },
     "output_type": "display_data"
    }
   ],
   "source": [
    "fig, (ax1, ax2,ax3) = plt.subplots(1, 3,)\n",
    "fig.set_figheight(20)\n",
    "fig.set_figwidth(20)\n",
    "ax1.imshow(X_train[212,:,:,:3])\n",
    "ax2.imshow(pn_tr[212,:,:,:3])\n",
    "ax3.imshow(X_train[212,:,:,:3]+0.1*pn_tr[212,:,:,:3])"
   ]
  },
  {
   "cell_type": "code",
   "execution_count": 82,
   "metadata": {},
   "outputs": [
    {
     "data": {
      "text/plain": [
       "TensorShape([41480, 8, 8, 10])"
      ]
     },
     "execution_count": 82,
     "metadata": {},
     "output_type": "execute_result"
    }
   ],
   "source": [
    "pn_tr.shape"
   ]
  },
  {
   "cell_type": "code",
   "execution_count": 83,
   "metadata": {},
   "outputs": [],
   "source": [
    "xatk = X_train+0.1*pn_tr"
   ]
  },
  {
   "cell_type": "code",
   "execution_count": 85,
   "metadata": {},
   "outputs": [
    {
     "data": {
      "text/plain": [
       "[154.1939218283849, 0.36060753]"
      ]
     },
     "execution_count": 85,
     "metadata": {},
     "output_type": "execute_result"
    }
   ],
   "source": [
    "mymodel.evaluate(xatk,y_train_encode,verbose=0)"
   ]
  },
  {
   "cell_type": "code",
   "execution_count": 86,
   "metadata": {},
   "outputs": [
    {
     "data": {
      "text/plain": [
       "[0.19955683367170896, 0.93606555]"
      ]
     },
     "execution_count": 86,
     "metadata": {},
     "output_type": "execute_result"
    }
   ],
   "source": [
    "mymodel.evaluate(X_train,y_train_encode,verbose=0)"
   ]
  },
  {
   "cell_type": "code",
   "execution_count": 87,
   "metadata": {},
   "outputs": [
    {
     "name": "stdout",
     "output_type": "stream",
     "text": [
      "              precision    recall  f1-score   support\n",
      "\n",
      "           0       0.76      0.39      0.51     32930\n",
      "           1       0.04      0.32      0.08      1319\n",
      "           2       0.11      0.13      0.12      3730\n",
      "           3       0.16      0.34      0.22       413\n",
      "           4       0.08      0.26      0.13       626\n",
      "           5       0.26      0.46      0.33       265\n",
      "           6       0.16      0.47      0.24      1035\n",
      "           7       0.31      0.50      0.38       264\n",
      "           8       0.05      0.24      0.09       715\n",
      "           9       0.09      0.52      0.16       183\n",
      "\n",
      "    accuracy                           0.36     41480\n",
      "   macro avg       0.20      0.36      0.23     41480\n",
      "weighted avg       0.63      0.36      0.44     41480\n",
      "\n"
     ]
    }
   ],
   "source": [
    "print(classification_report(y_train,np.argmax(mymodel.predict(xatk),axis=1)))"
   ]
  },
  {
   "cell_type": "code",
   "execution_count": 88,
   "metadata": {},
   "outputs": [
    {
     "name": "stdout",
     "output_type": "stream",
     "text": [
      "              precision    recall  f1-score   support\n",
      "\n",
      "           0       0.98      0.94      0.96     32930\n",
      "           1       0.57      0.97      0.72      1319\n",
      "           2       0.83      0.90      0.86      3730\n",
      "           3       0.96      0.97      0.97       413\n",
      "           4       0.89      0.90      0.89       626\n",
      "           5       0.98      0.97      0.97       265\n",
      "           6       0.82      0.94      0.88      1035\n",
      "           7       0.95      0.97      0.96       264\n",
      "           8       0.86      0.94      0.90       715\n",
      "           9       0.63      0.95      0.76       183\n",
      "\n",
      "    accuracy                           0.94     41480\n",
      "   macro avg       0.85      0.95      0.89     41480\n",
      "weighted avg       0.95      0.94      0.94     41480\n",
      "\n"
     ]
    }
   ],
   "source": [
    "print(classification_report(y_train,np.argmax(mymodel.predict(X_train),axis=1)))"
   ]
  },
  {
   "cell_type": "code",
   "execution_count": null,
   "metadata": {},
   "outputs": [],
   "source": []
  }
 ],
 "metadata": {
  "kernelspec": {
   "display_name": "Python 3",
   "language": "python",
   "name": "python3"
  },
  "language_info": {
   "codemirror_mode": {
    "name": "ipython",
    "version": 3
   },
   "file_extension": ".py",
   "mimetype": "text/x-python",
   "name": "python",
   "nbconvert_exporter": "python",
   "pygments_lexer": "ipython3",
   "version": "3.7.5"
  }
 },
 "nbformat": 4,
 "nbformat_minor": 2
}
